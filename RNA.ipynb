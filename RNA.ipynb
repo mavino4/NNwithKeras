{
 "cells": [
  {
   "cell_type": "code",
   "execution_count": 45,
   "metadata": {
    "scrolled": true
   },
   "outputs": [],
   "source": [
    "import keras\n",
    "import numpy as np\n",
    "import pandas as pd\n",
    "import matplotlib.pyplot as plt\n",
    "from sklearn.model_selection import train_test_split"
   ]
  },
  {
   "cell_type": "code",
   "execution_count": 46,
   "metadata": {},
   "outputs": [],
   "source": [
    "%matplotlib inline"
   ]
  },
  {
   "cell_type": "markdown",
   "metadata": {},
   "source": [
    "## Spliting\n",
    "Genrando la partición de la muestra de entranamiento y de evaluación"
   ]
  },
  {
   "cell_type": "code",
   "execution_count": 241,
   "metadata": {},
   "outputs": [],
   "source": [
    "Total = pd.read_excel(\"jsonmatriz(4).xlsx\", skiprows=1) # importando"
   ]
  },
  {
   "cell_type": "code",
   "execution_count": 242,
   "metadata": {},
   "outputs": [
    {
     "data": {
      "text/plain": [
       "(100, 13686)"
      ]
     },
     "execution_count": 242,
     "metadata": {},
     "output_type": "execute_result"
    }
   ],
   "source": [
    "Total.shape # tamaño del dataset"
   ]
  },
  {
   "cell_type": "code",
   "execution_count": 243,
   "metadata": {},
   "outputs": [
    {
     "data": {
      "text/plain": [
       "(100, 13684)"
      ]
     },
     "execution_count": 243,
     "metadata": {},
     "output_type": "execute_result"
    }
   ],
   "source": [
    "Total = Total.iloc[:,1:] #eliminando primera columna\n",
    "y = Total.loc[:,\"Clasificador\"] # Extrayendo clases\n",
    "Total.drop(columns=\"Clasificador\", axis=0, inplace=True) #Eliminando y de la matriz de entrada\n",
    "Total.shape"
   ]
  },
  {
   "cell_type": "code",
   "execution_count": 244,
   "metadata": {},
   "outputs": [
    {
     "data": {
      "text/plain": [
       "5856"
      ]
     },
     "execution_count": 244,
     "metadata": {},
     "output_type": "execute_result"
    }
   ],
   "source": [
    "a = 0 \n",
    "for i in Total.sum(axis=0):\n",
    "    if i > 0 :\n",
    "        a += 1 \n",
    "a"
   ]
  },
  {
   "cell_type": "code",
   "execution_count": 245,
   "metadata": {},
   "outputs": [
    {
     "data": {
      "text/plain": [
       "3276"
      ]
     },
     "execution_count": 245,
     "metadata": {},
     "output_type": "execute_result"
    }
   ],
   "source": [
    "a = 0 \n",
    "for i in Total.sum(axis=0):\n",
    "    if i == 1 :\n",
    "        a += 1 \n",
    "a"
   ]
  },
  {
   "cell_type": "code",
   "execution_count": 246,
   "metadata": {
    "scrolled": false
   },
   "outputs": [
    {
     "data": {
      "text/plain": [
       "TfidfTransformer(norm='l2', smooth_idf=False, sublinear_tf=False,\n",
       "         use_idf=True)"
      ]
     },
     "execution_count": 246,
     "metadata": {},
     "output_type": "execute_result"
    }
   ],
   "source": [
    "from sklearn.feature_extraction.text import TfidfTransformer #importando TD IDF de sklearn\n",
    "transformer = TfidfTransformer(smooth_idf=False) ##seteandola en la función transformer\n",
    "transformer   "
   ]
  },
  {
   "cell_type": "code",
   "execution_count": 247,
   "metadata": {},
   "outputs": [
    {
     "name": "stderr",
     "output_type": "stream",
     "text": [
      "/usr/local/lib/python3.6/dist-packages/sklearn/feature_extraction/text.py:1222: RuntimeWarning: divide by zero encountered in true_divide\n",
      "  idf = np.log(n_samples / df) + 1\n"
     ]
    }
   ],
   "source": [
    "tfidf = transformer.fit_transform(Total.values) # aplicando la funcion Tf Idf al data set \n",
    "tfidf \n",
    "X = tfidf.toarray()"
   ]
  },
  {
   "cell_type": "code",
   "execution_count": 73,
   "metadata": {},
   "outputs": [],
   "source": [
    "## Separando las muestras de entrenamiento y de control \n",
    "X_train, X_test, y_train, y_test = train_test_split(\n",
    "    X, y, test_size=0.2,) #random_state=123)"
   ]
  },
  {
   "cell_type": "code",
   "execution_count": 74,
   "metadata": {},
   "outputs": [
    {
     "data": {
      "text/plain": [
       "(80, 13684)"
      ]
     },
     "execution_count": 74,
     "metadata": {},
     "output_type": "execute_result"
    }
   ],
   "source": [
    "X_train.shape"
   ]
  },
  {
   "cell_type": "code",
   "execution_count": 75,
   "metadata": {
    "scrolled": true
   },
   "outputs": [
    {
     "data": {
      "text/plain": [
       "(20, 13684)"
      ]
     },
     "execution_count": 75,
     "metadata": {},
     "output_type": "execute_result"
    }
   ],
   "source": [
    "X_test.shape"
   ]
  },
  {
   "cell_type": "code",
   "execution_count": 251,
   "metadata": {
    "scrolled": true
   },
   "outputs": [
    {
     "data": {
      "text/plain": [
       "(array([65.,  0.,  0.,  0.,  0.,  0.,  0.,  0.,  0., 35.]),\n",
       " array([0. , 0.1, 0.2, 0.3, 0.4, 0.5, 0.6, 0.7, 0.8, 0.9, 1. ]),\n",
       " <a list of 10 Patch objects>)"
      ]
     },
     "execution_count": 251,
     "metadata": {},
     "output_type": "execute_result"
    },
    {
     "data": {
      "image/png": "[encoded data removed]",
      "text/plain": [
       "<Figure size 432x288 with 1 Axes>"
      ]
     },
     "metadata": {},
     "output_type": "display_data"
    }
   ],
   "source": [
    "plt.hist(y) #Distribucion total"
   ]
  },
  {
   "cell_type": "code",
   "execution_count": 260,
   "metadata": {
    "scrolled": true
   },
   "outputs": [
    {
     "data": {
      "text/plain": [
       "(array([53.,  0.,  0.,  0.,  0.,  0.,  0.,  0.,  0., 27.]),\n",
       " array([0. , 0.1, 0.2, 0.3, 0.4, 0.5, 0.6, 0.7, 0.8, 0.9, 1. ]),\n",
       " <a list of 10 Patch objects>)"
      ]
     },
     "execution_count": 260,
     "metadata": {},
     "output_type": "execute_result"
    },
    {
     "data": {
      "image/png": "[encoded data removed]",
      "text/plain": [
       "<Figure size 432x288 with 1 Axes>"
      ]
     },
     "metadata": {},
     "output_type": "display_data"
    }
   ],
   "source": [
    "plt.hist(y_train) #Distribucion y de entrenamiento"
   ]
  },
  {
   "cell_type": "code",
   "execution_count": 253,
   "metadata": {},
   "outputs": [
    {
     "data": {
      "text/plain": [
       "(array([65.,  0.,  0.,  0.,  0.,  0.,  0.,  0.,  0., 35.]),\n",
       " array([0. , 0.1, 0.2, 0.3, 0.4, 0.5, 0.6, 0.7, 0.8, 0.9, 1. ]),\n",
       " <a list of 10 Patch objects>)"
      ]
     },
     "execution_count": 253,
     "metadata": {},
     "output_type": "execute_result"
    },
    {
     "data": {
      "image/png": "[encoded data removed]",
      "text/plain": [
       "<Figure size 432x288 with 1 Axes>"
      ]
     },
     "metadata": {},
     "output_type": "display_data"
    }
   ],
   "source": [
    "plt.hist(y) #Distribucion y de prueba "
   ]
  },
  {
   "cell_type": "markdown",
   "metadata": {},
   "source": [
    "## Definiendo la arquitectura de la red neuronal"
   ]
  },
  {
   "cell_type": "code",
   "execution_count": 76,
   "metadata": {},
   "outputs": [],
   "source": [
    "from keras.models import Sequential\n",
    "from keras.layers import Dense\n",
    "from keras import optimizers"
   ]
  },
  {
   "cell_type": "code",
   "execution_count": 136,
   "metadata": {},
   "outputs": [],
   "source": [
    "sgd = optimizers.SGD(lr=0.01, decay=1e-6, momentum=0.0 ,nesterov=True)\n",
    "rmsprop = keras.optimizers.RMSprop(lr=0.001, rho=0.9, epsilon=None, decay=0.0)\n",
    "adagrad =  keras.optimizers.Adagrad(lr=0.01, epsilon=None, decay=0.0)\n",
    "adadelta = keras.optimizers.Adadelta(lr=1.0, rho=0.95, epsilon=None, decay=0.0)\n",
    "adam= keras.optimizers.Adam(lr=0.001, beta_1=0.9, beta_2=0.999, epsilon=None, decay=0.0, amsgrad=False)\n",
    "nadam = keras.optimizers.Nadam(lr=0.002, beta_1=0.9, beta_2=0.999, epsilon=None, schedule_decay=0.004)"
   ]
  },
  {
   "cell_type": "code",
   "execution_count": 160,
   "metadata": {},
   "outputs": [],
   "source": [
    "model = Sequential()\n",
    "\n",
    "model.add(Dense(500, activation='relu', input_shape=(13684,)))\n",
    "\n",
    "model.add(Dense(200, activation='sigmoid'))\n",
    "\n",
    "model.add(Dense(500, activation='relu'))\n",
    "\n",
    "model.add(Dense(1, activation='sigmoid'))"
   ]
  },
  {
   "cell_type": "code",
   "execution_count": 161,
   "metadata": {},
   "outputs": [
    {
     "data": {
      "text/plain": [
       "(None, 1)"
      ]
     },
     "execution_count": 161,
     "metadata": {},
     "output_type": "execute_result"
    }
   ],
   "source": [
    "# Model output shape\n",
    "model.output_shape\n"
   ]
  },
  {
   "cell_type": "code",
   "execution_count": 162,
   "metadata": {
    "scrolled": true
   },
   "outputs": [
    {
     "name": "stdout",
     "output_type": "stream",
     "text": [
      "_________________________________________________________________\n",
      "Layer (type)                 Output Shape              Param #   \n",
      "=================================================================\n",
      "dense_25 (Dense)             (None, 500)               6842500   \n",
      "_________________________________________________________________\n",
      "dense_26 (Dense)             (None, 200)               100200    \n",
      "_________________________________________________________________\n",
      "dense_27 (Dense)             (None, 500)               100500    \n",
      "_________________________________________________________________\n",
      "dense_28 (Dense)             (None, 1)                 501       \n",
      "=================================================================\n",
      "Total params: 7,043,701\n",
      "Trainable params: 7,043,701\n",
      "Non-trainable params: 0\n",
      "_________________________________________________________________\n"
     ]
    }
   ],
   "source": [
    "# Model summary\n",
    "model.summary()"
   ]
  },
  {
   "cell_type": "code",
   "execution_count": 163,
   "metadata": {},
   "outputs": [],
   "source": [
    "# Model config\n",
    "# model.get_config()"
   ]
  },
  {
   "cell_type": "code",
   "execution_count": 164,
   "metadata": {
    "scrolled": false
   },
   "outputs": [],
   "source": [
    "# List all weight tensors \n",
    "# model.get_weights()"
   ]
  },
  {
   "cell_type": "markdown",
   "metadata": {},
   "source": [
    "## Entrenando la RED"
   ]
  },
  {
   "cell_type": "code",
   "execution_count": 165,
   "metadata": {},
   "outputs": [],
   "source": [
    "from keras.callbacks import History \n",
    "history = History()"
   ]
  },
  {
   "cell_type": "code",
   "execution_count": 216,
   "metadata": {},
   "outputs": [],
   "source": [
    "model.compile(loss='binary_crossentropy',\n",
    "              optimizer='adam',\n",
    "              metrics=['accuracy'])"
   ]
  },
  {
   "cell_type": "code",
   "execution_count": 220,
   "metadata": {
    "scrolled": false
   },
   "outputs": [
    {
     "name": "stdout",
     "output_type": "stream",
     "text": [
      "Epoch 1/50\n",
      "80/80 [==============================] - 0s 3ms/step - loss: 1.0997e-07 - acc: 1.0000\n",
      "Epoch 2/50\n",
      "80/80 [==============================] - 0s 3ms/step - loss: 1.0996e-07 - acc: 1.0000\n",
      "Epoch 3/50\n",
      "80/80 [==============================] - 0s 2ms/step - loss: 1.0995e-07 - acc: 1.0000\n",
      "Epoch 4/50\n",
      "80/80 [==============================] - 0s 2ms/step - loss: 1.0994e-07 - acc: 1.0000\n",
      "Epoch 5/50\n",
      "80/80 [==============================] - 0s 2ms/step - loss: 1.0993e-07 - acc: 1.0000\n",
      "Epoch 6/50\n",
      "80/80 [==============================] - 0s 2ms/step - loss: 1.0993e-07 - acc: 1.0000\n",
      "Epoch 7/50\n",
      "80/80 [==============================] - 0s 2ms/step - loss: 1.0992e-07 - acc: 1.0000\n",
      "Epoch 8/50\n",
      "80/80 [==============================] - 0s 3ms/step - loss: 1.0991e-07 - acc: 1.0000\n",
      "Epoch 9/50\n",
      "80/80 [==============================] - 0s 2ms/step - loss: 1.0990e-07 - acc: 1.0000\n",
      "Epoch 10/50\n",
      "80/80 [==============================] - 0s 2ms/step - loss: 1.0989e-07 - acc: 1.0000\n",
      "Epoch 11/50\n",
      "80/80 [==============================] - 0s 2ms/step - loss: 1.0988e-07 - acc: 1.0000\n",
      "Epoch 12/50\n",
      "80/80 [==============================] - 0s 3ms/step - loss: 1.0987e-07 - acc: 1.0000\n",
      "Epoch 13/50\n",
      "80/80 [==============================] - 0s 3ms/step - loss: 1.0986e-07 - acc: 1.0000\n",
      "Epoch 14/50\n",
      "80/80 [==============================] - 0s 3ms/step - loss: 1.0985e-07 - acc: 1.0000\n",
      "Epoch 15/50\n",
      "80/80 [==============================] - 0s 3ms/step - loss: 1.0984e-07 - acc: 1.0000\n",
      "Epoch 16/50\n",
      "80/80 [==============================] - 0s 2ms/step - loss: 1.0984e-07 - acc: 1.0000\n",
      "Epoch 17/50\n",
      "80/80 [==============================] - 0s 2ms/step - loss: 1.0983e-07 - acc: 1.0000\n",
      "Epoch 18/50\n",
      "80/80 [==============================] - 0s 3ms/step - loss: 1.0982e-07 - acc: 1.0000\n",
      "Epoch 19/50\n",
      "80/80 [==============================] - 0s 3ms/step - loss: 1.0981e-07 - acc: 1.0000\n",
      "Epoch 20/50\n",
      "80/80 [==============================] - 0s 2ms/step - loss: 1.0980e-07 - acc: 1.0000\n",
      "Epoch 21/50\n",
      "80/80 [==============================] - 0s 2ms/step - loss: 1.0979e-07 - acc: 1.0000\n",
      "Epoch 22/50\n",
      "80/80 [==============================] - 0s 2ms/step - loss: 1.0978e-07 - acc: 1.0000\n",
      "Epoch 23/50\n",
      "80/80 [==============================] - 0s 2ms/step - loss: 1.0977e-07 - acc: 1.0000\n",
      "Epoch 24/50\n",
      "80/80 [==============================] - 0s 2ms/step - loss: 1.0976e-07 - acc: 1.0000\n",
      "Epoch 25/50\n",
      "80/80 [==============================] - 0s 2ms/step - loss: 1.0975e-07 - acc: 1.0000\n",
      "Epoch 26/50\n",
      "80/80 [==============================] - 0s 2ms/step - loss: 1.0974e-07 - acc: 1.0000\n",
      "Epoch 27/50\n",
      "80/80 [==============================] - 0s 2ms/step - loss: 1.0973e-07 - acc: 1.0000\n",
      "Epoch 28/50\n",
      "80/80 [==============================] - 0s 3ms/step - loss: 1.0972e-07 - acc: 1.0000\n",
      "Epoch 29/50\n",
      "80/80 [==============================] - 0s 3ms/step - loss: 1.0971e-07 - acc: 1.0000\n",
      "Epoch 30/50\n",
      "80/80 [==============================] - 0s 2ms/step - loss: 1.0971e-07 - acc: 1.0000\n",
      "Epoch 31/50\n",
      "80/80 [==============================] - 0s 3ms/step - loss: 1.0970e-07 - acc: 1.0000\n",
      "Epoch 32/50\n",
      "80/80 [==============================] - 0s 2ms/step - loss: 1.0969e-07 - acc: 1.0000\n",
      "Epoch 33/50\n",
      "80/80 [==============================] - 0s 3ms/step - loss: 1.0968e-07 - acc: 1.0000\n",
      "Epoch 34/50\n",
      "80/80 [==============================] - 0s 3ms/step - loss: 1.0967e-07 - acc: 1.0000\n",
      "Epoch 35/50\n",
      "80/80 [==============================] - 0s 3ms/step - loss: 1.0966e-07 - acc: 1.0000\n",
      "Epoch 36/50\n",
      "80/80 [==============================] - 0s 3ms/step - loss: 1.0965e-07 - acc: 1.0000\n",
      "Epoch 37/50\n",
      "80/80 [==============================] - 0s 3ms/step - loss: 1.0964e-07 - acc: 1.0000\n",
      "Epoch 38/50\n",
      "80/80 [==============================] - 0s 3ms/step - loss: 1.0963e-07 - acc: 1.0000\n",
      "Epoch 39/50\n",
      "80/80 [==============================] - 0s 2ms/step - loss: 1.0962e-07 - acc: 1.0000\n",
      "Epoch 40/50\n",
      "80/80 [==============================] - 0s 3ms/step - loss: 1.0962e-07 - acc: 1.0000\n",
      "Epoch 41/50\n",
      "80/80 [==============================] - 0s 3ms/step - loss: 1.0961e-07 - acc: 1.0000\n",
      "Epoch 42/50\n",
      "80/80 [==============================] - 0s 3ms/step - loss: 1.0960e-07 - acc: 1.0000\n",
      "Epoch 43/50\n",
      "80/80 [==============================] - 0s 2ms/step - loss: 1.0959e-07 - acc: 1.0000\n",
      "Epoch 44/50\n",
      "80/80 [==============================] - 0s 2ms/step - loss: 1.0958e-07 - acc: 1.0000\n",
      "Epoch 45/50\n",
      "80/80 [==============================] - 0s 2ms/step - loss: 1.0957e-07 - acc: 1.0000\n",
      "Epoch 46/50\n",
      "80/80 [==============================] - 0s 2ms/step - loss: 1.0956e-07 - acc: 1.0000\n",
      "Epoch 47/50\n",
      "80/80 [==============================] - 0s 3ms/step - loss: 1.0955e-07 - acc: 1.0000\n",
      "Epoch 48/50\n",
      "80/80 [==============================] - 0s 2ms/step - loss: 1.0955e-07 - acc: 1.0000\n",
      "Epoch 49/50\n",
      "80/80 [==============================] - 0s 3ms/step - loss: 1.0954e-07 - acc: 1.0000\n",
      "Epoch 50/50\n",
      "80/80 [==============================] - 0s 2ms/step - loss: 1.0953e-07 - acc: 1.0000\n"
     ]
    },
    {
     "data": {
      "text/plain": [
       "<keras.callbacks.History at 0x7fc5d6cc4da0>"
      ]
     },
     "execution_count": 220,
     "metadata": {},
     "output_type": "execute_result"
    }
   ],
   "source": [
    "model.fit(X_train, y_train,epochs=50, batch_size=80, verbose=1,callbacks=[history],)"
   ]
  },
  {
   "cell_type": "code",
   "execution_count": null,
   "metadata": {},
   "outputs": [],
   "source": []
  },
  {
   "cell_type": "code",
   "execution_count": 221,
   "metadata": {},
   "outputs": [
    {
     "data": {
      "text/plain": [
       "[<matplotlib.lines.Line2D at 0x7fc5d303bb00>]"
      ]
     },
     "execution_count": 221,
     "metadata": {},
     "output_type": "execute_result"
    },
    {
     "data": {
      "image/png": "[encoded data removed]",
      "text/plain": [
       "<Figure size 432x288 with 1 Axes>"
      ]
     },
     "metadata": {},
     "output_type": "display_data"
    }
   ],
   "source": [
    "plt.plot(history.history[\"loss\"])"
   ]
  },
  {
   "cell_type": "code",
   "execution_count": 222,
   "metadata": {},
   "outputs": [
    {
     "data": {
      "text/plain": [
       "76    0\n",
       "83    0\n",
       "85    0\n",
       "55    0\n",
       "3     0\n",
       "Name: Clasificador, dtype: int64"
      ]
     },
     "execution_count": 222,
     "metadata": {},
     "output_type": "execute_result"
    }
   ],
   "source": [
    "y_train[:5]"
   ]
  },
  {
   "cell_type": "markdown",
   "metadata": {},
   "source": [
    "## Generando las predicciones"
   ]
  },
  {
   "cell_type": "code",
   "execution_count": 223,
   "metadata": {},
   "outputs": [
    {
     "data": {
      "text/plain": [
       "array([[1],\n",
       "       [1],\n",
       "       [0],\n",
       "       [0],\n",
       "       [0]], dtype=int32)"
      ]
     },
     "execution_count": 223,
     "metadata": {},
     "output_type": "execute_result"
    }
   ],
   "source": [
    "y_pred = model.predict_classes(X_test) # \n",
    "y_pred[:5]"
   ]
  },
  {
   "cell_type": "code",
   "execution_count": 224,
   "metadata": {},
   "outputs": [
    {
     "name": "stdout",
     "output_type": "stream",
     "text": [
      "20/20 [==============================] - 0s 9ms/step\n",
      "[2.531792163848877, 0.6499999761581421]\n"
     ]
    }
   ],
   "source": [
    "score = model.evaluate(X_test, y_test,verbose=1)\n",
    "print(score)"
   ]
  },
  {
   "cell_type": "markdown",
   "metadata": {},
   "source": [
    "## Evaluando el modelo "
   ]
  },
  {
   "cell_type": "code",
   "execution_count": 225,
   "metadata": {
    "scrolled": true
   },
   "outputs": [],
   "source": [
    "# Import the modules from `sklearn.metrics`\n",
    "from sklearn.metrics import confusion_matrix, precision_score, recall_score, f1_score, cohen_kappa_score"
   ]
  },
  {
   "cell_type": "code",
   "execution_count": 226,
   "metadata": {
    "scrolled": false
   },
   "outputs": [
    {
     "name": "stdout",
     "output_type": "stream",
     "text": [
      "1 [1]\n",
      "1 [1]\n",
      "0 [0]\n",
      "0 [0]\n",
      "1 [0]\n",
      "0 [1]\n",
      "0 [0]\n",
      "0 [0]\n",
      "0 [1]\n",
      "1 [1]\n",
      "0 [0]\n",
      "1 [1]\n",
      "1 [1]\n",
      "0 [1]\n",
      "0 [0]\n",
      "0 [0]\n",
      "1 [0]\n",
      "1 [0]\n",
      "0 [1]\n",
      "0 [0]\n"
     ]
    }
   ],
   "source": [
    "for y, yhat in zip(y_test , y_pred):\n",
    "    print (y, yhat)"
   ]
  },
  {
   "cell_type": "code",
   "execution_count": 227,
   "metadata": {},
   "outputs": [
    {
     "data": {
      "text/plain": [
       "array([[8, 4],\n",
       "       [3, 5]])"
      ]
     },
     "execution_count": 227,
     "metadata": {},
     "output_type": "execute_result"
    }
   ],
   "source": [
    "# Confusion matrix en valores absolutos \n",
    "confusion_matrix(y_test, y_pred) "
   ]
  },
  {
   "cell_type": "code",
   "execution_count": 228,
   "metadata": {},
   "outputs": [
    {
     "data": {
      "text/plain": [
       "0.5555555555555556"
      ]
     },
     "execution_count": 228,
     "metadata": {},
     "output_type": "execute_result"
    }
   ],
   "source": [
    "precision_score(y_test, y_pred)"
   ]
  },
  {
   "cell_type": "code",
   "execution_count": 229,
   "metadata": {},
   "outputs": [
    {
     "data": {
      "text/plain": [
       "0.5882352941176471"
      ]
     },
     "execution_count": 229,
     "metadata": {},
     "output_type": "execute_result"
    }
   ],
   "source": [
    "f1_score(y_test,y_pred)"
   ]
  },
  {
   "cell_type": "markdown",
   "metadata": {},
   "source": [
    "# Guardando los pesos"
   ]
  },
  {
   "cell_type": "code",
   "execution_count": 230,
   "metadata": {},
   "outputs": [],
   "source": [
    "model.save(\"models/ModeloADAM\") "
   ]
  },
  {
   "cell_type": "code",
   "execution_count": 231,
   "metadata": {},
   "outputs": [
    {
     "name": "stdout",
     "output_type": "stream",
     "text": [
      "20/20 [==============================] - 0s 1ms/step\n",
      "[2.531792163848877, 0.6499999761581421]\n"
     ]
    }
   ],
   "source": [
    "score = model.evaluate(X_test, y_test,verbose=1)\n",
    "print(score)"
   ]
  },
  {
   "cell_type": "code",
   "execution_count": 232,
   "metadata": {},
   "outputs": [],
   "source": [
    "model.load_weights(\"models/ModeloRMSPROP\")"
   ]
  },
  {
   "cell_type": "code",
   "execution_count": 233,
   "metadata": {
    "scrolled": true
   },
   "outputs": [
    {
     "name": "stdout",
     "output_type": "stream",
     "text": [
      "20/20 [==============================] - 0s 988us/step\n",
      "[2.476580858230591, 0.6499999761581421]\n"
     ]
    }
   ],
   "source": [
    "score = model.evaluate(X_test, y_test,verbose=1)\n",
    "print(score)"
   ]
  },
  {
   "cell_type": "code",
   "execution_count": null,
   "metadata": {},
   "outputs": [],
   "source": []
  }
 ],
 "metadata": {
  "kernelspec": {
   "display_name": "Python 3",
   "language": "python",
   "name": "python3"
  },
  "language_info": {
   "codemirror_mode": {
    "name": "ipython",
    "version": 3
   },
   "file_extension": ".py",
   "mimetype": "text/x-python",
   "name": "python",
   "nbconvert_exporter": "python",
   "pygments_lexer": "ipython3",
   "version": "3.6.3"
  }
 },
 "nbformat": 4,
 "nbformat_minor": 2
}
