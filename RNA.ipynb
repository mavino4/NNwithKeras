{
 "cells": [
  {
   "cell_type": "code",
   "execution_count": 1,
   "metadata": {
    "scrolled": true
   },
   "outputs": [
    {
     "name": "stderr",
     "output_type": "stream",
     "text": [
      "/usr/local/lib/python3.6/dist-packages/h5py/__init__.py:36: FutureWarning: Conversion of the second argument of issubdtype from `float` to `np.floating` is deprecated. In future, it will be treated as `np.float64 == np.dtype(float).type`.\n",
      "  from ._conv import register_converters as _register_converters\n",
      "Using TensorFlow backend.\n"
     ]
    }
   ],
   "source": [
    "import keras\n",
    "import numpy as np\n",
    "import pandas as pd\n",
    "import matplotlib.pyplot as plt\n",
    "from sklearn.model_selection import train_test_split"
   ]
  },
  {
   "cell_type": "code",
   "execution_count": 2,
   "metadata": {},
   "outputs": [],
   "source": [
    "%matplotlib inline"
   ]
  },
  {
   "cell_type": "markdown",
   "metadata": {},
   "source": [
    "## Spliting\n",
    "Genrando la partición de la muestra de entranamiento y de evaluación"
   ]
  },
  {
   "cell_type": "code",
   "execution_count": 3,
   "metadata": {},
   "outputs": [],
   "source": [
    "Total = pd.read_excel(\"matriz_final_1.xlsx\", skiprows=1) # importando"
   ]
  },
  {
   "cell_type": "code",
   "execution_count": 4,
   "metadata": {},
   "outputs": [
    {
     "data": {
      "text/plain": [
       "(101, 14246)"
      ]
     },
     "execution_count": 4,
     "metadata": {},
     "output_type": "execute_result"
    }
   ],
   "source": [
    "Total.shape # tamaño del dataset"
   ]
  },
  {
   "cell_type": "code",
   "execution_count": 5,
   "metadata": {},
   "outputs": [
    {
     "data": {
      "text/plain": [
       "(101, 14244)"
      ]
     },
     "execution_count": 5,
     "metadata": {},
     "output_type": "execute_result"
    }
   ],
   "source": [
    "Total = Total.iloc[:,1:] #eliminando primera columna\n",
    "y = Total.loc[:,\"Clasificador\"] # Extrayendo clases\n",
    "Total.drop(columns=\"Clasificador\", axis=0, inplace=True) #Eliminando y de la matriz de entrada\n",
    "Total.shape"
   ]
  },
  {
   "cell_type": "code",
   "execution_count": 6,
   "metadata": {},
   "outputs": [
    {
     "data": {
      "text/plain": [
       "14244"
      ]
     },
     "execution_count": 6,
     "metadata": {},
     "output_type": "execute_result"
    }
   ],
   "source": [
    "a = 0 \n",
    "for i in Total.sum(axis=0):\n",
    "    if i > 0 :\n",
    "        a += 1 \n",
    "a"
   ]
  },
  {
   "cell_type": "code",
   "execution_count": 7,
   "metadata": {},
   "outputs": [
    {
     "data": {
      "text/plain": [
       "0"
      ]
     },
     "execution_count": 7,
     "metadata": {},
     "output_type": "execute_result"
    }
   ],
   "source": [
    "a = 0 \n",
    "for i in Total.sum(axis=0):\n",
    "    if i == 1 :\n",
    "        a += 1 \n",
    "a"
   ]
  },
  {
   "cell_type": "code",
   "execution_count": 8,
   "metadata": {
    "scrolled": false
   },
   "outputs": [
    {
     "data": {
      "text/plain": [
       "TfidfTransformer(norm='l2', smooth_idf=False, sublinear_tf=False,\n",
       "         use_idf=True)"
      ]
     },
     "execution_count": 8,
     "metadata": {},
     "output_type": "execute_result"
    }
   ],
   "source": [
    "from sklearn.feature_extraction.text import TfidfTransformer #importando TD IDF de sklearn\n",
    "transformer = TfidfTransformer(smooth_idf=False) ##seteandola en la función transformer\n",
    "transformer   "
   ]
  },
  {
   "cell_type": "code",
   "execution_count": 9,
   "metadata": {},
   "outputs": [],
   "source": [
    "tfidf = transformer.fit_transform(Total.values) # aplicando la funcion Tf Idf al data set \n",
    "tfidf \n",
    "X = tfidf.toarray()"
   ]
  },
  {
   "cell_type": "code",
   "execution_count": 10,
   "metadata": {},
   "outputs": [],
   "source": [
    "## Separando las muestras de entrenamiento y de control \n",
    "X_train, X_test, y_train, y_test = train_test_split(\n",
    "    X, y, test_size=0.2,) #random_state=123)"
   ]
  },
  {
   "cell_type": "code",
   "execution_count": 11,
   "metadata": {},
   "outputs": [
    {
     "data": {
      "text/plain": [
       "(80, 14244)"
      ]
     },
     "execution_count": 11,
     "metadata": {},
     "output_type": "execute_result"
    }
   ],
   "source": [
    "X_train.shape"
   ]
  },
  {
   "cell_type": "code",
   "execution_count": 12,
   "metadata": {
    "scrolled": true
   },
   "outputs": [
    {
     "data": {
      "text/plain": [
       "(21, 14244)"
      ]
     },
     "execution_count": 12,
     "metadata": {},
     "output_type": "execute_result"
    }
   ],
   "source": [
    "X_test.shape"
   ]
  },
  {
   "cell_type": "code",
   "execution_count": 13,
   "metadata": {
    "scrolled": true
   },
   "outputs": [
    {
     "data": {
      "text/plain": [
       "(array([56.,  0.,  0.,  0.,  0.,  0.,  0.,  0.,  0., 45.]),\n",
       " array([0. , 0.1, 0.2, 0.3, 0.4, 0.5, 0.6, 0.7, 0.8, 0.9, 1. ]),\n",
       " <a list of 10 Patch objects>)"
      ]
     },
     "execution_count": 13,
     "metadata": {},
     "output_type": "execute_result"
    },
    {
     "data": {
      "image/png": "[encoded data removed]",
      "text/plain": [
       "<Figure size 432x288 with 1 Axes>"
      ]
     },
     "metadata": {},
     "output_type": "display_data"
    }
   ],
   "source": [
    "plt.hist(y) #Distribucion total"
   ]
  },
  {
   "cell_type": "code",
   "execution_count": 14,
   "metadata": {
    "scrolled": true
   },
   "outputs": [
    {
     "data": {
      "text/plain": [
       "(array([45.,  0.,  0.,  0.,  0.,  0.,  0.,  0.,  0., 35.]),\n",
       " array([0. , 0.1, 0.2, 0.3, 0.4, 0.5, 0.6, 0.7, 0.8, 0.9, 1. ]),\n",
       " <a list of 10 Patch objects>)"
      ]
     },
     "execution_count": 14,
     "metadata": {},
     "output_type": "execute_result"
    },
    {
     "data": {
      "image/png": "[encoded data removed]",
      "text/plain": [
       "<Figure size 432x288 with 1 Axes>"
      ]
     },
     "metadata": {},
     "output_type": "display_data"
    }
   ],
   "source": [
    "plt.hist(y_train) #Distribucion y de entrenamiento"
   ]
  },
  {
   "cell_type": "code",
   "execution_count": 15,
   "metadata": {},
   "outputs": [
    {
     "data": {
      "text/plain": [
       "(array([11.,  0.,  0.,  0.,  0.,  0.,  0.,  0.,  0., 10.]),\n",
       " array([0. , 0.1, 0.2, 0.3, 0.4, 0.5, 0.6, 0.7, 0.8, 0.9, 1. ]),\n",
       " <a list of 10 Patch objects>)"
      ]
     },
     "execution_count": 15,
     "metadata": {},
     "output_type": "execute_result"
    },
    {
     "data": {
      "image/png": "[encoded data removed]",
      "text/plain": [
       "<Figure size 432x288 with 1 Axes>"
      ]
     },
     "metadata": {},
     "output_type": "display_data"
    }
   ],
   "source": [
    "plt.hist(y_test) #Distribucion y de prueba "
   ]
  },
  {
   "cell_type": "markdown",
   "metadata": {},
   "source": [
    "## Definiendo la arquitectura de la red neuronal"
   ]
  },
  {
   "cell_type": "code",
   "execution_count": 16,
   "metadata": {},
   "outputs": [],
   "source": [
    "from keras.models import Sequential\n",
    "from keras.layers import Dense\n",
    "from keras import optimizers"
   ]
  },
  {
   "cell_type": "code",
   "execution_count": 17,
   "metadata": {},
   "outputs": [],
   "source": [
    "sgd = optimizers.SGD(lr=0.01, decay=1e-6, momentum=0.0 ,nesterov=True)\n",
    "rmsprop = keras.optimizers.RMSprop(lr=0.001, rho=0.9, epsilon=None, decay=0.0)\n",
    "adagrad =  keras.optimizers.Adagrad(lr=0.01, epsilon=None, decay=0.0)\n",
    "adadelta = keras.optimizers.Adadelta(lr=1.0, rho=0.95, epsilon=None, decay=0.0)\n",
    "adam= keras.optimizers.Adam(lr=0.001, beta_1=0.9, beta_2=0.999, epsilon=None, decay=0.0, amsgrad=False)\n",
    "nadam = keras.optimizers.Nadam(lr=0.002, beta_1=0.9, beta_2=0.999, epsilon=None, schedule_decay=0.004)"
   ]
  },
  {
   "cell_type": "code",
   "execution_count": 18,
   "metadata": {},
   "outputs": [],
   "source": [
    "model = Sequential()\n",
    "\n",
    "model.add(Dense(500, activation='relu', input_shape=(14244,)))\n",
    "\n",
    "model.add(Dense(200, activation='sigmoid'))\n",
    "\n",
    "model.add(Dense(500, activation='relu'))\n",
    "\n",
    "model.add(Dense(1, activation='sigmoid'))"
   ]
  },
  {
   "cell_type": "code",
   "execution_count": 19,
   "metadata": {},
   "outputs": [
    {
     "data": {
      "text/plain": [
       "(None, 1)"
      ]
     },
     "execution_count": 19,
     "metadata": {},
     "output_type": "execute_result"
    }
   ],
   "source": [
    "# Model output shape\n",
    "model.output_shape\n"
   ]
  },
  {
   "cell_type": "code",
   "execution_count": 20,
   "metadata": {
    "scrolled": true
   },
   "outputs": [
    {
     "name": "stdout",
     "output_type": "stream",
     "text": [
      "_________________________________________________________________\n",
      "Layer (type)                 Output Shape              Param #   \n",
      "=================================================================\n",
      "dense_1 (Dense)              (None, 500)               7122500   \n",
      "_________________________________________________________________\n",
      "dense_2 (Dense)              (None, 200)               100200    \n",
      "_________________________________________________________________\n",
      "dense_3 (Dense)              (None, 500)               100500    \n",
      "_________________________________________________________________\n",
      "dense_4 (Dense)              (None, 1)                 501       \n",
      "=================================================================\n",
      "Total params: 7,323,701\n",
      "Trainable params: 7,323,701\n",
      "Non-trainable params: 0\n",
      "_________________________________________________________________\n"
     ]
    }
   ],
   "source": [
    "# Model summary\n",
    "model.summary()"
   ]
  },
  {
   "cell_type": "code",
   "execution_count": 21,
   "metadata": {},
   "outputs": [],
   "source": [
    "# Model config\n",
    "# model.get_config()"
   ]
  },
  {
   "cell_type": "code",
   "execution_count": 22,
   "metadata": {
    "scrolled": false
   },
   "outputs": [],
   "source": [
    "# List all weight tensors \n",
    "# model.get_weights()"
   ]
  },
  {
   "cell_type": "markdown",
   "metadata": {},
   "source": [
    "## Entrenando la RED"
   ]
  },
  {
   "cell_type": "code",
   "execution_count": 23,
   "metadata": {},
   "outputs": [],
   "source": [
    "from keras.callbacks import History \n",
    "history = History()"
   ]
  },
  {
   "cell_type": "code",
   "execution_count": 24,
   "metadata": {},
   "outputs": [],
   "source": [
    "model.compile(loss='binary_crossentropy',\n",
    "              optimizer='adam',\n",
    "              metrics=['accuracy'])"
   ]
  },
  {
   "cell_type": "code",
   "execution_count": 25,
   "metadata": {
    "scrolled": false
   },
   "outputs": [
    {
     "name": "stdout",
     "output_type": "stream",
     "text": [
      "Epoch 1/40\n",
      "80/80 [==============================] - 1s 13ms/step - loss: 0.7872 - acc: 0.5625\n",
      "Epoch 2/40\n",
      "80/80 [==============================] - 0s 4ms/step - loss: 0.7352 - acc: 0.4625\n",
      "Epoch 3/40\n",
      "80/80 [==============================] - 0s 4ms/step - loss: 0.7581 - acc: 0.4375\n",
      "Epoch 4/40\n",
      "80/80 [==============================] - 0s 4ms/step - loss: 0.7062 - acc: 0.4375\n",
      "Epoch 5/40\n",
      "80/80 [==============================] - 0s 4ms/step - loss: 0.7235 - acc: 0.5625\n",
      "Epoch 6/40\n",
      "80/80 [==============================] - 0s 4ms/step - loss: 0.7154 - acc: 0.5625\n",
      "Epoch 7/40\n",
      "80/80 [==============================] - 0s 4ms/step - loss: 0.6785 - acc: 0.5625\n",
      "Epoch 8/40\n",
      "80/80 [==============================] - 0s 4ms/step - loss: 0.6951 - acc: 0.4875\n",
      "Epoch 9/40\n",
      "80/80 [==============================] - 0s 4ms/step - loss: 0.6994 - acc: 0.4375\n",
      "Epoch 10/40\n",
      "80/80 [==============================] - 0s 4ms/step - loss: 0.6823 - acc: 0.5625\n",
      "Epoch 11/40\n",
      "80/80 [==============================] - 0s 4ms/step - loss: 0.6782 - acc: 0.5625\n",
      "Epoch 12/40\n",
      "80/80 [==============================] - 0s 4ms/step - loss: 0.6883 - acc: 0.5625\n",
      "Epoch 13/40\n",
      "80/80 [==============================] - 0s 4ms/step - loss: 0.6838 - acc: 0.5625\n",
      "Epoch 14/40\n",
      "80/80 [==============================] - 0s 4ms/step - loss: 0.6768 - acc: 0.5625\n",
      "Epoch 15/40\n",
      "80/80 [==============================] - 0s 4ms/step - loss: 0.6800 - acc: 0.3875\n",
      "Epoch 16/40\n",
      "80/80 [==============================] - 0s 4ms/step - loss: 0.6654 - acc: 0.7750\n",
      "Epoch 17/40\n",
      "80/80 [==============================] - 0s 4ms/step - loss: 0.6575 - acc: 0.5625\n",
      "Epoch 18/40\n",
      "80/80 [==============================] - 0s 4ms/step - loss: 0.6524 - acc: 0.5625\n",
      "Epoch 19/40\n",
      "80/80 [==============================] - 0s 4ms/step - loss: 0.6523 - acc: 0.5625\n",
      "Epoch 20/40\n",
      "80/80 [==============================] - 0s 4ms/step - loss: 0.6247 - acc: 1.0000\n",
      "Epoch 21/40\n",
      "80/80 [==============================] - 0s 4ms/step - loss: 0.6056 - acc: 0.6625\n",
      "Epoch 22/40\n",
      "80/80 [==============================] - 0s 4ms/step - loss: 0.5861 - acc: 0.7000\n",
      "Epoch 23/40\n",
      "80/80 [==============================] - 0s 4ms/step - loss: 0.5667 - acc: 0.5875\n",
      "Epoch 24/40\n",
      "80/80 [==============================] - 0s 4ms/step - loss: 0.5227 - acc: 0.7875\n",
      "Epoch 25/40\n",
      "80/80 [==============================] - 0s 4ms/step - loss: 0.4846 - acc: 1.0000\n",
      "Epoch 26/40\n",
      "80/80 [==============================] - 0s 4ms/step - loss: 0.4429 - acc: 1.0000\n",
      "Epoch 27/40\n",
      "80/80 [==============================] - 0s 4ms/step - loss: 0.3717 - acc: 1.0000\n",
      "Epoch 28/40\n",
      "80/80 [==============================] - 0s 4ms/step - loss: 0.3153 - acc: 1.0000\n",
      "Epoch 29/40\n",
      "80/80 [==============================] - 0s 4ms/step - loss: 0.2403 - acc: 1.0000\n",
      "Epoch 30/40\n",
      "80/80 [==============================] - 0s 4ms/step - loss: 0.1737 - acc: 1.0000\n",
      "Epoch 31/40\n",
      "80/80 [==============================] - 0s 4ms/step - loss: 0.1268 - acc: 1.0000\n",
      "Epoch 32/40\n",
      "80/80 [==============================] - 0s 4ms/step - loss: 0.0821 - acc: 1.0000\n",
      "Epoch 33/40\n",
      "80/80 [==============================] - 0s 4ms/step - loss: 0.0523 - acc: 1.0000\n",
      "Epoch 34/40\n",
      "80/80 [==============================] - 0s 4ms/step - loss: 0.0320 - acc: 1.0000\n",
      "Epoch 35/40\n",
      "80/80 [==============================] - 0s 4ms/step - loss: 0.0190 - acc: 1.0000\n",
      "Epoch 36/40\n",
      "80/80 [==============================] - 0s 4ms/step - loss: 0.0116 - acc: 1.0000\n",
      "Epoch 37/40\n",
      "80/80 [==============================] - 0s 4ms/step - loss: 0.0078 - acc: 1.0000\n",
      "Epoch 38/40\n",
      "80/80 [==============================] - 0s 4ms/step - loss: 0.0049 - acc: 1.0000\n",
      "Epoch 39/40\n",
      "80/80 [==============================] - 0s 4ms/step - loss: 0.0032 - acc: 1.0000\n",
      "Epoch 40/40\n",
      "80/80 [==============================] - 0s 4ms/step - loss: 0.0022 - acc: 1.0000\n"
     ]
    },
    {
     "data": {
      "text/plain": [
       "<keras.callbacks.History at 0x7fec71e0dba8>"
      ]
     },
     "execution_count": 25,
     "metadata": {},
     "output_type": "execute_result"
    }
   ],
   "source": [
    "model.fit(X_train, y_train,epochs=40, batch_size=40, verbose=1,callbacks=[history],)"
   ]
  },
  {
   "cell_type": "code",
   "execution_count": 26,
   "metadata": {},
   "outputs": [
    {
     "data": {
      "image/png": "[encoded data removed]",
      "text/plain": [
       "<Figure size 432x288 with 1 Axes>"
      ]
     },
     "metadata": {},
     "output_type": "display_data"
    }
   ],
   "source": [
    "plt.plot(history.history[\"loss\"])\n",
    "plt.savefig(\"función de costo.png\")"
   ]
  },
  {
   "cell_type": "code",
   "execution_count": 27,
   "metadata": {},
   "outputs": [
    {
     "data": {
      "image/png": "[encoded data removed]",
      "text/plain": [
       "<Figure size 432x288 with 1 Axes>"
      ]
     },
     "metadata": {},
     "output_type": "display_data"
    }
   ],
   "source": [
    "plt.plot(history.history[\"acc\"])\n",
    "plt.savefig(\"precisión del modelo.png\")"
   ]
  },
  {
   "cell_type": "code",
   "execution_count": 28,
   "metadata": {},
   "outputs": [
    {
     "data": {
      "text/plain": [
       "42    0\n",
       "16    0\n",
       "58    0\n",
       "47    1\n",
       "13    0\n",
       "Name: Clasificador, dtype: int64"
      ]
     },
     "execution_count": 28,
     "metadata": {},
     "output_type": "execute_result"
    }
   ],
   "source": [
    "y_train[:5]"
   ]
  },
  {
   "cell_type": "markdown",
   "metadata": {},
   "source": [
    "## Generando las predicciones"
   ]
  },
  {
   "cell_type": "code",
   "execution_count": 29,
   "metadata": {},
   "outputs": [
    {
     "data": {
      "text/plain": [
       "array([[0],\n",
       "       [0],\n",
       "       [0],\n",
       "       [1],\n",
       "       [0]], dtype=int32)"
      ]
     },
     "execution_count": 29,
     "metadata": {},
     "output_type": "execute_result"
    }
   ],
   "source": [
    "y_pred = model.predict_classes(X_train) # \n",
    "y_pred[:5]"
   ]
  },
  {
   "cell_type": "code",
   "execution_count": 30,
   "metadata": {},
   "outputs": [
    {
     "name": "stdout",
     "output_type": "stream",
     "text": [
      "21/21 [==============================] - 0s 4ms/step\n",
      "[0.6891007423400879, 0.523809552192688]\n"
     ]
    }
   ],
   "source": [
    "score = model.evaluate(X_test, y_test,verbose=1)\n",
    "print(score)"
   ]
  },
  {
   "cell_type": "markdown",
   "metadata": {},
   "source": [
    "## Evaluando el modelo "
   ]
  },
  {
   "cell_type": "code",
   "execution_count": 31,
   "metadata": {
    "scrolled": true
   },
   "outputs": [],
   "source": [
    "# Import the modules from `sklearn.metrics`\n",
    "from sklearn.metrics import confusion_matrix, precision_score, recall_score, f1_score, cohen_kappa_score"
   ]
  },
  {
   "cell_type": "code",
   "execution_count": 32,
   "metadata": {
    "scrolled": false
   },
   "outputs": [
    {
     "name": "stdout",
     "output_type": "stream",
     "text": [
      "0 [0]\n",
      "0 [0]\n",
      "0 [0]\n",
      "1 [1]\n",
      "0 [0]\n",
      "1 [0]\n",
      "0 [1]\n",
      "0 [1]\n",
      "1 [1]\n",
      "0 [0]\n",
      "1 [0]\n",
      "1 [0]\n",
      "1 [0]\n",
      "1 [0]\n",
      "0 [0]\n",
      "1 [0]\n",
      "0 [0]\n",
      "1 [1]\n",
      "1 [0]\n",
      "0 [1]\n",
      "0 [1]\n"
     ]
    }
   ],
   "source": [
    "for y_t, yhat in zip(y_test , y_pred):\n",
    "    print (y_t, yhat)"
   ]
  },
  {
   "cell_type": "code",
   "execution_count": 43,
   "metadata": {},
   "outputs": [
    {
     "name": "stdout",
     "output_type": "stream",
     "text": [
      "[[9 2]\n",
      " [5 5]]\n",
      "0.7142857142857143\n",
      "0.588235294117647\n"
     ]
    }
   ],
   "source": [
    "# Confusion matrix en valores absolutos  solamente el test \n",
    "y_pred = np.where(model.predict_proba(X_test)>0.4,1,0)\n",
    "print(confusion_matrix(y_test, y_pred) )\n",
    "print(precision_score(y_test, y_pred))\n",
    "print(f1_score(y_test,y_pred))"
   ]
  },
  {
   "cell_type": "code",
   "execution_count": 34,
   "metadata": {
    "scrolled": true
   },
   "outputs": [
    {
     "name": "stdout",
     "output_type": "stream",
     "text": [
      "[[54  2]\n",
      " [ 5 40]]\n",
      "0.9523809523809523\n",
      "0.9195402298850575\n"
     ]
    }
   ],
   "source": [
    "## Considerando todo el data set \n",
    "y_hat_prob = np.where(model.predict_proba(X)>0.41,1,0)\n",
    "print(confusion_matrix(y, y_hat_prob) )\n",
    "print(precision_score(y, y_hat_prob))\n",
    "print(f1_score(y,y_hat_prob))"
   ]
  },
  {
   "cell_type": "markdown",
   "metadata": {},
   "source": [
    "# Guardando los pesos"
   ]
  },
  {
   "cell_type": "code",
   "execution_count": 45,
   "metadata": {},
   "outputs": [],
   "source": [
    "model.save(\"models/ModeloADAM0.75\") "
   ]
  },
  {
   "cell_type": "code",
   "execution_count": 36,
   "metadata": {},
   "outputs": [
    {
     "name": "stdout",
     "output_type": "stream",
     "text": [
      "21/21 [==============================] - 0s 720us/step\n",
      "[0.6891007423400879, 0.523809552192688]\n"
     ]
    }
   ],
   "source": [
    "score = model.evaluate(X_test, y_test,verbose=1)\n",
    "print(score)"
   ]
  },
  {
   "cell_type": "code",
   "execution_count": 37,
   "metadata": {},
   "outputs": [],
   "source": [
    "#model.load_weights(\"models/ModeloADAM0.95\")"
   ]
  },
  {
   "cell_type": "code",
   "execution_count": 38,
   "metadata": {
    "scrolled": true
   },
   "outputs": [
    {
     "name": "stdout",
     "output_type": "stream",
     "text": [
      "21/21 [==============================] - 0s 813us/step\n",
      "[0.6891007423400879, 0.523809552192688]\n"
     ]
    }
   ],
   "source": [
    "score = model.evaluate(X_test, y_test,verbose=1)\n",
    "print(score)"
   ]
  },
  {
   "cell_type": "code",
   "execution_count": null,
   "metadata": {},
   "outputs": [],
   "source": []
  }
 ],
 "metadata": {
  "kernelspec": {
   "display_name": "Python 3",
   "language": "python",
   "name": "python3"
  },
  "language_info": {
   "codemirror_mode": {
    "name": "ipython",
    "version": 3
   },
   "file_extension": ".py",
   "mimetype": "text/x-python",
   "name": "python",
   "nbconvert_exporter": "python",
   "pygments_lexer": "ipython3",
   "version": "3.6.3"
  }
 },
 "nbformat": 4,
 "nbformat_minor": 2
}
