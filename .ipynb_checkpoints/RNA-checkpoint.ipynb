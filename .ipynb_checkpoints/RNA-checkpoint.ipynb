{
 "cells": [
  {
   "cell_type": "code",
   "execution_count": 37,
   "metadata": {
    "scrolled": true
   },
   "outputs": [],
   "source": [
    "import keras\n",
    "import numpy as np\n",
    "import pandas as pd\n",
    "import matplotlib.pyplot as plt\n",
    "from sklearn.model_selection import train_test_split\n",
    "plt.style.use('ggplot')"
   ]
  },
  {
   "cell_type": "code",
   "execution_count": 38,
   "metadata": {},
   "outputs": [],
   "source": [
    "%matplotlib inline"
   ]
  },
  {
   "cell_type": "markdown",
   "metadata": {},
   "source": [
    "## Spliting\n",
    "Genrando la partición de la muestra de entranamiento y de evaluación"
   ]
  },
  {
   "cell_type": "code",
   "execution_count": 135,
   "metadata": {},
   "outputs": [],
   "source": [
    "Total = pd.read_excel(\"matriz_final_1.xlsx\", skiprows=1) # importando"
   ]
  },
  {
   "cell_type": "code",
   "execution_count": 136,
   "metadata": {},
   "outputs": [
    {
     "data": {
      "text/plain": [
       "(101, 14246)"
      ]
     },
     "execution_count": 136,
     "metadata": {},
     "output_type": "execute_result"
    }
   ],
   "source": [
    "Total.shape # tamaño del dataset"
   ]
  },
  {
   "cell_type": "code",
   "execution_count": 137,
   "metadata": {},
   "outputs": [
    {
     "data": {
      "text/plain": [
       "(101, 14244)"
      ]
     },
     "execution_count": 137,
     "metadata": {},
     "output_type": "execute_result"
    }
   ],
   "source": [
    "Total = Total.iloc[:,1:] #eliminando primera columna\n",
    "y = Total.loc[:,\"Clasificador\"] # Extrayendo clases\n",
    "Total.drop(columns=\"Clasificador\", axis=0, inplace=True) #Eliminando y de la matriz de entrada\n",
    "Total.shape"
   ]
  },
  {
   "cell_type": "markdown",
   "metadata": {},
   "source": [
    "# Realizando la segmentación TF-IDF\n",
    "Podemos observar la matriz de TF con la matriz de conteo de frecuencias absolutas "
   ]
  },
  {
   "cell_type": "code",
   "execution_count": 140,
   "metadata": {
    "scrolled": false
   },
   "outputs": [
    {
     "data": {
      "text/plain": [
       "TfidfTransformer(norm='l2', smooth_idf=False, sublinear_tf=False,\n",
       "         use_idf=True)"
      ]
     },
     "execution_count": 140,
     "metadata": {},
     "output_type": "execute_result"
    }
   ],
   "source": [
    "from sklearn.feature_extraction.text import TfidfTransformer #importando TD IDF de sklearn\n",
    "transformer = TfidfTransformer(smooth_idf=False) ##seteandola en la función transformer\n",
    "transformer   "
   ]
  },
  {
   "cell_type": "markdown",
   "metadata": {},
   "source": [
    "Hallando el TF-IDF \n",
    "$$TF - IDF(t,d) = tf(t,d)\\ x\\ idf(t) $$"
   ]
  },
  {
   "cell_type": "code",
   "execution_count": 141,
   "metadata": {},
   "outputs": [],
   "source": [
    "tfidf = transformer.fit_transform(Total.values) # aplicando la funcion Tf Idf al data set \n",
    "tfidf \n",
    "X = tfidf.toarray()"
   ]
  },
  {
   "cell_type": "code",
   "execution_count": 142,
   "metadata": {
    "scrolled": false
   },
   "outputs": [
    {
     "data": {
      "text/plain": [
       "array([[0.00286045, 0.01401645, 0.00272009, ..., 0.00544017, 0.00849509,\n",
       "        0.01132678],\n",
       "       [0.00573141, 0.01123378, 0.00272509, ..., 0.01362544, 0.0056738 ,\n",
       "        0.        ],\n",
       "       [0.00286615, 0.01123551, 0.00545101, ..., 0.00817652, 0.01418669,\n",
       "        0.00567468],\n",
       "       ...,\n",
       "       [0.00572583, 0.00280571, 0.00544486, ..., 0.        , 0.01133654,\n",
       "        0.        ],\n",
       "       [0.00571359, 0.01119883, 0.01358305, ..., 0.01358305, 0.01414038,\n",
       "        0.00565615],\n",
       "       [0.01148436, 0.00281372, 0.00273021, ..., 0.00546041, 0.01136892,\n",
       "        0.00284223]])"
      ]
     },
     "execution_count": 142,
     "metadata": {},
     "output_type": "execute_result"
    }
   ],
   "source": [
    "X"
   ]
  },
  {
   "cell_type": "code",
   "execution_count": 143,
   "metadata": {},
   "outputs": [],
   "source": [
    "## Separando las muestras de entrenamiento y de control \n",
    "X_train, X_test, y_train, y_test = train_test_split(\n",
    "    X, y, test_size=0.2,random_state=123) # Semilla = random_state "
   ]
  },
  {
   "cell_type": "code",
   "execution_count": 144,
   "metadata": {},
   "outputs": [
    {
     "data": {
      "text/plain": [
       "(80, 14244)"
      ]
     },
     "execution_count": 144,
     "metadata": {},
     "output_type": "execute_result"
    }
   ],
   "source": [
    "X_train.shape"
   ]
  },
  {
   "cell_type": "code",
   "execution_count": 145,
   "metadata": {
    "scrolled": true
   },
   "outputs": [
    {
     "data": {
      "text/plain": [
       "(21, 14244)"
      ]
     },
     "execution_count": 145,
     "metadata": {},
     "output_type": "execute_result"
    }
   ],
   "source": [
    "X_test.shape"
   ]
  },
  {
   "cell_type": "code",
   "execution_count": 146,
   "metadata": {
    "scrolled": false
   },
   "outputs": [
    {
     "data": {
      "image/png": "[encoded data removed]",
      "text/plain": [
       "<Figure size 432x288 with 1 Axes>"
      ]
     },
     "metadata": {},
     "output_type": "display_data"
    }
   ],
   "source": [
    "fig , ax = plt.subplots(1) #Distribucion total\n",
    "cv, cm = ax.bar((\"Conv. sin contenido de trata\", \"Conv. con contenido de trata\"),[56,45])\n",
    "cm.set_facecolor(\"darkorange\")\n",
    "cm.set_width(0.4)\n",
    "cv.set_facecolor(\"limegreen\")\n",
    "cv.set_width(0.4)\n",
    "ax.set_ylabel(\"conteo\")\n",
    "ax.set_title(\"Total de conversaciones\")\n",
    "fig.savefig(\"Total.pdf\")"
   ]
  },
  {
   "cell_type": "code",
   "execution_count": 147,
   "metadata": {
    "scrolled": true
   },
   "outputs": [
    {
     "data": {
      "text/plain": [
       "irn        0.009046\n",
       "tigreal    0.008768\n",
       "conllev    0.008763\n",
       "aaahh      0.008653\n",
       "rhel       0.008628\n",
       "cancion    0.008602\n",
       "city       0.008600\n",
       "trop       0.008600\n",
       "paur       0.008595\n",
       "baoi       0.008523\n",
       "dtype: float64"
      ]
     },
     "execution_count": 147,
     "metadata": {},
     "output_type": "execute_result"
    }
   ],
   "source": [
    "sumRow = Total.sum(axis=1)\n",
    "sumRow.values\n",
    "TotalPer = Total.div(sumRow, axis=0)\n",
    "impRel = TotalPer.mean(axis=0)\n",
    "(impRel.sort_values(ascending=False)*100)[:10]\n"
   ]
  },
  {
   "cell_type": "markdown",
   "metadata": {},
   "source": [
    "## Definiendo la arquitectura de la red neuronal"
   ]
  },
  {
   "cell_type": "code",
   "execution_count": 148,
   "metadata": {},
   "outputs": [],
   "source": [
    "from keras.models import Sequential\n",
    "from keras.layers import Dense\n",
    "from keras import optimizers"
   ]
  },
  {
   "cell_type": "code",
   "execution_count": 149,
   "metadata": {},
   "outputs": [],
   "source": [
    "sgd = optimizers.SGD(lr=0.01, decay=1e-6, momentum=0.0 ,nesterov=True)\n",
    "rmsprop = keras.optimizers.RMSprop(lr=0.001, rho=0.9, epsilon=None, decay=0.0)\n",
    "adagrad =  keras.optimizers.Adagrad(lr=0.01, epsilon=None, decay=0.0)\n",
    "adadelta = keras.optimizers.Adadelta(lr=1.0, rho=0.95, epsilon=None, decay=0.0)\n",
    "adam= keras.optimizers.Adam(lr=0.001, beta_1=0.9, beta_2=0.999, epsilon=None, decay=0.0, amsgrad=False)\n",
    "nadam = keras.optimizers.Nadam(lr=0.002, beta_1=0.9, beta_2=0.999, epsilon=None, schedule_decay=0.004)"
   ]
  },
  {
   "cell_type": "code",
   "execution_count": 150,
   "metadata": {},
   "outputs": [],
   "source": [
    "model = Sequential()\n",
    "\n",
    "model.add(Dense(500, activation='relu', input_shape=(14244,)))\n",
    "\n",
    "model.add(Dense(200, activation='sigmoid'))\n",
    "\n",
    "model.add(Dense(500, activation='relu'))\n",
    "\n",
    "model.add(Dense(1, activation='sigmoid'))"
   ]
  },
  {
   "cell_type": "code",
   "execution_count": 151,
   "metadata": {},
   "outputs": [
    {
     "data": {
      "text/plain": [
       "(None, 1)"
      ]
     },
     "execution_count": 151,
     "metadata": {},
     "output_type": "execute_result"
    }
   ],
   "source": [
    "# Model output shape\n",
    "model.output_shape\n"
   ]
  },
  {
   "cell_type": "code",
   "execution_count": 152,
   "metadata": {
    "scrolled": true
   },
   "outputs": [
    {
     "name": "stdout",
     "output_type": "stream",
     "text": [
      "_________________________________________________________________\n",
      "Layer (type)                 Output Shape              Param #   \n",
      "=================================================================\n",
      "dense_1 (Dense)              (None, 500)               7122500   \n",
      "_________________________________________________________________\n",
      "dense_2 (Dense)              (None, 200)               100200    \n",
      "_________________________________________________________________\n",
      "dense_3 (Dense)              (None, 500)               100500    \n",
      "_________________________________________________________________\n",
      "dense_4 (Dense)              (None, 1)                 501       \n",
      "=================================================================\n",
      "Total params: 7,323,701\n",
      "Trainable params: 7,323,701\n",
      "Non-trainable params: 0\n",
      "_________________________________________________________________\n"
     ]
    }
   ],
   "source": [
    "# Model summary\n",
    "model.summary()"
   ]
  },
  {
   "cell_type": "code",
   "execution_count": 243,
   "metadata": {
    "scrolled": false
   },
   "outputs": [
    {
     "data": {
      "image/png": "[encoded data removed]",
      "text/plain": [
       "<Figure size 288x288 with 2 Axes>"
      ]
     },
     "metadata": {},
     "output_type": "display_data"
    }
   ],
   "source": [
    "W0 = model.get_weights()[6]\n",
    "W0 = W0[:484]\n",
    "W0 = W0.reshape(22,22)\n",
    "plt.matshow(W0)\n",
    "plt.colorbar()\n",
    "plt.title(\"Pesos iniciales\\n\")\n",
    "plt.savefig(\"PesosIniciales.png\")"
   ]
  },
  {
   "cell_type": "code",
   "execution_count": 244,
   "metadata": {
    "scrolled": true
   },
   "outputs": [
    {
     "data": {
      "image/png": "[encoded data removed]",
      "text/plain": [
       "<Figure size 288x288 with 2 Axes>"
      ]
     },
     "metadata": {},
     "output_type": "display_data"
    }
   ],
   "source": [
    "W1 = model.get_weights()[6]\n",
    "W1 = W1[:484]\n",
    "W1 = W1.reshape(22,22)\n",
    "plt.matshow(W1)\n",
    "plt.colorbar()\n",
    "plt.title(\"Pesos finales\\n\")\n",
    "plt.savefig(\"PesosFinales.png\")"
   ]
  },
  {
   "cell_type": "code",
   "execution_count": null,
   "metadata": {},
   "outputs": [],
   "source": []
  },
  {
   "cell_type": "markdown",
   "metadata": {},
   "source": [
    "## Entrenando la RED"
   ]
  },
  {
   "cell_type": "code",
   "execution_count": 190,
   "metadata": {},
   "outputs": [],
   "source": [
    "from keras.callbacks import History \n",
    "history = History()"
   ]
  },
  {
   "cell_type": "code",
   "execution_count": 206,
   "metadata": {},
   "outputs": [],
   "source": [
    "np.random.seed(123)\n",
    "model.compile(loss='binary_crossentropy',\n",
    "              optimizer='adam',\n",
    "              metrics=['accuracy'])"
   ]
  },
  {
   "cell_type": "code",
   "execution_count": 270,
   "metadata": {
    "scrolled": false
   },
   "outputs": [
    {
     "name": "stdout",
     "output_type": "stream",
     "text": [
      "Epoch 1/40\n",
      "80/80 [==============================] - 0s 5ms/step - loss: 1.4825e-07 - acc: 1.0000\n",
      "Epoch 2/40\n",
      "80/80 [==============================] - 0s 5ms/step - loss: 1.4636e-07 - acc: 1.0000\n",
      "Epoch 3/40\n",
      "80/80 [==============================] - 0s 5ms/step - loss: 1.4453e-07 - acc: 1.0000\n",
      "Epoch 4/40\n",
      "80/80 [==============================] - 0s 5ms/step - loss: 1.4271e-07 - acc: 1.0000\n",
      "Epoch 5/40\n",
      "80/80 [==============================] - 0s 5ms/step - loss: 1.4234e-07 - acc: 1.0000\n",
      "Epoch 6/40\n",
      "80/80 [==============================] - 0s 5ms/step - loss: 1.4193e-07 - acc: 1.0000\n",
      "Epoch 7/40\n",
      "80/80 [==============================] - 0s 5ms/step - loss: 1.4158e-07 - acc: 1.0000\n",
      "Epoch 8/40\n",
      "80/80 [==============================] - 0s 5ms/step - loss: 1.3958e-07 - acc: 1.0000\n",
      "Epoch 9/40\n",
      "80/80 [==============================] - 0s 5ms/step - loss: 1.3623e-07 - acc: 1.0000\n",
      "Epoch 10/40\n",
      "80/80 [==============================] - 0s 5ms/step - loss: 1.3435e-07 - acc: 1.0000\n",
      "Epoch 11/40\n",
      "80/80 [==============================] - 0s 5ms/step - loss: 1.3401e-07 - acc: 1.0000\n",
      "Epoch 12/40\n",
      "80/80 [==============================] - 0s 4ms/step - loss: 1.3211e-07 - acc: 1.0000\n",
      "Epoch 13/40\n",
      "80/80 [==============================] - 0s 5ms/step - loss: 1.3017e-07 - acc: 1.0000\n",
      "Epoch 14/40\n",
      "80/80 [==============================] - 0s 5ms/step - loss: 1.2974e-07 - acc: 1.0000\n",
      "Epoch 15/40\n",
      "80/80 [==============================] - 0s 5ms/step - loss: 1.2930e-07 - acc: 1.0000\n",
      "Epoch 16/40\n",
      "80/80 [==============================] - 0s 5ms/step - loss: 1.2728e-07 - acc: 1.0000\n",
      "Epoch 17/40\n",
      "80/80 [==============================] - 0s 5ms/step - loss: 1.2534e-07 - acc: 1.0000\n",
      "Epoch 18/40\n",
      "80/80 [==============================] - 0s 5ms/step - loss: 1.2337e-07 - acc: 1.0000\n",
      "Epoch 19/40\n",
      "80/80 [==============================] - 0s 5ms/step - loss: 1.2283e-07 - acc: 1.0000\n",
      "Epoch 20/40\n",
      "80/80 [==============================] - 0s 4ms/step - loss: 1.2242e-07 - acc: 1.0000\n",
      "Epoch 21/40\n",
      "80/80 [==============================] - 0s 5ms/step - loss: 1.2042e-07 - acc: 1.0000\n",
      "Epoch 22/40\n",
      "80/80 [==============================] - 0s 5ms/step - loss: 1.2002e-07 - acc: 1.0000\n",
      "Epoch 23/40\n",
      "80/80 [==============================] - 0s 5ms/step - loss: 1.1966e-07 - acc: 1.0000\n",
      "Epoch 24/40\n",
      "80/80 [==============================] - 0s 5ms/step - loss: 1.1930e-07 - acc: 1.0000\n",
      "Epoch 25/40\n",
      "80/80 [==============================] - 0s 5ms/step - loss: 1.1897e-07 - acc: 1.0000\n",
      "Epoch 26/40\n",
      "80/80 [==============================] - 0s 5ms/step - loss: 1.1871e-07 - acc: 1.0000\n",
      "Epoch 27/40\n",
      "80/80 [==============================] - 0s 5ms/step - loss: 1.1846e-07 - acc: 1.0000\n",
      "Epoch 28/40\n",
      "80/80 [==============================] - 0s 5ms/step - loss: 1.1822e-07 - acc: 1.0000\n",
      "Epoch 29/40\n",
      "80/80 [==============================] - 0s 5ms/step - loss: 1.1801e-07 - acc: 1.0000\n",
      "Epoch 30/40\n",
      "80/80 [==============================] - 0s 5ms/step - loss: 1.1636e-07 - acc: 1.0000\n",
      "Epoch 31/40\n",
      "80/80 [==============================] - 0s 5ms/step - loss: 1.1617e-07 - acc: 1.0000\n",
      "Epoch 32/40\n",
      "80/80 [==============================] - 0s 5ms/step - loss: 1.1604e-07 - acc: 1.0000\n",
      "Epoch 33/40\n",
      "80/80 [==============================] - 0s 5ms/step - loss: 1.1592e-07 - acc: 1.0000\n",
      "Epoch 34/40\n",
      "80/80 [==============================] - 0s 5ms/step - loss: 1.1580e-07 - acc: 1.0000\n",
      "Epoch 35/40\n",
      "80/80 [==============================] - 0s 4ms/step - loss: 1.1567e-07 - acc: 1.0000\n",
      "Epoch 36/40\n",
      "80/80 [==============================] - 0s 5ms/step - loss: 1.1555e-07 - acc: 1.0000\n",
      "Epoch 37/40\n",
      "80/80 [==============================] - 0s 5ms/step - loss: 1.1543e-07 - acc: 1.0000\n",
      "Epoch 38/40\n",
      "80/80 [==============================] - 0s 4ms/step - loss: 1.1532e-07 - acc: 1.0000\n",
      "Epoch 39/40\n",
      "80/80 [==============================] - 0s 4ms/step - loss: 1.1522e-07 - acc: 1.0000\n",
      "Epoch 40/40\n",
      "80/80 [==============================] - 0s 4ms/step - loss: 1.1508e-07 - acc: 1.0000\n"
     ]
    },
    {
     "data": {
      "text/plain": [
       "<keras.callbacks.History at 0x7f5ad3e3dcf8>"
      ]
     },
     "execution_count": 270,
     "metadata": {},
     "output_type": "execute_result"
    }
   ],
   "source": [
    "np.random.seed(2222)\n",
    "model.fit(X_train, y_train,epochs=40, batch_size=40, verbose=1,callbacks=[history],)"
   ]
  },
  {
   "cell_type": "code",
   "execution_count": 245,
   "metadata": {
    "scrolled": true
   },
   "outputs": [
    {
     "ename": "AttributeError",
     "evalue": "'numpy.ndarray' object has no attribute 'autoscale_None'",
     "output_type": "error",
     "traceback": [
      "\u001b[0;31m---------------------------------------------------------------------------\u001b[0m",
      "\u001b[0;31mAttributeError\u001b[0m                            Traceback (most recent call last)",
      "\u001b[0;32m<ipython-input-245-3c6ca837b76b>\u001b[0m in \u001b[0;36m<module>\u001b[0;34m()\u001b[0m\n\u001b[1;32m      5\u001b[0m \u001b[0mfig\u001b[0m\u001b[0;34m.\u001b[0m\u001b[0msubplots_adjust\u001b[0m\u001b[0;34m(\u001b[0m\u001b[0mright\u001b[0m\u001b[0;34m=\u001b[0m\u001b[0;36m0.8\u001b[0m\u001b[0;34m)\u001b[0m\u001b[0;34m\u001b[0m\u001b[0m\n\u001b[1;32m      6\u001b[0m \u001b[0mcbar_ax\u001b[0m \u001b[0;34m=\u001b[0m \u001b[0mfig\u001b[0m\u001b[0;34m.\u001b[0m\u001b[0madd_axes\u001b[0m\u001b[0;34m(\u001b[0m\u001b[0;34m[\u001b[0m\u001b[0;36m0.85\u001b[0m\u001b[0;34m,\u001b[0m \u001b[0;36m0.15\u001b[0m\u001b[0;34m,\u001b[0m \u001b[0;36m0.05\u001b[0m\u001b[0;34m,\u001b[0m \u001b[0;36m0.7\u001b[0m\u001b[0;34m]\u001b[0m\u001b[0;34m)\u001b[0m\u001b[0;34m\u001b[0m\u001b[0m\n\u001b[0;32m----> 7\u001b[0;31m \u001b[0mfig\u001b[0m\u001b[0;34m.\u001b[0m\u001b[0mcolorbar\u001b[0m\u001b[0;34m(\u001b[0m\u001b[0mW0\u001b[0m\u001b[0;34m.\u001b[0m\u001b[0mflatten\u001b[0m\u001b[0;34m(\u001b[0m\u001b[0;34m)\u001b[0m\u001b[0;34m,\u001b[0m \u001b[0mcax\u001b[0m\u001b[0;34m=\u001b[0m\u001b[0mcbar_ax\u001b[0m\u001b[0;34m)\u001b[0m\u001b[0;34m\u001b[0m\u001b[0m\n\u001b[0m",
      "\u001b[0;32m/usr/local/lib/python3.6/dist-packages/matplotlib/figure.py\u001b[0m in \u001b[0;36mcolorbar\u001b[0;34m(self, mappable, cax, ax, use_gridspec, **kw)\u001b[0m\n\u001b[1;32m   2069\u001b[0m                              'panchor']\n\u001b[1;32m   2070\u001b[0m         \u001b[0mcb_kw\u001b[0m \u001b[0;34m=\u001b[0m \u001b[0;34m{\u001b[0m\u001b[0mk\u001b[0m\u001b[0;34m:\u001b[0m \u001b[0mv\u001b[0m \u001b[0;32mfor\u001b[0m \u001b[0mk\u001b[0m\u001b[0;34m,\u001b[0m \u001b[0mv\u001b[0m \u001b[0;32min\u001b[0m \u001b[0mkw\u001b[0m\u001b[0;34m.\u001b[0m\u001b[0mitems\u001b[0m\u001b[0;34m(\u001b[0m\u001b[0;34m)\u001b[0m \u001b[0;32mif\u001b[0m \u001b[0mk\u001b[0m \u001b[0;32mnot\u001b[0m \u001b[0;32min\u001b[0m \u001b[0mNON_COLORBAR_KEYS\u001b[0m\u001b[0;34m}\u001b[0m\u001b[0;34m\u001b[0m\u001b[0m\n\u001b[0;32m-> 2071\u001b[0;31m         \u001b[0mcb\u001b[0m \u001b[0;34m=\u001b[0m \u001b[0mcbar\u001b[0m\u001b[0;34m.\u001b[0m\u001b[0mcolorbar_factory\u001b[0m\u001b[0;34m(\u001b[0m\u001b[0mcax\u001b[0m\u001b[0;34m,\u001b[0m \u001b[0mmappable\u001b[0m\u001b[0;34m,\u001b[0m \u001b[0;34m**\u001b[0m\u001b[0mcb_kw\u001b[0m\u001b[0;34m)\u001b[0m\u001b[0;34m\u001b[0m\u001b[0m\n\u001b[0m\u001b[1;32m   2072\u001b[0m \u001b[0;34m\u001b[0m\u001b[0m\n\u001b[1;32m   2073\u001b[0m         \u001b[0mself\u001b[0m\u001b[0;34m.\u001b[0m\u001b[0msca\u001b[0m\u001b[0;34m(\u001b[0m\u001b[0mcurrent_ax\u001b[0m\u001b[0;34m)\u001b[0m\u001b[0;34m\u001b[0m\u001b[0m\n",
      "\u001b[0;32m/usr/local/lib/python3.6/dist-packages/matplotlib/colorbar.py\u001b[0m in \u001b[0;36mcolorbar_factory\u001b[0;34m(cax, mappable, **kwargs)\u001b[0m\n\u001b[1;32m   1397\u001b[0m         \u001b[0mcb\u001b[0m \u001b[0;34m=\u001b[0m \u001b[0mColorbarPatch\u001b[0m\u001b[0;34m(\u001b[0m\u001b[0mcax\u001b[0m\u001b[0;34m,\u001b[0m \u001b[0mmappable\u001b[0m\u001b[0;34m,\u001b[0m \u001b[0;34m**\u001b[0m\u001b[0mkwargs\u001b[0m\u001b[0;34m)\u001b[0m\u001b[0;34m\u001b[0m\u001b[0m\n\u001b[1;32m   1398\u001b[0m     \u001b[0;32melse\u001b[0m\u001b[0;34m:\u001b[0m\u001b[0;34m\u001b[0m\u001b[0m\n\u001b[0;32m-> 1399\u001b[0;31m         \u001b[0mcb\u001b[0m \u001b[0;34m=\u001b[0m \u001b[0mColorbar\u001b[0m\u001b[0;34m(\u001b[0m\u001b[0mcax\u001b[0m\u001b[0;34m,\u001b[0m \u001b[0mmappable\u001b[0m\u001b[0;34m,\u001b[0m \u001b[0;34m**\u001b[0m\u001b[0mkwargs\u001b[0m\u001b[0;34m)\u001b[0m\u001b[0;34m\u001b[0m\u001b[0m\n\u001b[0m\u001b[1;32m   1400\u001b[0m \u001b[0;34m\u001b[0m\u001b[0m\n\u001b[1;32m   1401\u001b[0m     \u001b[0mcid\u001b[0m \u001b[0;34m=\u001b[0m \u001b[0mmappable\u001b[0m\u001b[0;34m.\u001b[0m\u001b[0mcallbacksSM\u001b[0m\u001b[0;34m.\u001b[0m\u001b[0mconnect\u001b[0m\u001b[0;34m(\u001b[0m\u001b[0;34m'changed'\u001b[0m\u001b[0;34m,\u001b[0m \u001b[0mcb\u001b[0m\u001b[0;34m.\u001b[0m\u001b[0mon_mappable_changed\u001b[0m\u001b[0;34m)\u001b[0m\u001b[0;34m\u001b[0m\u001b[0m\n",
      "\u001b[0;32m/usr/local/lib/python3.6/dist-packages/matplotlib/colorbar.py\u001b[0m in \u001b[0;36m__init__\u001b[0;34m(self, ax, mappable, **kw)\u001b[0m\n\u001b[1;32m    918\u001b[0m         \u001b[0;31m# Ensure the given mappable's norm has appropriate vmin and vmax set\u001b[0m\u001b[0;34m\u001b[0m\u001b[0;34m\u001b[0m\u001b[0m\n\u001b[1;32m    919\u001b[0m         \u001b[0;31m# even if mappable.draw has not yet been called.\u001b[0m\u001b[0;34m\u001b[0m\u001b[0;34m\u001b[0m\u001b[0m\n\u001b[0;32m--> 920\u001b[0;31m         \u001b[0mmappable\u001b[0m\u001b[0;34m.\u001b[0m\u001b[0mautoscale_None\u001b[0m\u001b[0;34m(\u001b[0m\u001b[0;34m)\u001b[0m\u001b[0;34m\u001b[0m\u001b[0m\n\u001b[0m\u001b[1;32m    921\u001b[0m \u001b[0;34m\u001b[0m\u001b[0m\n\u001b[1;32m    922\u001b[0m         \u001b[0mself\u001b[0m\u001b[0;34m.\u001b[0m\u001b[0mmappable\u001b[0m \u001b[0;34m=\u001b[0m \u001b[0mmappable\u001b[0m\u001b[0;34m\u001b[0m\u001b[0m\n",
      "\u001b[0;31mAttributeError\u001b[0m: 'numpy.ndarray' object has no attribute 'autoscale_None'"
     ]
    },
    {
     "data": {
      "image/png": "[encoded data removed]",
      "text/plain": [
       "<Figure size 432x288 with 3 Axes>"
      ]
     },
     "metadata": {},
     "output_type": "display_data"
    }
   ],
   "source": [
    "fig, ax = plt.subplots(1,2)\n",
    "ax[0].matshow(W0, cmap = plt.cm.RdBu)\n",
    "ax[1].matshow(W1, cmap = plt.cm.RdBu)\n",
    "\n",
    "fig.subplots_adjust(right=0.8)\n",
    "cbar_ax = fig.add_axes([0.85, 0.15, 0.05, 0.7])\n",
    "fig.colorbar(W0.flatten(), cax=cbar_ax)\n"
   ]
  },
  {
   "cell_type": "code",
   "execution_count": 246,
   "metadata": {},
   "outputs": [
    {
     "data": {
      "text/plain": [
       "array([ 1.35434180e-01,  8.21360275e-02,  2.78897211e-02, -9.06574130e-02,\n",
       "        1.22141704e-01,  1.50440723e-01, -7.72706866e-02, -7.38752708e-02,\n",
       "       -4.33654711e-02, -1.38854623e-01,  2.83242464e-02, -4.83282059e-02,\n",
       "       -1.05565175e-01,  2.91841161e-02, -3.82744223e-02, -4.54927832e-02,\n",
       "        1.84065681e-02,  9.52837989e-02, -5.81694543e-02,  1.11024953e-01,\n",
       "       -3.52318026e-02, -2.64761671e-02, -7.37607256e-02,  5.22136614e-02,\n",
       "       -8.00068378e-02, -1.05782263e-01, -1.25042766e-01, -6.21743277e-02,\n",
       "       -8.73083174e-02, -4.78433147e-02,  3.73084433e-02, -8.23294669e-02,\n",
       "        3.43356356e-02,  6.53659105e-02,  9.99251977e-02, -2.79064639e-03,\n",
       "        9.47116986e-02,  9.15415958e-02,  1.01842783e-01,  7.52131268e-02,\n",
       "        2.12229267e-02, -2.24645659e-02, -4.81894538e-02,  2.27410067e-02,\n",
       "       -9.93666798e-02, -2.90507860e-02,  1.42827593e-02,  4.67776284e-02,\n",
       "        5.06147705e-02,  9.90194976e-02, -3.99126709e-02,  9.84816700e-02,\n",
       "        6.50115684e-02, -1.41318142e-02, -1.29160047e-01, -8.36617574e-02,\n",
       "       -1.28167644e-01,  2.43549421e-02,  6.95365742e-02, -1.00203402e-01,\n",
       "        1.42195374e-02,  7.20492825e-02, -2.54361797e-02, -7.29846209e-02,\n",
       "       -1.09029621e-01, -8.28740373e-02,  8.65412131e-02, -6.29824325e-02,\n",
       "       -6.77759573e-02,  4.02405439e-03,  1.55466259e-01, -1.00769170e-01,\n",
       "       -9.48780775e-02,  6.39116243e-02,  4.74676192e-02, -6.35133907e-02,\n",
       "       -2.02727858e-02, -1.38265282e-01,  1.24266900e-01,  8.68569985e-02,\n",
       "       -1.81701303e-01, -3.09244804e-02,  5.12152910e-05,  3.47406417e-03,\n",
       "        3.79939042e-02,  2.45870054e-02,  8.38996097e-02,  9.40879360e-02,\n",
       "        9.58135352e-02,  5.35213836e-02, -7.33193085e-02,  7.06990287e-02,\n",
       "        6.39555231e-02,  2.29941383e-02, -1.23980254e-01,  1.61011983e-02,\n",
       "       -8.64085853e-02,  1.14094228e-01,  1.02987759e-01,  1.27585009e-01,\n",
       "        9.27786902e-02,  6.12287447e-02, -5.42957447e-02, -1.06214754e-01,\n",
       "       -8.98458138e-02, -7.70771410e-03,  7.38995075e-02, -8.17382336e-02,\n",
       "        8.04517791e-02,  6.30175769e-02,  4.55213264e-02,  7.06813186e-02,\n",
       "       -1.20499194e-01, -6.74878582e-02, -2.44668648e-02,  1.56704456e-01,\n",
       "       -2.24797502e-02,  1.04298003e-01, -1.00617096e-01,  6.17448464e-02,\n",
       "        2.82914769e-02,  1.50066037e-02, -1.29434124e-01,  7.97547773e-02,\n",
       "        8.23370963e-02, -1.45964429e-01,  2.60747261e-02, -4.77930903e-03,\n",
       "       -5.46660274e-02, -8.97794887e-02, -9.88007858e-02, -2.03564689e-01,\n",
       "       -6.51081428e-02,  3.35070118e-02,  4.77233995e-03, -5.59353568e-02,\n",
       "       -9.75266919e-02, -8.78024399e-02,  6.08996935e-02,  3.27766687e-02,\n",
       "        1.02009073e-01,  8.12536851e-02, -1.40718684e-01,  6.37178198e-02,\n",
       "        4.65266481e-02, -8.86614099e-02,  7.25146756e-02,  1.87526159e-02,\n",
       "       -8.26410279e-02, -3.68659645e-02, -1.11905020e-02, -1.43255651e-01,\n",
       "       -8.29220787e-02,  7.49676749e-02,  6.19513243e-02, -1.47230700e-02,\n",
       "        3.85568365e-02,  4.09067124e-02, -3.88244987e-02,  1.27663165e-01,\n",
       "        7.46612027e-02, -1.11140907e-01, -7.84019530e-02, -4.65768799e-02,\n",
       "        6.72631636e-02,  9.84667242e-03,  8.58848616e-02, -7.60032684e-02,\n",
       "        8.23609605e-02,  5.60633913e-02, -1.61536157e-01, -8.72511864e-02,\n",
       "        4.25796583e-02,  5.19072264e-03,  8.13715011e-02, -9.37114581e-02,\n",
       "       -1.31454065e-01, -8.69722366e-02, -6.77712187e-02, -6.50526285e-02,\n",
       "        7.93721527e-02,  1.11806817e-01,  8.10648873e-02, -8.34472850e-02,\n",
       "       -3.47065516e-02,  1.29727378e-01,  2.40322389e-02, -4.10074070e-02,\n",
       "        2.66237985e-02, -2.82254592e-02,  1.07039250e-01, -7.04982802e-02,\n",
       "       -4.05626595e-02, -7.80491531e-03, -1.37165815e-01,  4.74440567e-02,\n",
       "       -4.18182276e-02,  6.39327243e-02, -1.03366733e-01,  9.88028273e-02,\n",
       "        9.33624804e-03, -1.01135813e-01,  9.51404721e-02, -5.65172359e-02,\n",
       "        1.13122538e-01, -1.33773327e-01, -9.27356929e-02, -1.13635277e-03,\n",
       "        5.86145408e-02,  6.67641684e-02, -1.30148411e-01,  5.97508252e-03,\n",
       "       -7.35167321e-03, -3.98311093e-02, -1.99305024e-02, -1.18392661e-01,\n",
       "        1.87171176e-02, -9.40735787e-02,  6.08885922e-02,  3.14539634e-02,\n",
       "        3.38994749e-02,  6.28988817e-02,  9.77561697e-02,  8.30005333e-02,\n",
       "       -1.01001695e-01,  5.16596958e-02, -3.01620662e-02, -3.65929604e-02,\n",
       "        5.71794957e-02,  8.98773596e-02, -1.52785748e-01,  1.02579601e-01,\n",
       "        4.33572233e-02, -6.90444931e-02,  9.33163539e-02, -4.28314060e-02,\n",
       "       -1.02763824e-01,  8.99059027e-02,  5.21339588e-02, -4.70025018e-02,\n",
       "       -2.24064589e-02, -4.21125665e-02, -6.04711697e-02,  3.23939547e-02,\n",
       "       -4.43090610e-02,  7.87265822e-02, -4.61946130e-02, -9.34838802e-02,\n",
       "       -7.04827383e-02,  9.76954699e-02, -3.48295569e-02, -9.92877856e-02,\n",
       "       -9.57173482e-02, -5.00371829e-02,  1.34068653e-01, -3.48458588e-02,\n",
       "        1.27331585e-01,  2.50474289e-02,  8.53599533e-02,  9.24751163e-02,\n",
       "        1.47358039e-02,  1.01271540e-01,  1.85602978e-02, -1.58928737e-01,\n",
       "        2.43083611e-02, -2.73621753e-02, -8.54113698e-03, -5.64049371e-02,\n",
       "        2.45489851e-02, -5.29204719e-02, -7.63372183e-02,  1.03348039e-01,\n",
       "       -1.21041782e-01, -1.08871639e-01,  4.61175218e-02,  1.62644193e-01,\n",
       "        5.73816225e-02,  1.18794870e-02, -3.10214479e-02, -6.38692677e-02,\n",
       "       -1.42892018e-01,  7.72321001e-02, -8.04042146e-02,  3.29135880e-02,\n",
       "        1.31462395e-01, -3.15178819e-02,  6.62454963e-02,  9.26613584e-02,\n",
       "       -2.04069763e-02, -1.13957100e-01, -1.35032460e-02,  1.17608368e-01,\n",
       "       -5.00192009e-02, -8.29118490e-03,  1.04417793e-01, -9.93058383e-02,\n",
       "        9.95536596e-02, -1.16401732e-01,  8.55854526e-02,  8.75981078e-02,\n",
       "        1.08435906e-01, -5.94884269e-02,  6.39495477e-02, -1.03152201e-01,\n",
       "        3.75833847e-02, -3.62243615e-02,  6.11765906e-02, -6.51752278e-02,\n",
       "        8.98636878e-02, -1.94793195e-02, -4.87046279e-02,  8.34919214e-02,\n",
       "       -1.09261706e-01,  5.51009774e-02,  8.67230445e-02,  8.99279937e-02,\n",
       "        1.13536738e-01, -8.30568895e-02, -6.12255260e-02,  3.56382504e-02,\n",
       "        1.28018200e-01,  7.12976530e-02,  1.05654188e-01, -1.50830492e-01,\n",
       "        4.30350751e-03,  7.15282634e-02,  2.69276798e-02,  5.10452650e-02,\n",
       "       -1.23296104e-01, -1.15222812e-01,  1.20573878e-01, -2.79786773e-02,\n",
       "        3.22026084e-03, -9.97436047e-02,  8.29463303e-02, -9.85787213e-02,\n",
       "        9.23145041e-02,  1.02646448e-01,  1.82039514e-02,  3.68556902e-02,\n",
       "       -1.29025653e-01, -6.35557845e-02,  9.69787186e-04, -7.48725981e-02,\n",
       "       -8.67440179e-02, -2.49583349e-02, -1.02182195e-01,  1.39653876e-01,\n",
       "        3.37987319e-02, -6.09961413e-02,  8.01131651e-02, -8.29352736e-02,\n",
       "        6.63814992e-02, -6.57188296e-02, -2.65787225e-02,  2.33220309e-03,\n",
       "       -8.23721439e-02,  5.85692301e-02,  7.98877180e-02,  1.07292794e-01,\n",
       "        7.31218755e-02,  8.60213414e-02,  1.14746265e-01,  9.01997760e-02,\n",
       "       -1.48632035e-01,  1.35837197e-01,  3.39890644e-02, -4.90709767e-02,\n",
       "        6.57391995e-02,  1.38309389e-01,  3.37909088e-02,  4.62137833e-02,\n",
       "       -2.89730579e-02, -2.14255825e-02,  3.31583321e-02,  8.05511102e-02,\n",
       "       -7.58891106e-02,  5.41299470e-02, -1.68200359e-02, -1.16254590e-01,\n",
       "        1.37051135e-01,  3.56846973e-02,  8.79044086e-03,  1.14036702e-01,\n",
       "       -2.86644995e-02, -1.24885634e-01, -7.09657595e-02, -1.03508271e-01,\n",
       "       -8.57590213e-02, -6.91500977e-02,  1.35458037e-02, -3.45009491e-02,\n",
       "        4.56684344e-02, -2.20594704e-02, -3.24882008e-02, -8.16885978e-02,\n",
       "       -1.88645065e-01, -7.25671872e-02,  1.05788685e-01,  9.49047506e-03,\n",
       "       -3.52644175e-02,  4.18248102e-02,  8.28961432e-02,  6.79988414e-03,\n",
       "        3.58857661e-02,  3.91096249e-02, -8.30075666e-02, -8.16865116e-02,\n",
       "        2.53567174e-02, -6.50448203e-02, -1.51699290e-01,  9.86560062e-02,\n",
       "       -6.84607029e-02, -1.08219534e-01, -9.27760005e-02,  1.03854835e-02,\n",
       "       -9.38448608e-02,  6.55476972e-02, -1.00412153e-01, -1.43167794e-01,\n",
       "        1.35679916e-01,  6.50045350e-02, -6.85852915e-02,  1.00772545e-01,\n",
       "       -1.27341868e-02, -1.18059762e-01,  9.09224153e-03, -5.41983126e-03,\n",
       "       -4.94447723e-02,  5.70384879e-03,  1.21383518e-01, -1.16282187e-01,\n",
       "       -9.39446241e-02,  1.27997011e-01,  7.55627304e-02,  2.69340202e-02,\n",
       "       -1.09497599e-01,  2.24499907e-02, -3.45457271e-02, -1.18465088e-02,\n",
       "        3.25966850e-02, -2.08790153e-02, -1.45463705e-01,  1.10393912e-02,\n",
       "        1.38467282e-01,  1.38512701e-01, -6.46026582e-02, -1.00878626e-02,\n",
       "       -9.31947604e-02, -7.61055499e-02,  7.83702284e-02, -7.42878914e-02,\n",
       "        8.79136994e-02,  8.10354203e-02,  2.73944959e-02,  3.43623348e-02,\n",
       "       -4.05642390e-03,  1.35804802e-01, -2.47038789e-02,  1.07051708e-01,\n",
       "       -5.86691424e-02,  1.24454722e-01,  1.90838501e-02,  7.08896369e-02,\n",
       "       -2.34057605e-02, -1.06121711e-01,  1.78962842e-01, -1.13189526e-01,\n",
       "        1.35315359e-01, -1.30618066e-02,  9.43856537e-02, -6.02570511e-02,\n",
       "       -1.56539083e-01,  2.63556018e-02,  1.19912222e-01, -1.18680604e-01,\n",
       "       -1.05175041e-01, -4.53609973e-02, -8.91136602e-02, -2.76718941e-02,\n",
       "       -9.14363414e-02, -9.53830853e-02,  1.21196784e-01, -6.72686994e-02],\n",
       "      dtype=float32)"
      ]
     },
     "execution_count": 246,
     "metadata": {},
     "output_type": "execute_result"
    }
   ],
   "source": [
    "W0.flatten()"
   ]
  },
  {
   "cell_type": "code",
   "execution_count": 247,
   "metadata": {},
   "outputs": [
    {
     "data": {
      "image/png": "[encoded data removed]",
      "text/plain": [
       "<Figure size 432x288 with 1 Axes>"
      ]
     },
     "metadata": {},
     "output_type": "display_data"
    }
   ],
   "source": [
    "plt.plot(history.history[\"loss\"])\n",
    "plt.savefig(\"función de costo.png\")"
   ]
  },
  {
   "cell_type": "code",
   "execution_count": 248,
   "metadata": {},
   "outputs": [
    {
     "data": {
      "image/png": "[encoded data removed]",
      "text/plain": [
       "<Figure size 432x288 with 1 Axes>"
      ]
     },
     "metadata": {},
     "output_type": "display_data"
    }
   ],
   "source": [
    "plt.plot(history.history[\"acc\"])\n",
    "plt.savefig(\"precisión del modelo.png\")"
   ]
  },
  {
   "cell_type": "code",
   "execution_count": 249,
   "metadata": {},
   "outputs": [
    {
     "data": {
      "text/plain": [
       "88    0\n",
       "19    1\n",
       "29    1\n",
       "31    0\n",
       "91    0\n",
       "Name: Clasificador, dtype: int64"
      ]
     },
     "execution_count": 249,
     "metadata": {},
     "output_type": "execute_result"
    }
   ],
   "source": [
    "y_train[:5]"
   ]
  },
  {
   "cell_type": "markdown",
   "metadata": {},
   "source": [
    "## Generando las predicciones"
   ]
  },
  {
   "cell_type": "code",
   "execution_count": 250,
   "metadata": {},
   "outputs": [
    {
     "data": {
      "text/plain": [
       "array([[0],\n",
       "       [1],\n",
       "       [1],\n",
       "       [0],\n",
       "       [0]], dtype=int32)"
      ]
     },
     "execution_count": 250,
     "metadata": {},
     "output_type": "execute_result"
    }
   ],
   "source": [
    "y_pred = model.predict_classes(X_train) # \n",
    "y_pred[:5]"
   ]
  },
  {
   "cell_type": "code",
   "execution_count": 251,
   "metadata": {},
   "outputs": [
    {
     "name": "stdout",
     "output_type": "stream",
     "text": [
      "21/21 [==============================] - 0s 4ms/step\n",
      "[1.6753681898117065, 0.4285714328289032]\n"
     ]
    }
   ],
   "source": [
    "score = model.evaluate(X_test, y_test,verbose=1)\n",
    "print(score)"
   ]
  },
  {
   "cell_type": "markdown",
   "metadata": {},
   "source": [
    "## Evaluando el modelo "
   ]
  },
  {
   "cell_type": "code",
   "execution_count": 252,
   "metadata": {
    "scrolled": true
   },
   "outputs": [],
   "source": [
    "# Import the modules from `sklearn.metrics`\n",
    "from sklearn.metrics import confusion_matrix, precision_score, recall_score, f1_score, cohen_kappa_score"
   ]
  },
  {
   "cell_type": "code",
   "execution_count": 253,
   "metadata": {
    "scrolled": false
   },
   "outputs": [
    {
     "name": "stdout",
     "output_type": "stream",
     "text": [
      "1 [0]\n",
      "0 [1]\n",
      "1 [1]\n",
      "1 [0]\n",
      "0 [0]\n",
      "0 [0]\n",
      "1 [0]\n",
      "0 [0]\n",
      "1 [1]\n",
      "1 [1]\n",
      "1 [0]\n",
      "1 [0]\n",
      "0 [1]\n",
      "1 [0]\n",
      "0 [1]\n",
      "0 [1]\n",
      "1 [0]\n",
      "0 [1]\n",
      "0 [1]\n",
      "0 [0]\n",
      "1 [1]\n"
     ]
    }
   ],
   "source": [
    "for y_t, yhat in zip(y_test , y_pred):\n",
    "    print (y_t, yhat)"
   ]
  },
  {
   "cell_type": "code",
   "execution_count": 286,
   "metadata": {
    "scrolled": true
   },
   "outputs": [
    {
     "data": {
      "text/plain": [
       "<matplotlib.collections.LineCollection at 0x7f5ad475de10>"
      ]
     },
     "execution_count": 286,
     "metadata": {},
     "output_type": "execute_result"
    },
    {
     "data": {
      "image/png": "[encoded data removed]",
      "text/plain": [
       "<Figure size 432x288 with 1 Axes>"
      ]
     },
     "metadata": {},
     "output_type": "display_data"
    }
   ],
   "source": [
    "model.predict_proba(X_test)[np.where(y_test == 0, True, False)]\n",
    "plt.hist(model.predict_proba(X_test))\n",
    "plt.vlines(0.5, 0 ,15)"
   ]
  },
  {
   "cell_type": "code",
   "execution_count": 269,
   "metadata": {},
   "outputs": [
    {
     "name": "stdout",
     "output_type": "stream",
     "text": [
      "[[8 2]\n",
      " [9 2]]\n",
      "0.5\n",
      "0.26666666666666666\n"
     ]
    }
   ],
   "source": [
    "# Confusion matrix en valores absolutos  solamente el test \n",
    "y_pred = np.where(model.predict_proba(X_test)>0.18,1,0)\n",
    "print(confusion_matrix(y_test, y_pred) )\n",
    "print(precision_score(y_test, y_pred))\n",
    "print(f1_score(y_test,y_pred))"
   ]
  },
  {
   "cell_type": "code",
   "execution_count": 255,
   "metadata": {
    "scrolled": true
   },
   "outputs": [
    {
     "name": "stdout",
     "output_type": "stream",
     "text": [
      "[[55  1]\n",
      " [11 34]]\n",
      "0.9714285714285714\n",
      "0.85\n"
     ]
    }
   ],
   "source": [
    "## Considerando todo el data set \n",
    "y_hat_prob = np.where(model.predict_proba(X)>0.41,1,0)\n",
    "print(confusion_matrix(y, y_hat_prob) )\n",
    "print(precision_score(y, y_hat_prob))\n",
    "print(f1_score(y,y_hat_prob))"
   ]
  },
  {
   "cell_type": "markdown",
   "metadata": {},
   "source": [
    "# Guardando los pesos"
   ]
  },
  {
   "cell_type": "code",
   "execution_count": 45,
   "metadata": {},
   "outputs": [],
   "source": [
    "model.save(\"models/ModeloADAM0.75\") "
   ]
  },
  {
   "cell_type": "code",
   "execution_count": 36,
   "metadata": {},
   "outputs": [
    {
     "name": "stdout",
     "output_type": "stream",
     "text": [
      "21/21 [==============================] - 0s 720us/step\n",
      "[0.6891007423400879, 0.523809552192688]\n"
     ]
    }
   ],
   "source": [
    "score = model.evaluate(X_test, y_test,verbose=1)\n",
    "print(score)"
   ]
  },
  {
   "cell_type": "code",
   "execution_count": 37,
   "metadata": {},
   "outputs": [],
   "source": [
    "#model.load_weights(\"models/ModeloADAM0.95\")"
   ]
  },
  {
   "cell_type": "code",
   "execution_count": 38,
   "metadata": {
    "scrolled": true
   },
   "outputs": [
    {
     "name": "stdout",
     "output_type": "stream",
     "text": [
      "21/21 [==============================] - 0s 813us/step\n",
      "[0.6891007423400879, 0.523809552192688]\n"
     ]
    }
   ],
   "source": [
    "score = model.evaluate(X_test, y_test,verbose=1)\n",
    "print(score)"
   ]
  },
  {
   "cell_type": "code",
   "execution_count": null,
   "metadata": {},
   "outputs": [],
   "source": []
  },
  {
   "cell_type": "code",
   "execution_count": null,
   "metadata": {},
   "outputs": [],
   "source": []
  }
 ],
 "metadata": {
  "kernelspec": {
   "display_name": "Python 3",
   "language": "python",
   "name": "python3"
  },
  "language_info": {
   "codemirror_mode": {
    "name": "ipython",
    "version": 3
   },
   "file_extension": ".py",
   "mimetype": "text/x-python",
   "name": "python",
   "nbconvert_exporter": "python",
   "pygments_lexer": "ipython3",
   "version": "3.6.3"
  }
 },
 "nbformat": 4,
 "nbformat_minor": 2
}
