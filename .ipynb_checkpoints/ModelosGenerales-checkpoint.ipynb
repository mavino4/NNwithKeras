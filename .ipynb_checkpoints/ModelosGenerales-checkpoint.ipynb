{
 "cells": [
  {
   "cell_type": "code",
   "execution_count": 1,
   "metadata": {
    "scrolled": true
   },
   "outputs": [
    {
     "name": "stderr",
     "output_type": "stream",
     "text": [
      "Using TensorFlow backend.\n"
     ]
    }
   ],
   "source": [
    "import keras\n",
    "import numpy as np\n",
    "import pandas as pd\n",
    "import seaborn as sn\n",
    "import matplotlib.pyplot as plt\n",
    "from sklearn.model_selection import train_test_split\n",
    "plt.style.use('ggplot') ## Usando el estilo de gráficos de ggplot\n",
    "%matplotlib inline"
   ]
  },
  {
   "cell_type": "code",
   "execution_count": 2,
   "metadata": {},
   "outputs": [],
   "source": [
    "from numpy.random import seed \n",
    "from tensorflow import set_random_seed\n",
    "rs = 2018 ##Definiendo las semillas para la replicar resultados\n",
    "np.random.seed(rs)\n",
    "set_random_seed(rs)"
   ]
  },
  {
   "cell_type": "markdown",
   "metadata": {},
   "source": [
    "## Spliting\n",
    "Genrando la partición de la muestra de entranamiento y de evaluación"
   ]
  },
  {
   "cell_type": "code",
   "execution_count": 3,
   "metadata": {},
   "outputs": [],
   "source": [
    "Total = pd.read_excel(\"matriz_final_1.xlsx\", skiprows=1) # importando"
   ]
  },
  {
   "cell_type": "code",
   "execution_count": 4,
   "metadata": {},
   "outputs": [
    {
     "data": {
      "text/plain": [
       "(101, 14246)"
      ]
     },
     "execution_count": 4,
     "metadata": {},
     "output_type": "execute_result"
    }
   ],
   "source": [
    "Total.shape # tamaño del dataset"
   ]
  },
  {
   "cell_type": "code",
   "execution_count": 5,
   "metadata": {},
   "outputs": [
    {
     "data": {
      "text/plain": [
       "(101, 14244)"
      ]
     },
     "execution_count": 5,
     "metadata": {},
     "output_type": "execute_result"
    }
   ],
   "source": [
    "Total = Total.iloc[:,1:] #eliminando primera columna\n",
    "y = Total.loc[:,\"Clasificador\"] # Extrayendo clases\n",
    "Total.drop(columns=\"Clasificador\", axis=0, inplace=True) #Eliminando y de la matriz de entrada\n",
    "Total.shape"
   ]
  },
  {
   "cell_type": "markdown",
   "metadata": {},
   "source": [
    "# Realizando la segmentación TF-IDF\n",
    "Podemos observar la matriz de TF con la matriz de conteo de frecuencias absolutas "
   ]
  },
  {
   "cell_type": "markdown",
   "metadata": {},
   "source": [
    "Hallando el TF-IDF \n",
    "$$TF - IDF(t,d) = tf(t,d)\\ x\\ idf(t) $$"
   ]
  },
  {
   "cell_type": "code",
   "execution_count": 6,
   "metadata": {
    "scrolled": false
   },
   "outputs": [
    {
     "data": {
      "text/plain": [
       "TfidfTransformer(norm='l2', smooth_idf=False, sublinear_tf=False,\n",
       "         use_idf=True)"
      ]
     },
     "execution_count": 6,
     "metadata": {},
     "output_type": "execute_result"
    }
   ],
   "source": [
    "from sklearn.feature_extraction.text import TfidfTransformer #importando TD IDF de sklearn\n",
    "transformer = TfidfTransformer(smooth_idf=False) ##seteandola en la función transformer\n",
    "transformer   "
   ]
  },
  {
   "cell_type": "code",
   "execution_count": 7,
   "metadata": {},
   "outputs": [],
   "source": [
    "tfidf = transformer.fit_transform(Total.values) # aplicando la funcion Tf Idf al data set \n",
    "tfidf \n",
    "X = tfidf.toarray()"
   ]
  },
  {
   "cell_type": "code",
   "execution_count": 8,
   "metadata": {
    "scrolled": false
   },
   "outputs": [
    {
     "data": {
      "text/plain": [
       "array([[0.00286045, 0.01401645, 0.00272009, ..., 0.00544017, 0.00849509,\n",
       "        0.01132678],\n",
       "       [0.00573141, 0.01123378, 0.00272509, ..., 0.01362544, 0.0056738 ,\n",
       "        0.        ],\n",
       "       [0.00286615, 0.01123551, 0.00545101, ..., 0.00817652, 0.01418669,\n",
       "        0.00567468],\n",
       "       ...,\n",
       "       [0.00572583, 0.00280571, 0.00544486, ..., 0.        , 0.01133654,\n",
       "        0.        ],\n",
       "       [0.00571359, 0.01119883, 0.01358305, ..., 0.01358305, 0.01414038,\n",
       "        0.00565615],\n",
       "       [0.01148436, 0.00281372, 0.00273021, ..., 0.00546041, 0.01136892,\n",
       "        0.00284223]])"
      ]
     },
     "execution_count": 8,
     "metadata": {},
     "output_type": "execute_result"
    }
   ],
   "source": [
    "X"
   ]
  },
  {
   "cell_type": "code",
   "execution_count": 9,
   "metadata": {},
   "outputs": [],
   "source": [
    "## Separando las muestras de entrenamiento y de control \n",
    "np.random.seed(rs)\n",
    "set_random_seed(rs)\n",
    "X_train, X_test, y_train, y_test = train_test_split(\n",
    "    X, y, test_size=0.2,random_state=rs) # Semilla = random_state "
   ]
  },
  {
   "cell_type": "code",
   "execution_count": 10,
   "metadata": {},
   "outputs": [
    {
     "data": {
      "text/plain": [
       "(80, 14244)"
      ]
     },
     "execution_count": 10,
     "metadata": {},
     "output_type": "execute_result"
    }
   ],
   "source": [
    "X_train.shape"
   ]
  },
  {
   "cell_type": "code",
   "execution_count": 11,
   "metadata": {
    "scrolled": true
   },
   "outputs": [
    {
     "data": {
      "text/plain": [
       "(21, 14244)"
      ]
     },
     "execution_count": 11,
     "metadata": {},
     "output_type": "execute_result"
    }
   ],
   "source": [
    "X_test.shape"
   ]
  },
  {
   "cell_type": "code",
   "execution_count": 12,
   "metadata": {
    "scrolled": false
   },
   "outputs": [
    {
     "data": {
      "image/png": "[encoded data removed]",
      "text/plain": [
       "<Figure size 432x288 with 1 Axes>"
      ]
     },
     "metadata": {
      "needs_background": "light"
     },
     "output_type": "display_data"
    }
   ],
   "source": [
    "fig , ax = plt.subplots(1) #Distribucion total\n",
    "cv, cm = ax.bar((\"Conversaciones SIN\\ncontenido de trata\", \"Conversaciones CON\\ncontenido de trata\"),[56,45])\n",
    "cm.set_facecolor(\"darkorange\")\n",
    "cm.set_width(0.4)\n",
    "cm.set_x(0.78)\n",
    "cv.set_facecolor(\"limegreen\")\n",
    "cv.set_width(0.4)\n",
    "cv.set_x(- 0.21)\n",
    "ax.set_ylabel(\"conteo\")\n",
    "ax.set_title(\"Total de conversaciones\")\n",
    "fig.savefig(\"Total.png\", dpi=300, quality=100)"
   ]
  },
  {
   "cell_type": "code",
   "execution_count": 13,
   "metadata": {
    "scrolled": true
   },
   "outputs": [
    {
     "data": {
      "text/plain": [
       "irn        0.009046\n",
       "tigreal    0.008768\n",
       "conllev    0.008763\n",
       "aaahh      0.008653\n",
       "rhel       0.008628\n",
       "cancion    0.008602\n",
       "city       0.008600\n",
       "trop       0.008600\n",
       "paur       0.008595\n",
       "baoi       0.008523\n",
       "dtype: float64"
      ]
     },
     "execution_count": 13,
     "metadata": {},
     "output_type": "execute_result"
    }
   ],
   "source": [
    "sumRow = Total.sum(axis=1)\n",
    "sumRow.values\n",
    "TotalPer = Total.div(sumRow, axis=0)\n",
    "impRel = TotalPer.mean(axis=0)\n",
    "(impRel.sort_values(ascending=False)*100)[:10]\n"
   ]
  },
  {
   "cell_type": "markdown",
   "metadata": {},
   "source": [
    "## Definiendo la arquitectura de la red neuronal"
   ]
  },
  {
   "cell_type": "code",
   "execution_count": 14,
   "metadata": {},
   "outputs": [],
   "source": [
    "from keras.models import Sequential\n",
    "from keras.layers import Dense,Dropout\n",
    "from keras import optimizers"
   ]
  },
  {
   "cell_type": "code",
   "execution_count": 15,
   "metadata": {},
   "outputs": [],
   "source": [
    "np.random.seed(rs)\n",
    "set_random_seed(rs)\n",
    "sgd = optimizers.SGD(lr=0.01, decay=1e-6, momentum=0.0 ,nesterov=True, )\n",
    "rmsprop = keras.optimizers.RMSprop(lr=0.001, rho=0.9, epsilon=None, decay=0.0)\n",
    "adagrad =  keras.optimizers.Adagrad(lr=0.01, epsilon=None, decay=0.0)\n",
    "adadelta = keras.optimizers.Adadelta(lr=1.0, rho=0.95, epsilon=None, decay=0.0)\n",
    "\n",
    "adam= keras.optimizers.Adam(lr=0.001, beta_1=0.9, beta_2=0.999, epsilon=None, decay=0.0, amsgrad=False)\n",
    "nadam = keras.optimizers.Nadam(lr=0.002, beta_1=0.9, beta_2=0.999, epsilon=None, schedule_decay=0.004)"
   ]
  },
  {
   "cell_type": "code",
   "execution_count": 38,
   "metadata": {},
   "outputs": [],
   "source": [
    "np.random.seed(rs)\n",
    "set_random_seed(rs)\n",
    "Ini = keras.initializers.glorot_uniform(seed=rs)\n",
    "model = Sequential()\n",
    "model.add(Dense(500, activation='sigmoid', input_shape=(14244,) , kernel_initializer= Ini,  bias_initializer=\"zeros\"))\n",
    "model.add(Dropout(0.5))\n",
    "model.add(Dense(200, activation='sigmoid', kernel_initializer=Ini , bias_initializer=\"zeros\"))\n",
    "model.add(Dense(500, activation='sigmoid' , kernel_initializer=Ini,  bias_initializer=\"zeros\"))\n",
    "model.add(Dense(1, activation='sigmoid', kernel_initializer=Ini,  bias_initializer=\"zeros\"))"
   ]
  },
  {
   "cell_type": "code",
   "execution_count": 39,
   "metadata": {},
   "outputs": [
    {
     "data": {
      "text/plain": [
       "(None, 1)"
      ]
     },
     "execution_count": 39,
     "metadata": {},
     "output_type": "execute_result"
    }
   ],
   "source": [
    "# Model output shape\n",
    "model.output_shape\n"
   ]
  },
  {
   "cell_type": "code",
   "execution_count": 40,
   "metadata": {
    "scrolled": true
   },
   "outputs": [
    {
     "name": "stdout",
     "output_type": "stream",
     "text": [
      "_________________________________________________________________\n",
      "Layer (type)                 Output Shape              Param #   \n",
      "=================================================================\n",
      "dense_5 (Dense)              (None, 500)               7122500   \n",
      "_________________________________________________________________\n",
      "dropout_1 (Dropout)          (None, 500)               0         \n",
      "_________________________________________________________________\n",
      "dense_6 (Dense)              (None, 200)               100200    \n",
      "_________________________________________________________________\n",
      "dense_7 (Dense)              (None, 500)               100500    \n",
      "_________________________________________________________________\n",
      "dense_8 (Dense)              (None, 1)                 501       \n",
      "=================================================================\n",
      "Total params: 7,323,701\n",
      "Trainable params: 7,323,701\n",
      "Non-trainable params: 0\n",
      "_________________________________________________________________\n"
     ]
    }
   ],
   "source": [
    "# Model summary\n",
    "model.summary()"
   ]
  },
  {
   "cell_type": "code",
   "execution_count": 41,
   "metadata": {
    "scrolled": false
   },
   "outputs": [
    {
     "data": {
      "image/png": "[encoded data removed]",
      "text/plain": [
       "<Figure size 288x288 with 2 Axes>"
      ]
     },
     "metadata": {
      "needs_background": "light"
     },
     "output_type": "display_data"
    }
   ],
   "source": [
    "W0 = model.get_weights()[6]\n",
    "W0 = W0[:484]\n",
    "W0 = W0.reshape(22,22)\n",
    "plt.matshow(W0)\n",
    "plt.colorbar()\n",
    "plt.title(\"Pesos iniciales\\n\")\n",
    "plt.savefig(\"PesosIniciales.png\")"
   ]
  },
  {
   "cell_type": "markdown",
   "metadata": {},
   "source": [
    "## Entrenando la RED"
   ]
  },
  {
   "cell_type": "code",
   "execution_count": 42,
   "metadata": {},
   "outputs": [],
   "source": [
    "from keras.callbacks import History \n",
    "history = History()"
   ]
  },
  {
   "cell_type": "code",
   "execution_count": 43,
   "metadata": {},
   "outputs": [],
   "source": [
    "np.random.seed(rs)\n",
    "set_random_seed(rs)\n",
    "model.compile(loss='binary_crossentropy',\n",
    "              optimizer='adam',\n",
    "              metrics=['accuracy'])"
   ]
  },
  {
   "cell_type": "code",
   "execution_count": 44,
   "metadata": {
    "scrolled": false
   },
   "outputs": [
    {
     "data": {
      "text/plain": [
       "<keras.callbacks.History at 0x7f9ca47457b8>"
      ]
     },
     "execution_count": 44,
     "metadata": {},
     "output_type": "execute_result"
    }
   ],
   "source": [
    "np.random.seed(rs)\n",
    "set_random_seed(rs)\n",
    "model.fit(X_train, y_train,epochs=50, batch_size=40, verbose=0,callbacks=[history] )"
   ]
  },
  {
   "cell_type": "code",
   "execution_count": 45,
   "metadata": {},
   "outputs": [],
   "source": [
    "history2 = history.history[\"loss\"].copy()"
   ]
  },
  {
   "cell_type": "code",
   "execution_count": 46,
   "metadata": {
    "scrolled": true
   },
   "outputs": [
    {
     "ename": "NameError",
     "evalue": "name 'history3' is not defined",
     "output_type": "error",
     "traceback": [
      "\u001b[0;31m---------------------------------------------------------------------------\u001b[0m",
      "\u001b[0;31mNameError\u001b[0m                                 Traceback (most recent call last)",
      "\u001b[0;32m<ipython-input-46-558aece6f5ca>\u001b[0m in \u001b[0;36m<module>\u001b[0;34m\u001b[0m\n\u001b[1;32m      1\u001b[0m \u001b[0;31m#plt.plot(history1)\u001b[0m\u001b[0;34m\u001b[0m\u001b[0;34m\u001b[0m\u001b[0m\n\u001b[1;32m      2\u001b[0m \u001b[0mplt\u001b[0m\u001b[0;34m.\u001b[0m\u001b[0mplot\u001b[0m\u001b[0;34m(\u001b[0m\u001b[0mhistory2\u001b[0m\u001b[0;34m)\u001b[0m \u001b[0;31m# solo sigmoide\u001b[0m\u001b[0;34m\u001b[0m\u001b[0m\n\u001b[0;32m----> 3\u001b[0;31m \u001b[0mplt\u001b[0m\u001b[0;34m.\u001b[0m\u001b[0mplot\u001b[0m\u001b[0;34m(\u001b[0m\u001b[0mhistory3\u001b[0m\u001b[0;34m)\u001b[0m \u001b[0;31m# solo relu\u001b[0m\u001b[0;34m\u001b[0m\u001b[0m\n\u001b[0m\u001b[1;32m      4\u001b[0m \u001b[0mplt\u001b[0m\u001b[0;34m.\u001b[0m\u001b[0mplot\u001b[0m\u001b[0;34m(\u001b[0m\u001b[0mhistory4\u001b[0m\u001b[0;34m)\u001b[0m \u001b[0;31m# adam mezcla\u001b[0m\u001b[0;34m\u001b[0m\u001b[0m\n\u001b[1;32m      5\u001b[0m \u001b[0mplt\u001b[0m\u001b[0;34m.\u001b[0m\u001b[0mtitle\u001b[0m\u001b[0;34m(\u001b[0m\u001b[0;34m\"Función de costo\"\u001b[0m\u001b[0;34m)\u001b[0m\u001b[0;34m\u001b[0m\u001b[0m\n",
      "\u001b[0;31mNameError\u001b[0m: name 'history3' is not defined"
     ]
    },
    {
     "data": {
      "image/png": "[encoded data removed]",
      "text/plain": [
       "<Figure size 432x288 with 1 Axes>"
      ]
     },
     "metadata": {
      "needs_background": "light"
     },
     "output_type": "display_data"
    }
   ],
   "source": [
    "#plt.plot(history1)\n",
    "plt.plot(history2) # solo sigmoide\n",
    "plt.plot(history3) # solo relu\n",
    "plt.plot(history4) # adam mezcla\n",
    "plt.title(\"Función de costo\")\n",
    "plt.xlabel(\"Epochs\")\n",
    "plt.legend([\"Sig\", \"ReLU\", \"Mix\"] )\n",
    "plt.savefig(\"función de costoMultiple2.png\", dpi=300, quality=100)\n"
   ]
  },
  {
   "cell_type": "code",
   "execution_count": 47,
   "metadata": {},
   "outputs": [
    {
     "data": {
      "image/png": "[encoded data removed]",
      "text/plain": [
       "<Figure size 432x288 with 1 Axes>"
      ]
     },
     "metadata": {
      "needs_background": "light"
     },
     "output_type": "display_data"
    }
   ],
   "source": [
    "plt.plot(history.history[\"acc\"])\n",
    "plt.title(\"Acurracy del modelo durante\\nel entrenamiento\")\n",
    "plt.xlabel(\"Epochs\")\n",
    "plt.savefig(\"precisión del modelo.png\", dpi=300, quality=100)"
   ]
  },
  {
   "cell_type": "code",
   "execution_count": 48,
   "metadata": {
    "scrolled": false
   },
   "outputs": [
    {
     "data": {
      "text/plain": [
       "99    0\n",
       "48    1\n",
       "37    1\n",
       "96    1\n",
       "97    0\n",
       "Name: Clasificador, dtype: int64"
      ]
     },
     "execution_count": 48,
     "metadata": {},
     "output_type": "execute_result"
    }
   ],
   "source": [
    "y_train[:5]"
   ]
  },
  {
   "cell_type": "code",
   "execution_count": 49,
   "metadata": {
    "scrolled": false
   },
   "outputs": [
    {
     "data": {
      "image/png": "[encoded data removed]",
      "text/plain": [
       "<Figure size 432x288 with 3 Axes>"
      ]
     },
     "metadata": {
      "needs_background": "light"
     },
     "output_type": "display_data"
    }
   ],
   "source": [
    "W1 = model.get_weights()[6]\n",
    "W1 = W1[:484]\n",
    "W1 = W1.reshape(22,22)\n",
    "\n",
    "fig , ax = plt.subplots(1,2)\n",
    "img = ax[0].matshow(W0, cmap = plt.cm.RdBu)\n",
    "ax[0].title.set_text(\"Pesos Iniciales\\n\")\n",
    "\n",
    "ax[0].set_yticks([])\n",
    "\n",
    "ax[1].matshow(W1, cmap = plt.cm.RdBu)\n",
    "ax[1].title.set_text(\"Pesos Finales\\n\")\n",
    "\n",
    "fig.subplots_adjust(right=0.8)\n",
    "cbar_ax = fig.add_axes([0.83, 0.29, 0.04, 0.5])\n",
    "fig.colorbar(img, cax=cbar_ax)\n",
    "\n",
    "\n",
    "plt.savefig(\"PesosInicialesFinales.png\", dpi=300, quality = 100)\n",
    "plt.show()\n"
   ]
  },
  {
   "cell_type": "markdown",
   "metadata": {},
   "source": [
    "## Generando las predicciones"
   ]
  },
  {
   "cell_type": "code",
   "execution_count": 50,
   "metadata": {
    "scrolled": true
   },
   "outputs": [
    {
     "data": {
      "text/plain": [
       "array([[0],\n",
       "       [1],\n",
       "       [1],\n",
       "       [1],\n",
       "       [0]], dtype=int32)"
      ]
     },
     "execution_count": 50,
     "metadata": {},
     "output_type": "execute_result"
    }
   ],
   "source": [
    "y_pred = model.predict_classes(X_train) # \n",
    "y_pred[:5]"
   ]
  },
  {
   "cell_type": "code",
   "execution_count": 51,
   "metadata": {
    "scrolled": true
   },
   "outputs": [
    {
     "name": "stdout",
     "output_type": "stream",
     "text": [
      "21/21 [==============================] - 0s 2ms/step\n",
      "[0.7670680284500122, 0.4761904776096344]\n"
     ]
    }
   ],
   "source": [
    "score = model.evaluate(X_test, y_test,verbose=1)\n",
    "print(score) # [1.1593891382217407, 0.4761904776096344]"
   ]
  },
  {
   "cell_type": "markdown",
   "metadata": {},
   "source": [
    "## Evaluando el modelo "
   ]
  },
  {
   "cell_type": "code",
   "execution_count": 52,
   "metadata": {
    "scrolled": true
   },
   "outputs": [],
   "source": [
    "# Import the modules from `sklearn.metrics`\n",
    "from sklearn.metrics import confusion_matrix, precision_score, recall_score, f1_score, cohen_kappa_score"
   ]
  },
  {
   "cell_type": "code",
   "execution_count": 53,
   "metadata": {
    "scrolled": false
   },
   "outputs": [
    {
     "name": "stdout",
     "output_type": "stream",
     "text": [
      "1 [0]\n",
      "1 [1]\n",
      "1 [1]\n",
      "1 [1]\n",
      "0 [0]\n",
      "1 [0]\n",
      "0 [0]\n",
      "0 [1]\n",
      "0 [1]\n",
      "0 [0]\n",
      "1 [0]\n",
      "1 [1]\n",
      "1 [1]\n",
      "0 [1]\n",
      "1 [0]\n",
      "1 [0]\n",
      "0 [1]\n",
      "0 [0]\n",
      "0 [1]\n",
      "1 [0]\n",
      "0 [0]\n"
     ]
    }
   ],
   "source": [
    "for y_t, yhat in zip(y_test , y_pred):\n",
    "    print (y_t, yhat)"
   ]
  },
  {
   "cell_type": "code",
   "execution_count": 54,
   "metadata": {},
   "outputs": [
    {
     "name": "stdout",
     "output_type": "stream",
     "text": [
      "    1  0\n",
      "1  11  0\n",
      "0  10  0\n",
      "0.5238095238095238\n",
      "0.6875000000000001\n"
     ]
    }
   ],
   "source": [
    "# Confusion matrix en valores absolutos  solamente el test \n",
    "thresholdProb= 0.28\n",
    "y_pred = np.where(model.predict_proba(X_test)>=thresholdProb,1,0)\n",
    "ET = pd.DataFrame(confusion_matrix(y_test, y_pred))\n",
    "ET = ET.sort_index(ascending=False,axis=1)\n",
    "ET = ET.sort_index(ascending=False,axis=0)\n",
    "print(ET)\n",
    "print(precision_score(y_test, y_pred))\n",
    "print(f1_score(y_test,y_pred))"
   ]
  },
  {
   "cell_type": "code",
   "execution_count": 55,
   "metadata": {
    "scrolled": true
   },
   "outputs": [
    {
     "data": {
      "image/png": "[encoded data removed]",
      "text/plain": [
       "<Figure size 432x288 with 1 Axes>"
      ]
     },
     "metadata": {
      "needs_background": "light"
     },
     "output_type": "display_data"
    }
   ],
   "source": [
    "model.predict_proba(X_test)[np.where(y_test == 1, True, False)]\n",
    "plt.hist(model.predict_proba(X_test))\n",
    "plt.title(\"Distribución de la probabilidades predecidas por el modelo\\n\")\n",
    "plt.suptitle(\"(Solamente casos y_test = 1)\", x=0.5, y= 0.94)\n",
    "plt.vlines(thresholdProb, 0 ,7)\n",
    "plt.ylim(0, 7)\n",
    "plt.xlabel(\"Probabilidad estimada\")\n",
    "plt.ylabel(\"frecuencia\")\n",
    "\n",
    "plt.savefig(\"DistribucionProbEst.png\", dpi=300)"
   ]
  },
  {
   "cell_type": "code",
   "execution_count": 56,
   "metadata": {
    "scrolled": true
   },
   "outputs": [
    {
     "data": {
      "image/png": "[encoded data removed]",
      "text/plain": [
       "<Figure size 432x288 with 1 Axes>"
      ]
     },
     "metadata": {
      "needs_background": "light"
     },
     "output_type": "display_data"
    }
   ],
   "source": [
    "sn.heatmap(ET, annot=True, annot_kws={\"size\": 20}, cmap = plt.cm.Greens, cbar=False)\n",
    "plt.title(\"Matriz de Confusión\\n\", fontsize= 18)\n",
    "plt.suptitle(\"(Dataset de prueba)\", x=0.5, y= 0.94)\n",
    "plt.xticks([0.5,1.5],[\"Convesaciones CON\\ncontenido de trata\",\"Conversaciones SIN\\ncontenido de trata\"], fontsize = 12)\n",
    "plt.yticks([0.5,1.5],[\"Convesaciones CON\\ncontenido de trata\",\"Conversaciones SIN\\ncontenido de trata\"],rotation = 360, fontsize= 12)\n",
    "plt.savefig(\"MatrizDeConfusionTEST.png\", dpi=300)\n"
   ]
  },
  {
   "cell_type": "code",
   "execution_count": 57,
   "metadata": {
    "scrolled": true
   },
   "outputs": [
    {
     "name": "stdout",
     "output_type": "stream",
     "text": [
      "0.8181818181818182\n",
      "0.9\n"
     ]
    },
    {
     "data": {
      "image/png": "[encoded data removed]",
      "text/plain": [
       "<Figure size 432x288 with 1 Axes>"
      ]
     },
     "metadata": {
      "needs_background": "light"
     },
     "output_type": "display_data"
    }
   ],
   "source": [
    "## Considerando todo el data set \n",
    "y_hat_prob = np.where(model.predict_proba(X)>thresholdProb,1,0)\n",
    "TT = pd.DataFrame(confusion_matrix(y, y_hat_prob))\n",
    "TT = TT.sort_index(ascending=False,axis=1)\n",
    "TT = TT.sort_index(ascending=False,axis=0)\n",
    "print(precision_score(y, y_hat_prob))\n",
    "print(f1_score(y,y_hat_prob))\n",
    "sn.heatmap(TT, annot=True, annot_kws={\"size\": 20}, cmap = plt.cm.Greens, cbar=False)\n",
    "plt.title(\"Matriz de Confusión\\n\", fontsize= 18)\n",
    "plt.suptitle(\"(Dataset de completo)\", x=0.5, y= 0.94)\n",
    "plt.xticks([0.5,1.5],[\"Convesaciones CON\\ncontenido de trata\",\"Conversaciones SIN\\ncontenido de trata\"], fontsize = 12)\n",
    "plt.yticks([0.5,1.5],[\"Convesaciones CON\\ncontenido de trata\",\"Conversaciones SIN\\ncontenido de trata\"],rotation = 360, fontsize= 12)\n",
    "plt.savefig(\"MatrizDeConfusionTOTAL.png\", dpi=300)\n"
   ]
  },
  {
   "cell_type": "markdown",
   "metadata": {},
   "source": [
    "# Guardando los pesos"
   ]
  },
  {
   "cell_type": "code",
   "execution_count": null,
   "metadata": {},
   "outputs": [],
   "source": [
    "model.save(\"models/ModeloRELU\") "
   ]
  },
  {
   "cell_type": "code",
   "execution_count": null,
   "metadata": {},
   "outputs": [],
   "source": [
    "score = model.evaluate(X_test, y_test,verbose=1)\n",
    "print(score)"
   ]
  },
  {
   "cell_type": "code",
   "execution_count": null,
   "metadata": {},
   "outputs": [],
   "source": [
    "#model.load_weights(\"models/ModeloADAM0.95\")"
   ]
  },
  {
   "cell_type": "code",
   "execution_count": null,
   "metadata": {
    "scrolled": true
   },
   "outputs": [],
   "source": [
    "score = model.evaluate(X_test, y_test,verbose=1)\n",
    "print(score)"
   ]
  },
  {
   "cell_type": "code",
   "execution_count": null,
   "metadata": {},
   "outputs": [],
   "source": []
  },
  {
   "cell_type": "code",
   "execution_count": null,
   "metadata": {},
   "outputs": [],
   "source": []
  }
 ],
 "metadata": {
  "kernelspec": {
   "display_name": "Python 3",
   "language": "python",
   "name": "python3"
  },
  "language_info": {
   "codemirror_mode": {
    "name": "ipython",
    "version": 3
   },
   "file_extension": ".py",
   "mimetype": "text/x-python",
   "name": "python",
   "nbconvert_exporter": "python",
   "pygments_lexer": "ipython3",
   "version": "3.6.5"
  }
 },
 "nbformat": 4,
 "nbformat_minor": 2
}
