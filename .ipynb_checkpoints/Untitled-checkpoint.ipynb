{
 "cells": [
  {
   "cell_type": "code",
   "execution_count": 1,
   "metadata": {
    "scrolled": true
   },
   "outputs": [
    {
     "name": "stderr",
     "output_type": "stream",
     "text": [
      "/usr/local/lib/python3.6/dist-packages/h5py/__init__.py:36: FutureWarning: Conversion of the second argument of issubdtype from `float` to `np.floating` is deprecated. In future, it will be treated as `np.float64 == np.dtype(float).type`.\n",
      "  from ._conv import register_converters as _register_converters\n",
      "Using TensorFlow backend.\n"
     ]
    }
   ],
   "source": [
    "import keras\n",
    "import numpy as np"
   ]
  },
  {
   "cell_type": "markdown",
   "metadata": {},
   "source": [
    "## Spliting\n",
    "Genrando la partición de la muestra de entranamiento y de evaluación"
   ]
  },
  {
   "cell_type": "code",
   "execution_count": 2,
   "metadata": {},
   "outputs": [],
   "source": [
    "X_train = np.random.chisquare(2,size=(1500,500))"
   ]
  },
  {
   "cell_type": "code",
   "execution_count": 3,
   "metadata": {},
   "outputs": [],
   "source": [
    "Y_train = np.random.randint(0,2,size=(1500,))"
   ]
  },
  {
   "cell_type": "code",
   "execution_count": null,
   "metadata": {},
   "outputs": [],
   "source": []
  },
  {
   "cell_type": "code",
   "execution_count": null,
   "metadata": {},
   "outputs": [],
   "source": []
  },
  {
   "cell_type": "code",
   "execution_count": null,
   "metadata": {},
   "outputs": [],
   "source": []
  },
  {
   "cell_type": "code",
   "execution_count": null,
   "metadata": {},
   "outputs": [],
   "source": []
  },
  {
   "cell_type": "markdown",
   "metadata": {},
   "source": [
    "## Definiendo la architectura de la red neuronal"
   ]
  },
  {
   "cell_type": "code",
   "execution_count": 4,
   "metadata": {},
   "outputs": [],
   "source": [
    "from keras.models import Sequential\n",
    "from keras.layers import Dense"
   ]
  },
  {
   "cell_type": "code",
   "execution_count": 41,
   "metadata": {},
   "outputs": [],
   "source": [
    "model = Sequential()\n",
    "\n",
    "model.add(Dense(501, activation='relu', input_shape=(500,)))\n",
    "\n",
    "model.add(Dense(500, activation='sigmoid'))\n",
    "\n",
    "model.add(Dense(25, activation='relu'))\n",
    "\n",
    "model.add(Dense(1, activation='sigmoid'))"
   ]
  },
  {
   "cell_type": "code",
   "execution_count": 42,
   "metadata": {},
   "outputs": [
    {
     "data": {
      "text/plain": [
       "(None, 1)"
      ]
     },
     "execution_count": 42,
     "metadata": {},
     "output_type": "execute_result"
    }
   ],
   "source": [
    "# Model output shape\n",
    "model.output_shape"
   ]
  },
  {
   "cell_type": "code",
   "execution_count": 43,
   "metadata": {},
   "outputs": [
    {
     "name": "stdout",
     "output_type": "stream",
     "text": [
      "_________________________________________________________________\n",
      "Layer (type)                 Output Shape              Param #   \n",
      "=================================================================\n",
      "dense_4 (Dense)              (None, 501)               251001    \n",
      "_________________________________________________________________\n",
      "dense_5 (Dense)              (None, 500)               251000    \n",
      "_________________________________________________________________\n",
      "dense_6 (Dense)              (None, 25)                12525     \n",
      "_________________________________________________________________\n",
      "dense_7 (Dense)              (None, 1)                 26        \n",
      "=================================================================\n",
      "Total params: 514,552\n",
      "Trainable params: 514,552\n",
      "Non-trainable params: 0\n",
      "_________________________________________________________________\n"
     ]
    }
   ],
   "source": [
    "# Model summary\n",
    "model.summary()"
   ]
  },
  {
   "cell_type": "code",
   "execution_count": 44,
   "metadata": {},
   "outputs": [
    {
     "data": {
      "text/plain": [
       "[{'class_name': 'Dense',\n",
       "  'config': {'name': 'dense_4',\n",
       "   'trainable': True,\n",
       "   'batch_input_shape': (None, 500),\n",
       "   'dtype': 'float32',\n",
       "   'units': 501,\n",
       "   'activation': 'relu',\n",
       "   'use_bias': True,\n",
       "   'kernel_initializer': {'class_name': 'VarianceScaling',\n",
       "    'config': {'scale': 1.0,\n",
       "     'mode': 'fan_avg',\n",
       "     'distribution': 'uniform',\n",
       "     'seed': None}},\n",
       "   'bias_initializer': {'class_name': 'Zeros', 'config': {}},\n",
       "   'kernel_regularizer': None,\n",
       "   'bias_regularizer': None,\n",
       "   'activity_regularizer': None,\n",
       "   'kernel_constraint': None,\n",
       "   'bias_constraint': None}},\n",
       " {'class_name': 'Dense',\n",
       "  'config': {'name': 'dense_5',\n",
       "   'trainable': True,\n",
       "   'units': 500,\n",
       "   'activation': 'sigmoid',\n",
       "   'use_bias': True,\n",
       "   'kernel_initializer': {'class_name': 'VarianceScaling',\n",
       "    'config': {'scale': 1.0,\n",
       "     'mode': 'fan_avg',\n",
       "     'distribution': 'uniform',\n",
       "     'seed': None}},\n",
       "   'bias_initializer': {'class_name': 'Zeros', 'config': {}},\n",
       "   'kernel_regularizer': None,\n",
       "   'bias_regularizer': None,\n",
       "   'activity_regularizer': None,\n",
       "   'kernel_constraint': None,\n",
       "   'bias_constraint': None}},\n",
       " {'class_name': 'Dense',\n",
       "  'config': {'name': 'dense_6',\n",
       "   'trainable': True,\n",
       "   'units': 25,\n",
       "   'activation': 'relu',\n",
       "   'use_bias': True,\n",
       "   'kernel_initializer': {'class_name': 'VarianceScaling',\n",
       "    'config': {'scale': 1.0,\n",
       "     'mode': 'fan_avg',\n",
       "     'distribution': 'uniform',\n",
       "     'seed': None}},\n",
       "   'bias_initializer': {'class_name': 'Zeros', 'config': {}},\n",
       "   'kernel_regularizer': None,\n",
       "   'bias_regularizer': None,\n",
       "   'activity_regularizer': None,\n",
       "   'kernel_constraint': None,\n",
       "   'bias_constraint': None}},\n",
       " {'class_name': 'Dense',\n",
       "  'config': {'name': 'dense_7',\n",
       "   'trainable': True,\n",
       "   'units': 1,\n",
       "   'activation': 'sigmoid',\n",
       "   'use_bias': True,\n",
       "   'kernel_initializer': {'class_name': 'VarianceScaling',\n",
       "    'config': {'scale': 1.0,\n",
       "     'mode': 'fan_avg',\n",
       "     'distribution': 'uniform',\n",
       "     'seed': None}},\n",
       "   'bias_initializer': {'class_name': 'Zeros', 'config': {}},\n",
       "   'kernel_regularizer': None,\n",
       "   'bias_regularizer': None,\n",
       "   'activity_regularizer': None,\n",
       "   'kernel_constraint': None,\n",
       "   'bias_constraint': None}}]"
      ]
     },
     "execution_count": 44,
     "metadata": {},
     "output_type": "execute_result"
    }
   ],
   "source": [
    "# Model config\n",
    "model.get_config()"
   ]
  },
  {
   "cell_type": "code",
   "execution_count": 45,
   "metadata": {
    "scrolled": false
   },
   "outputs": [
    {
     "data": {
      "text/plain": [
       "[array([[-0.03803853, -0.06440337,  0.01773304, ..., -0.0074011 ,\n",
       "         -0.07581782,  0.0337076 ],\n",
       "        [ 0.02819622,  0.01364945,  0.02310999, ...,  0.00726115,\n",
       "         -0.00018732,  0.07437748],\n",
       "        [ 0.05198799, -0.02945833,  0.03580656, ...,  0.04089917,\n",
       "         -0.067963  , -0.03665615],\n",
       "        ...,\n",
       "        [-0.03186081, -0.01995055, -0.0324044 , ...,  0.00750001,\n",
       "          0.07235758, -0.01641383],\n",
       "        [-0.0662999 ,  0.07646032, -0.05647297, ..., -0.00640234,\n",
       "          0.05266578, -0.06562075],\n",
       "        [ 0.02680044,  0.05141801,  0.03803964, ..., -0.0107367 ,\n",
       "         -0.01553018,  0.05616525]], dtype=float32),\n",
       " array([0., 0., 0., 0., 0., 0., 0., 0., 0., 0., 0., 0., 0., 0., 0., 0., 0.,\n",
       "        0., 0., 0., 0., 0., 0., 0., 0., 0., 0., 0., 0., 0., 0., 0., 0., 0.,\n",
       "        0., 0., 0., 0., 0., 0., 0., 0., 0., 0., 0., 0., 0., 0., 0., 0., 0.,\n",
       "        0., 0., 0., 0., 0., 0., 0., 0., 0., 0., 0., 0., 0., 0., 0., 0., 0.,\n",
       "        0., 0., 0., 0., 0., 0., 0., 0., 0., 0., 0., 0., 0., 0., 0., 0., 0.,\n",
       "        0., 0., 0., 0., 0., 0., 0., 0., 0., 0., 0., 0., 0., 0., 0., 0., 0.,\n",
       "        0., 0., 0., 0., 0., 0., 0., 0., 0., 0., 0., 0., 0., 0., 0., 0., 0.,\n",
       "        0., 0., 0., 0., 0., 0., 0., 0., 0., 0., 0., 0., 0., 0., 0., 0., 0.,\n",
       "        0., 0., 0., 0., 0., 0., 0., 0., 0., 0., 0., 0., 0., 0., 0., 0., 0.,\n",
       "        0., 0., 0., 0., 0., 0., 0., 0., 0., 0., 0., 0., 0., 0., 0., 0., 0.,\n",
       "        0., 0., 0., 0., 0., 0., 0., 0., 0., 0., 0., 0., 0., 0., 0., 0., 0.,\n",
       "        0., 0., 0., 0., 0., 0., 0., 0., 0., 0., 0., 0., 0., 0., 0., 0., 0.,\n",
       "        0., 0., 0., 0., 0., 0., 0., 0., 0., 0., 0., 0., 0., 0., 0., 0., 0.,\n",
       "        0., 0., 0., 0., 0., 0., 0., 0., 0., 0., 0., 0., 0., 0., 0., 0., 0.,\n",
       "        0., 0., 0., 0., 0., 0., 0., 0., 0., 0., 0., 0., 0., 0., 0., 0., 0.,\n",
       "        0., 0., 0., 0., 0., 0., 0., 0., 0., 0., 0., 0., 0., 0., 0., 0., 0.,\n",
       "        0., 0., 0., 0., 0., 0., 0., 0., 0., 0., 0., 0., 0., 0., 0., 0., 0.,\n",
       "        0., 0., 0., 0., 0., 0., 0., 0., 0., 0., 0., 0., 0., 0., 0., 0., 0.,\n",
       "        0., 0., 0., 0., 0., 0., 0., 0., 0., 0., 0., 0., 0., 0., 0., 0., 0.,\n",
       "        0., 0., 0., 0., 0., 0., 0., 0., 0., 0., 0., 0., 0., 0., 0., 0., 0.,\n",
       "        0., 0., 0., 0., 0., 0., 0., 0., 0., 0., 0., 0., 0., 0., 0., 0., 0.,\n",
       "        0., 0., 0., 0., 0., 0., 0., 0., 0., 0., 0., 0., 0., 0., 0., 0., 0.,\n",
       "        0., 0., 0., 0., 0., 0., 0., 0., 0., 0., 0., 0., 0., 0., 0., 0., 0.,\n",
       "        0., 0., 0., 0., 0., 0., 0., 0., 0., 0., 0., 0., 0., 0., 0., 0., 0.,\n",
       "        0., 0., 0., 0., 0., 0., 0., 0., 0., 0., 0., 0., 0., 0., 0., 0., 0.,\n",
       "        0., 0., 0., 0., 0., 0., 0., 0., 0., 0., 0., 0., 0., 0., 0., 0., 0.,\n",
       "        0., 0., 0., 0., 0., 0., 0., 0., 0., 0., 0., 0., 0., 0., 0., 0., 0.,\n",
       "        0., 0., 0., 0., 0., 0., 0., 0., 0., 0., 0., 0., 0., 0., 0., 0., 0.,\n",
       "        0., 0., 0., 0., 0., 0., 0., 0., 0., 0., 0., 0., 0., 0., 0., 0., 0.,\n",
       "        0., 0., 0., 0., 0., 0., 0., 0.], dtype=float32),\n",
       " array([[-0.01555685,  0.02045067, -0.06754611, ..., -0.02878841,\n",
       "          0.07075098,  0.01602228],\n",
       "        [ 0.01658232,  0.07633545,  0.02692974, ..., -0.01429513,\n",
       "          0.0314687 , -0.03839312],\n",
       "        [ 0.04206637,  0.04503883, -0.03282701, ...,  0.01262941,\n",
       "         -0.02353427,  0.06436403],\n",
       "        ...,\n",
       "        [-0.0265227 , -0.0630426 , -0.02168411, ...,  0.02166417,\n",
       "          0.0744483 ,  0.02708343],\n",
       "        [ 0.01557335,  0.00898682, -0.03058342, ..., -0.04368686,\n",
       "         -0.03578969,  0.06530002],\n",
       "        [-0.00754151, -0.05007208,  0.02425577, ...,  0.02856645,\n",
       "         -0.01362187, -0.04907085]], dtype=float32),\n",
       " array([0., 0., 0., 0., 0., 0., 0., 0., 0., 0., 0., 0., 0., 0., 0., 0., 0.,\n",
       "        0., 0., 0., 0., 0., 0., 0., 0., 0., 0., 0., 0., 0., 0., 0., 0., 0.,\n",
       "        0., 0., 0., 0., 0., 0., 0., 0., 0., 0., 0., 0., 0., 0., 0., 0., 0.,\n",
       "        0., 0., 0., 0., 0., 0., 0., 0., 0., 0., 0., 0., 0., 0., 0., 0., 0.,\n",
       "        0., 0., 0., 0., 0., 0., 0., 0., 0., 0., 0., 0., 0., 0., 0., 0., 0.,\n",
       "        0., 0., 0., 0., 0., 0., 0., 0., 0., 0., 0., 0., 0., 0., 0., 0., 0.,\n",
       "        0., 0., 0., 0., 0., 0., 0., 0., 0., 0., 0., 0., 0., 0., 0., 0., 0.,\n",
       "        0., 0., 0., 0., 0., 0., 0., 0., 0., 0., 0., 0., 0., 0., 0., 0., 0.,\n",
       "        0., 0., 0., 0., 0., 0., 0., 0., 0., 0., 0., 0., 0., 0., 0., 0., 0.,\n",
       "        0., 0., 0., 0., 0., 0., 0., 0., 0., 0., 0., 0., 0., 0., 0., 0., 0.,\n",
       "        0., 0., 0., 0., 0., 0., 0., 0., 0., 0., 0., 0., 0., 0., 0., 0., 0.,\n",
       "        0., 0., 0., 0., 0., 0., 0., 0., 0., 0., 0., 0., 0., 0., 0., 0., 0.,\n",
       "        0., 0., 0., 0., 0., 0., 0., 0., 0., 0., 0., 0., 0., 0., 0., 0., 0.,\n",
       "        0., 0., 0., 0., 0., 0., 0., 0., 0., 0., 0., 0., 0., 0., 0., 0., 0.,\n",
       "        0., 0., 0., 0., 0., 0., 0., 0., 0., 0., 0., 0., 0., 0., 0., 0., 0.,\n",
       "        0., 0., 0., 0., 0., 0., 0., 0., 0., 0., 0., 0., 0., 0., 0., 0., 0.,\n",
       "        0., 0., 0., 0., 0., 0., 0., 0., 0., 0., 0., 0., 0., 0., 0., 0., 0.,\n",
       "        0., 0., 0., 0., 0., 0., 0., 0., 0., 0., 0., 0., 0., 0., 0., 0., 0.,\n",
       "        0., 0., 0., 0., 0., 0., 0., 0., 0., 0., 0., 0., 0., 0., 0., 0., 0.,\n",
       "        0., 0., 0., 0., 0., 0., 0., 0., 0., 0., 0., 0., 0., 0., 0., 0., 0.,\n",
       "        0., 0., 0., 0., 0., 0., 0., 0., 0., 0., 0., 0., 0., 0., 0., 0., 0.,\n",
       "        0., 0., 0., 0., 0., 0., 0., 0., 0., 0., 0., 0., 0., 0., 0., 0., 0.,\n",
       "        0., 0., 0., 0., 0., 0., 0., 0., 0., 0., 0., 0., 0., 0., 0., 0., 0.,\n",
       "        0., 0., 0., 0., 0., 0., 0., 0., 0., 0., 0., 0., 0., 0., 0., 0., 0.,\n",
       "        0., 0., 0., 0., 0., 0., 0., 0., 0., 0., 0., 0., 0., 0., 0., 0., 0.,\n",
       "        0., 0., 0., 0., 0., 0., 0., 0., 0., 0., 0., 0., 0., 0., 0., 0., 0.,\n",
       "        0., 0., 0., 0., 0., 0., 0., 0., 0., 0., 0., 0., 0., 0., 0., 0., 0.,\n",
       "        0., 0., 0., 0., 0., 0., 0., 0., 0., 0., 0., 0., 0., 0., 0., 0., 0.,\n",
       "        0., 0., 0., 0., 0., 0., 0., 0., 0., 0., 0., 0., 0., 0., 0., 0., 0.,\n",
       "        0., 0., 0., 0., 0., 0., 0.], dtype=float32),\n",
       " array([[-0.01162557, -0.05276948, -0.02490557, ...,  0.02380423,\n",
       "          0.06947441,  0.08395968],\n",
       "        [-0.08653983, -0.02233479, -0.0435447 , ..., -0.0104051 ,\n",
       "          0.02932592,  0.05712094],\n",
       "        [-0.0427376 , -0.0218819 ,  0.07537775, ...,  0.05873416,\n",
       "          0.0706312 ,  0.05565736],\n",
       "        ...,\n",
       "        [-0.02884948,  0.05710382, -0.08409043, ...,  0.00512444,\n",
       "         -0.07303038, -0.01342834],\n",
       "        [ 0.03807872, -0.02811907,  0.07782514, ..., -0.09456835,\n",
       "         -0.01942375,  0.08258585],\n",
       "        [-0.05863399, -0.04691095, -0.09719168, ...,  0.08715153,\n",
       "          0.03021493,  0.02305501]], dtype=float32),\n",
       " array([0., 0., 0., 0., 0., 0., 0., 0., 0., 0., 0., 0., 0., 0., 0., 0., 0.,\n",
       "        0., 0., 0., 0., 0., 0., 0., 0.], dtype=float32),\n",
       " array([[-0.14160842],\n",
       "        [ 0.2152934 ],\n",
       "        [ 0.17119527],\n",
       "        [ 0.29984593],\n",
       "        [ 0.00547135],\n",
       "        [-0.03449732],\n",
       "        [-0.39557654],\n",
       "        [-0.27540404],\n",
       "        [ 0.4013343 ],\n",
       "        [-0.10676783],\n",
       "        [-0.36721563],\n",
       "        [-0.26930147],\n",
       "        [-0.09594303],\n",
       "        [ 0.40948308],\n",
       "        [ 0.17668104],\n",
       "        [ 0.11726588],\n",
       "        [ 0.04705113],\n",
       "        [ 0.3537442 ],\n",
       "        [-0.2849102 ],\n",
       "        [ 0.42742783],\n",
       "        [ 0.4344648 ],\n",
       "        [ 0.36756885],\n",
       "        [-0.32541984],\n",
       "        [-0.37548578],\n",
       "        [-0.23175679]], dtype=float32),\n",
       " array([0.], dtype=float32)]"
      ]
     },
     "execution_count": 45,
     "metadata": {},
     "output_type": "execute_result"
    }
   ],
   "source": [
    "# List all weight tensors \n",
    "model.get_weights()"
   ]
  },
  {
   "cell_type": "markdown",
   "metadata": {},
   "source": [
    "## Entrenando la RED"
   ]
  },
  {
   "cell_type": "code",
   "execution_count": 46,
   "metadata": {},
   "outputs": [],
   "source": [
    "model.compile(loss='binary_crossentropy',\n",
    "              optimizer='adam',\n",
    "              metrics=['accuracy'])"
   ]
  },
  {
   "cell_type": "code",
   "execution_count": 47,
   "metadata": {},
   "outputs": [
    {
     "name": "stdout",
     "output_type": "stream",
     "text": [
      "Epoch 1/100\n",
      "1500/1500 [==============================] - 1s 497us/step - loss: 0.7337 - acc: 0.4920\n",
      "Epoch 2/100\n",
      "1500/1500 [==============================] - 0s 220us/step - loss: 0.6835 - acc: 0.5907\n",
      "Epoch 3/100\n",
      "1500/1500 [==============================] - 0s 218us/step - loss: 0.6899 - acc: 0.5240\n",
      "Epoch 4/100\n",
      "1500/1500 [==============================] - 0s 223us/step - loss: 0.6571 - acc: 0.5727\n",
      "Epoch 5/100\n",
      "1500/1500 [==============================] - 0s 221us/step - loss: 0.6268 - acc: 0.6387\n",
      "Epoch 6/100\n",
      "1500/1500 [==============================] - 0s 239us/step - loss: 0.5487 - acc: 0.7447\n",
      "Epoch 7/100\n",
      "1500/1500 [==============================] - 0s 226us/step - loss: 0.4483 - acc: 0.8100\n",
      "Epoch 8/100\n",
      "1500/1500 [==============================] - 0s 220us/step - loss: 0.3010 - acc: 0.8993\n",
      "Epoch 9/100\n",
      "1500/1500 [==============================] - 0s 229us/step - loss: 0.1848 - acc: 0.9427\n",
      "Epoch 10/100\n",
      "1500/1500 [==============================] - 0s 231us/step - loss: 0.0753 - acc: 0.9873\n",
      "Epoch 11/100\n",
      "1500/1500 [==============================] - 0s 231us/step - loss: 0.0275 - acc: 0.9973\n",
      "Epoch 12/100\n",
      "1500/1500 [==============================] - 0s 242us/step - loss: 0.0070 - acc: 1.0000\n",
      "Epoch 13/100\n",
      "1500/1500 [==============================] - 0s 251us/step - loss: 0.0026 - acc: 1.0000\n",
      "Epoch 14/100\n",
      "1500/1500 [==============================] - 0s 248us/step - loss: 0.0014 - acc: 1.0000\n",
      "Epoch 15/100\n",
      "1500/1500 [==============================] - 0s 232us/step - loss: 0.0010 - acc: 1.0000\n",
      "Epoch 16/100\n",
      "1500/1500 [==============================] - 0s 232us/step - loss: 7.9892e-04 - acc: 1.0000\n",
      "Epoch 17/100\n",
      "1500/1500 [==============================] - 0s 247us/step - loss: 6.6813e-04 - acc: 1.0000\n",
      "Epoch 18/100\n",
      "1500/1500 [==============================] - 0s 226us/step - loss: 5.7663e-04 - acc: 1.0000\n",
      "Epoch 19/100\n",
      "1500/1500 [==============================] - 0s 226us/step - loss: 5.0528e-04 - acc: 1.0000\n",
      "Epoch 20/100\n",
      "1500/1500 [==============================] - 0s 242us/step - loss: 4.4778e-04 - acc: 1.0000\n",
      "Epoch 21/100\n",
      "1500/1500 [==============================] - 0s 239us/step - loss: 3.9955e-04 - acc: 1.0000\n",
      "Epoch 22/100\n",
      "1500/1500 [==============================] - 0s 257us/step - loss: 3.5952e-04 - acc: 1.0000\n",
      "Epoch 23/100\n",
      "1500/1500 [==============================] - 0s 243us/step - loss: 3.2580e-04 - acc: 1.0000\n",
      "Epoch 24/100\n",
      "1500/1500 [==============================] - 0s 226us/step - loss: 2.9759e-04 - acc: 1.0000\n",
      "Epoch 25/100\n",
      "1500/1500 [==============================] - 0s 235us/step - loss: 2.7265e-04 - acc: 1.0000\n",
      "Epoch 26/100\n",
      "1500/1500 [==============================] - 0s 244us/step - loss: 2.5082e-04 - acc: 1.0000\n",
      "Epoch 27/100\n",
      "1500/1500 [==============================] - 0s 275us/step - loss: 2.3197e-04 - acc: 1.0000\n",
      "Epoch 28/100\n",
      "1500/1500 [==============================] - 0s 290us/step - loss: 2.1515e-04 - acc: 1.0000\n",
      "Epoch 29/100\n",
      "1500/1500 [==============================] - 0s 274us/step - loss: 2.0039e-04 - acc: 1.0000\n",
      "Epoch 30/100\n",
      "1500/1500 [==============================] - 0s 259us/step - loss: 1.8670e-04 - acc: 1.0000\n",
      "Epoch 31/100\n",
      "1500/1500 [==============================] - 0s 263us/step - loss: 1.7521e-04 - acc: 1.0000\n",
      "Epoch 32/100\n",
      "1500/1500 [==============================] - 0s 308us/step - loss: 1.6404e-04 - acc: 1.0000\n",
      "Epoch 33/100\n",
      "1500/1500 [==============================] - 0s 289us/step - loss: 1.5440e-04 - acc: 1.0000\n",
      "Epoch 34/100\n",
      "1500/1500 [==============================] - 0s 212us/step - loss: 1.4531e-04 - acc: 1.0000\n",
      "Epoch 35/100\n",
      "1500/1500 [==============================] - 0s 208us/step - loss: 1.3740e-04 - acc: 1.0000\n",
      "Epoch 36/100\n",
      "1500/1500 [==============================] - 0s 211us/step - loss: 1.2971e-04 - acc: 1.0000\n",
      "Epoch 37/100\n",
      "1500/1500 [==============================] - 0s 259us/step - loss: 1.2306e-04 - acc: 1.0000\n",
      "Epoch 38/100\n",
      "1500/1500 [==============================] - 0s 248us/step - loss: 1.1668e-04 - acc: 1.0000\n",
      "Epoch 39/100\n",
      "1500/1500 [==============================] - 0s 214us/step - loss: 1.1096e-04 - acc: 1.0000\n",
      "Epoch 40/100\n",
      "1500/1500 [==============================] - 0s 219us/step - loss: 1.0551e-04 - acc: 1.0000\n",
      "Epoch 41/100\n",
      "1500/1500 [==============================] - 0s 246us/step - loss: 1.0066e-04 - acc: 1.0000\n",
      "Epoch 42/100\n",
      "1500/1500 [==============================] - 0s 251us/step - loss: 9.5953e-05 - acc: 1.0000\n",
      "Epoch 43/100\n",
      "1500/1500 [==============================] - 0s 252us/step - loss: 9.1654e-05 - acc: 1.0000\n",
      "Epoch 44/100\n",
      "1500/1500 [==============================] - 0s 244us/step - loss: 8.7650e-05 - acc: 1.0000\n",
      "Epoch 45/100\n",
      "1500/1500 [==============================] - 0s 255us/step - loss: 8.3915e-05 - acc: 1.0000\n",
      "Epoch 46/100\n",
      "1500/1500 [==============================] - 0s 248us/step - loss: 8.0442e-05 - acc: 1.0000\n",
      "Epoch 47/100\n",
      "1500/1500 [==============================] - 0s 228us/step - loss: 7.7138e-05 - acc: 1.0000\n",
      "Epoch 48/100\n",
      "1500/1500 [==============================] - 0s 238us/step - loss: 7.4129e-05 - acc: 1.0000\n",
      "Epoch 49/100\n",
      "1500/1500 [==============================] - 0s 230us/step - loss: 7.1219e-05 - acc: 1.0000\n",
      "Epoch 50/100\n",
      "1500/1500 [==============================] - 0s 221us/step - loss: 6.8428e-05 - acc: 1.0000\n",
      "Epoch 51/100\n",
      "1500/1500 [==============================] - 0s 225us/step - loss: 6.5885e-05 - acc: 1.0000\n",
      "Epoch 52/100\n",
      "1500/1500 [==============================] - 0s 227us/step - loss: 6.3475e-05 - acc: 1.0000\n",
      "Epoch 53/100\n",
      "1500/1500 [==============================] - 0s 216us/step - loss: 6.1172e-05 - acc: 1.0000\n",
      "Epoch 54/100\n",
      "1500/1500 [==============================] - 0s 224us/step - loss: 5.9049e-05 - acc: 1.0000\n",
      "Epoch 55/100\n",
      "1500/1500 [==============================] - 0s 233us/step - loss: 5.6968e-05 - acc: 1.0000\n",
      "Epoch 56/100\n",
      "1500/1500 [==============================] - 0s 234us/step - loss: 5.5024e-05 - acc: 1.0000\n",
      "Epoch 57/100\n",
      "1500/1500 [==============================] - 0s 218us/step - loss: 5.3186e-05 - acc: 1.0000\n",
      "Epoch 58/100\n",
      "1500/1500 [==============================] - 0s 214us/step - loss: 5.1444e-05 - acc: 1.0000\n",
      "Epoch 59/100\n",
      "1500/1500 [==============================] - 0s 216us/step - loss: 4.9746e-05 - acc: 1.0000\n",
      "Epoch 60/100\n",
      "1500/1500 [==============================] - 0s 213us/step - loss: 4.8176e-05 - acc: 1.0000\n",
      "Epoch 61/100\n",
      "1500/1500 [==============================] - 0s 216us/step - loss: 4.6694e-05 - acc: 1.0000\n",
      "Epoch 62/100\n",
      "1500/1500 [==============================] - 0s 207us/step - loss: 4.5253e-05 - acc: 1.0000\n",
      "Epoch 63/100\n",
      "1500/1500 [==============================] - 0s 207us/step - loss: 4.3858e-05 - acc: 1.0000\n",
      "Epoch 64/100\n",
      "1500/1500 [==============================] - 0s 214us/step - loss: 4.2550e-05 - acc: 1.0000\n",
      "Epoch 65/100\n",
      "1500/1500 [==============================] - 0s 225us/step - loss: 4.1299e-05 - acc: 1.0000\n",
      "Epoch 66/100\n",
      "1500/1500 [==============================] - 0s 245us/step - loss: 4.0106e-05 - acc: 1.0000\n",
      "Epoch 67/100\n",
      "1500/1500 [==============================] - 0s 242us/step - loss: 3.8947e-05 - acc: 1.0000\n",
      "Epoch 68/100\n",
      "1500/1500 [==============================] - 0s 228us/step - loss: 3.7848e-05 - acc: 1.0000\n",
      "Epoch 69/100\n",
      "1500/1500 [==============================] - 0s 221us/step - loss: 3.6783e-05 - acc: 1.0000\n",
      "Epoch 70/100\n",
      "1500/1500 [==============================] - 0s 212us/step - loss: 3.5777e-05 - acc: 1.0000\n",
      "Epoch 71/100\n",
      "1500/1500 [==============================] - 0s 223us/step - loss: 3.4806e-05 - acc: 1.0000\n",
      "Epoch 72/100\n",
      "1500/1500 [==============================] - 0s 210us/step - loss: 3.3874e-05 - acc: 1.0000\n",
      "Epoch 73/100\n",
      "1500/1500 [==============================] - 0s 210us/step - loss: 3.2980e-05 - acc: 1.0000\n",
      "Epoch 74/100\n",
      "1500/1500 [==============================] - 0s 248us/step - loss: 3.2126e-05 - acc: 1.0000\n",
      "Epoch 75/100\n",
      "1500/1500 [==============================] - 0s 247us/step - loss: 3.1282e-05 - acc: 1.0000\n",
      "Epoch 76/100\n",
      "1500/1500 [==============================] - 0s 289us/step - loss: 3.0497e-05 - acc: 1.0000\n",
      "Epoch 77/100\n",
      "1500/1500 [==============================] - 0s 228us/step - loss: 2.9723e-05 - acc: 1.0000\n",
      "Epoch 78/100\n",
      "1500/1500 [==============================] - 0s 256us/step - loss: 2.8990e-05 - acc: 1.0000\n",
      "Epoch 79/100\n"
     ]
    },
    {
     "name": "stdout",
     "output_type": "stream",
     "text": [
      "1500/1500 [==============================] - 0s 250us/step - loss: 2.8267e-05 - acc: 1.0000\n",
      "Epoch 80/100\n",
      "1500/1500 [==============================] - 0s 219us/step - loss: 2.7583e-05 - acc: 1.0000\n",
      "Epoch 81/100\n",
      "1500/1500 [==============================] - 0s 267us/step - loss: 2.6936e-05 - acc: 1.0000\n",
      "Epoch 82/100\n",
      "1500/1500 [==============================] - 0s 247us/step - loss: 2.6283e-05 - acc: 1.0000\n",
      "Epoch 83/100\n",
      "1500/1500 [==============================] - 0s 273us/step - loss: 2.5677e-05 - acc: 1.0000\n",
      "Epoch 84/100\n",
      "1500/1500 [==============================] - 0s 265us/step - loss: 2.5070e-05 - acc: 1.0000\n",
      "Epoch 85/100\n",
      "1500/1500 [==============================] - 0s 262us/step - loss: 2.4499e-05 - acc: 1.0000\n",
      "Epoch 86/100\n",
      "1500/1500 [==============================] - 0s 230us/step - loss: 2.3944e-05 - acc: 1.0000\n",
      "Epoch 87/100\n",
      "1500/1500 [==============================] - 0s 218us/step - loss: 2.3416e-05 - acc: 1.0000\n",
      "Epoch 88/100\n",
      "1500/1500 [==============================] - 0s 253us/step - loss: 2.2881e-05 - acc: 1.0000\n",
      "Epoch 89/100\n",
      "1500/1500 [==============================] - 0s 247us/step - loss: 2.2374e-05 - acc: 1.0000\n",
      "Epoch 90/100\n",
      "1500/1500 [==============================] - 0s 245us/step - loss: 2.1891e-05 - acc: 1.0000\n",
      "Epoch 91/100\n",
      "1500/1500 [==============================] - 0s 242us/step - loss: 2.1404e-05 - acc: 1.0000\n",
      "Epoch 92/100\n",
      "1500/1500 [==============================] - 0s 253us/step - loss: 2.0950e-05 - acc: 1.0000\n",
      "Epoch 93/100\n",
      "1500/1500 [==============================] - 0s 240us/step - loss: 2.0506e-05 - acc: 1.0000\n",
      "Epoch 94/100\n",
      "1500/1500 [==============================] - 0s 237us/step - loss: 2.0076e-05 - acc: 1.0000\n",
      "Epoch 95/100\n",
      "1500/1500 [==============================] - 0s 229us/step - loss: 1.9654e-05 - acc: 1.0000\n",
      "Epoch 96/100\n",
      "1500/1500 [==============================] - 0s 226us/step - loss: 1.9244e-05 - acc: 1.0000\n",
      "Epoch 97/100\n",
      "1500/1500 [==============================] - 0s 254us/step - loss: 1.8856e-05 - acc: 1.0000\n",
      "Epoch 98/100\n",
      "1500/1500 [==============================] - 0s 220us/step - loss: 1.8469e-05 - acc: 1.0000\n",
      "Epoch 99/100\n",
      "1500/1500 [==============================] - 0s 210us/step - loss: 1.8097e-05 - acc: 1.0000\n",
      "Epoch 100/100\n",
      "1500/1500 [==============================] - 0s 217us/step - loss: 1.7739e-05 - acc: 1.0000\n"
     ]
    },
    {
     "data": {
      "text/plain": [
       "<keras.callbacks.History at 0x7fe3fd03f860>"
      ]
     },
     "execution_count": 47,
     "metadata": {},
     "output_type": "execute_result"
    }
   ],
   "source": [
    "model.fit(X_train, Y_train,epochs=100, batch_size=100, verbose=1)"
   ]
  },
  {
   "cell_type": "code",
   "execution_count": null,
   "metadata": {},
   "outputs": [],
   "source": []
  },
  {
   "cell_type": "code",
   "execution_count": 50,
   "metadata": {},
   "outputs": [
    {
     "data": {
      "text/plain": [
       "array([1, 0, 0, 0, 0])"
      ]
     },
     "execution_count": 50,
     "metadata": {},
     "output_type": "execute_result"
    }
   ],
   "source": [
    "Y_train[:5]"
   ]
  },
  {
   "cell_type": "markdown",
   "metadata": {},
   "source": [
    "## Generando las predicciones"
   ]
  },
  {
   "cell_type": "code",
   "execution_count": 58,
   "metadata": {},
   "outputs": [
    {
     "data": {
      "text/plain": [
       "array([[0],\n",
       "       [0],\n",
       "       [0],\n",
       "       [0],\n",
       "       [0]], dtype=int32)"
      ]
     },
     "execution_count": 58,
     "metadata": {},
     "output_type": "execute_result"
    }
   ],
   "source": [
    "y_pred = model.predict_classes(X_test)\n",
    "y_pred[:5]"
   ]
  },
  {
   "cell_type": "code",
   "execution_count": 59,
   "metadata": {},
   "outputs": [],
   "source": [
    "X_test = np.random.chisquare(2,size=(1500,500))"
   ]
  },
  {
   "cell_type": "code",
   "execution_count": 60,
   "metadata": {},
   "outputs": [],
   "source": [
    "Y_test = np.random.randint(0,2,size=(1500,))"
   ]
  },
  {
   "cell_type": "code",
   "execution_count": 61,
   "metadata": {},
   "outputs": [
    {
     "name": "stdout",
     "output_type": "stream",
     "text": [
      "1500/1500 [==============================] - 0s 128us/step\n",
      "[3.2196028245290123, 0.501333333492279]\n"
     ]
    }
   ],
   "source": [
    "score = model.evaluate(X_test, Y_test,verbose=1)\n",
    "print(score)"
   ]
  },
  {
   "cell_type": "markdown",
   "metadata": {},
   "source": [
    "## Evaluando el modelo "
   ]
  },
  {
   "cell_type": "code",
   "execution_count": 62,
   "metadata": {},
   "outputs": [
    {
     "data": {
      "text/plain": [
       "array([[384, 326],\n",
       "       [403, 387]])"
      ]
     },
     "execution_count": 62,
     "metadata": {},
     "output_type": "execute_result"
    }
   ],
   "source": [
    "# Import the modules from `sklearn.metrics`\n",
    "from sklearn.metrics import confusion_matrix, precision_score, recall_score, f1_score, cohen_kappa_score\n",
    "\n",
    "# Confusion matrix\n",
    "confusion_matrix(Y_test, y_pred)"
   ]
  },
  {
   "cell_type": "code",
   "execution_count": 63,
   "metadata": {},
   "outputs": [
    {
     "data": {
      "text/plain": [
       "0.5427769985974754"
      ]
     },
     "execution_count": 63,
     "metadata": {},
     "output_type": "execute_result"
    }
   ],
   "source": [
    "precision_score(Y_test, y_pred)"
   ]
  },
  {
   "cell_type": "code",
   "execution_count": 65,
   "metadata": {},
   "outputs": [
    {
     "data": {
      "text/plain": [
       "0.489873417721519"
      ]
     },
     "execution_count": 65,
     "metadata": {},
     "output_type": "execute_result"
    }
   ],
   "source": [
    "recall_score(Y_test, y_pred)"
   ]
  },
  {
   "cell_type": "code",
   "execution_count": 66,
   "metadata": {},
   "outputs": [
    {
     "data": {
      "text/plain": [
       "0.5149700598802395"
      ]
     },
     "execution_count": 66,
     "metadata": {},
     "output_type": "execute_result"
    }
   ],
   "source": [
    "f1_score(Y_test,y_pred)"
   ]
  },
  {
   "cell_type": "code",
   "execution_count": 67,
   "metadata": {},
   "outputs": [
    {
     "data": {
      "text/plain": [
       "0.03055072874924647"
      ]
     },
     "execution_count": 67,
     "metadata": {},
     "output_type": "execute_result"
    }
   ],
   "source": [
    "cohen_kappa_score(Y_test, y_pred)"
   ]
  },
  {
   "cell_type": "code",
   "execution_count": null,
   "metadata": {},
   "outputs": [],
   "source": []
  }
 ],
 "metadata": {
  "kernelspec": {
   "display_name": "Python 3",
   "language": "python",
   "name": "python3"
  },
  "language_info": {
   "codemirror_mode": {
    "name": "ipython",
    "version": 3
   },
   "file_extension": ".py",
   "mimetype": "text/x-python",
   "name": "python",
   "nbconvert_exporter": "python",
   "pygments_lexer": "ipython3",
   "version": "3.6.3"
  }
 },
 "nbformat": 4,
 "nbformat_minor": 2
}
