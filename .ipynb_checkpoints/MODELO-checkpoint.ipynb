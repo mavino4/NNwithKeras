{
 "cells": [
  {
   "cell_type": "code",
   "execution_count": 1,
   "metadata": {
    "scrolled": false
   },
   "outputs": [
    {
     "name": "stderr",
     "output_type": "stream",
     "text": [
      "Using TensorFlow backend.\n"
     ]
    }
   ],
   "source": [
    "import keras\n",
    "import numpy as np\n",
    "import pandas as pd\n",
    "import seaborn as sn\n",
    "import matplotlib.pyplot as plt\n",
    "from sklearn.model_selection import train_test_split\n",
    "plt.style.use('ggplot') ## Usando el estilo de gráficos de ggplot\n",
    "%matplotlib inline"
   ]
  },
  {
   "cell_type": "code",
   "execution_count": 2,
   "metadata": {},
   "outputs": [],
   "source": [
    "from numpy.random import seed \n",
    "from tensorflow import set_random_seed\n",
    "rs = 2018 ##Definiendo las semillas para la replicar resultados\n",
    "np.random.seed(rs)\n",
    "set_random_seed(rs)"
   ]
  },
  {
   "cell_type": "markdown",
   "metadata": {},
   "source": [
    "## Spliting\n",
    "Genrando la partición de la muestra de entranamiento y de evaluación"
   ]
  },
  {
   "cell_type": "code",
   "execution_count": 3,
   "metadata": {},
   "outputs": [],
   "source": [
    "Total = pd.read_csv(\"DataSetMatrix.csv\", sep=\";\") # importando"
   ]
  },
  {
   "cell_type": "code",
   "execution_count": 4,
   "metadata": {},
   "outputs": [
    {
     "data": {
      "text/plain": [
       "(101, 14246)"
      ]
     },
     "execution_count": 4,
     "metadata": {},
     "output_type": "execute_result"
    }
   ],
   "source": [
    "Total.shape # tamaño del dataset"
   ]
  },
  {
   "cell_type": "code",
   "execution_count": 5,
   "metadata": {},
   "outputs": [
    {
     "data": {
      "text/plain": [
       "(101, 14244)"
      ]
     },
     "execution_count": 5,
     "metadata": {},
     "output_type": "execute_result"
    }
   ],
   "source": [
    "Total = Total.iloc[:,1:] #eliminando primera columna\n",
    "y = Total.loc[:,\"Clasificador\"] # Extrayendo clases\n",
    "Total.drop(columns=\"Clasificador\", axis=0, inplace=True) #Eliminando y de la matriz de entrada\n",
    "Total.shape"
   ]
  },
  {
   "cell_type": "markdown",
   "metadata": {},
   "source": [
    "# Realizando la segmentación TF-IDF\n",
    "Podemos observar la matriz de TF con la matriz de conteo de frecuencias absolutas "
   ]
  },
  {
   "cell_type": "markdown",
   "metadata": {},
   "source": [
    "Hallando el TF-IDF \n",
    "$$TF - IDF(t,d) = tf(t,d)\\ x\\ idf(t) $$"
   ]
  },
  {
   "cell_type": "code",
   "execution_count": 6,
   "metadata": {
    "scrolled": false
   },
   "outputs": [
    {
     "data": {
      "text/plain": [
       "TfidfTransformer(norm='l2', smooth_idf=False, sublinear_tf=False,\n",
       "         use_idf=True)"
      ]
     },
     "execution_count": 6,
     "metadata": {},
     "output_type": "execute_result"
    }
   ],
   "source": [
    "from sklearn.feature_extraction.text import TfidfTransformer #importando TD IDF de sklearn\n",
    "transformer = TfidfTransformer(smooth_idf=False) ##seteandola en la función transformer\n",
    "transformer   "
   ]
  },
  {
   "cell_type": "code",
   "execution_count": 7,
   "metadata": {},
   "outputs": [],
   "source": [
    "tfidf = transformer.fit_transform(Total.values) # aplicando la funcion Tf Idf al data set \n",
    "tfidf \n",
    "X = tfidf.toarray()"
   ]
  },
  {
   "cell_type": "code",
   "execution_count": 8,
   "metadata": {
    "scrolled": false
   },
   "outputs": [
    {
     "data": {
      "text/plain": [
       "array([[0.00286206, 0.01402434, 0.00272162, ..., 0.00544323, 0.00849986,\n",
       "        0.01133315],\n",
       "       [0.00573434, 0.01123951, 0.00272648, ..., 0.01363238, 0.0056767 ,\n",
       "        0.        ],\n",
       "       [0.00283647, 0.01111916, 0.00539457, ..., 0.00809185, 0.01403979,\n",
       "        0.00561591],\n",
       "       ...,\n",
       "       [0.00566568, 0.00277624, 0.00538767, ..., 0.        , 0.01121747,\n",
       "        0.        ],\n",
       "       [0.00571668, 0.0112049 , 0.01359041, ..., 0.01359041, 0.01414804,\n",
       "        0.00565922],\n",
       "       [0.01137007, 0.00278572, 0.00270304, ..., 0.00540607, 0.01125578,\n",
       "        0.00281394]])"
      ]
     },
     "execution_count": 8,
     "metadata": {},
     "output_type": "execute_result"
    }
   ],
   "source": [
    "X"
   ]
  },
  {
   "cell_type": "code",
   "execution_count": 9,
   "metadata": {},
   "outputs": [],
   "source": [
    "## Separando las muestras de entrenamiento y de control \n",
    "np.random.seed(rs)\n",
    "set_random_seed(rs)\n",
    "X_train, X_test, y_train, y_test = train_test_split(\n",
    "    X, y, test_size=0.2,random_state=rs) # Semilla = random_state "
   ]
  },
  {
   "cell_type": "code",
   "execution_count": 10,
   "metadata": {},
   "outputs": [
    {
     "data": {
      "text/plain": [
       "(80, 14244)"
      ]
     },
     "execution_count": 10,
     "metadata": {},
     "output_type": "execute_result"
    }
   ],
   "source": [
    "X_train.shape"
   ]
  },
  {
   "cell_type": "code",
   "execution_count": 11,
   "metadata": {
    "scrolled": true
   },
   "outputs": [
    {
     "data": {
      "text/plain": [
       "(21, 14244)"
      ]
     },
     "execution_count": 11,
     "metadata": {},
     "output_type": "execute_result"
    }
   ],
   "source": [
    "X_test.shape"
   ]
  },
  {
   "cell_type": "code",
   "execution_count": 12,
   "metadata": {
    "scrolled": false
   },
   "outputs": [
    {
     "data": {
      "image/png": "[encoded data removed]",
      "text/plain": [
       "<Figure size 432x288 with 1 Axes>"
      ]
     },
     "metadata": {
      "needs_background": "light"
     },
     "output_type": "display_data"
    }
   ],
   "source": [
    "fig , ax = plt.subplots(1) #Distribucion total\n",
    "cv, cm = ax.bar((\"Conversaciones SIN\\ncontenido de trata\", \"Conversaciones CON\\ncontenido de trata\"),[56,45])\n",
    "cm.set_facecolor(\"darkorange\")\n",
    "cm.set_width(0.4)\n",
    "cm.set_x(0.78)\n",
    "cv.set_facecolor(\"limegreen\")\n",
    "cv.set_width(0.4)\n",
    "cv.set_x(- 0.21)\n",
    "ax.set_ylabel(\"conteo\")\n",
    "ax.set_title(\"Total de conversaciones\")\n",
    "fig.savefig(\"Total.png\", dpi=300, quality=100 , bbox_inches='tight')"
   ]
  },
  {
   "cell_type": "code",
   "execution_count": 13,
   "metadata": {
    "scrolled": false
   },
   "outputs": [
    {
     "data": {
      "text/plain": [
       "amig       0.012409\n",
       "arrech     0.012403\n",
       "dia        0.012293\n",
       "conoc      0.012266\n",
       "burr       0.012243\n",
       "corch      0.012241\n",
       "busc       0.012133\n",
       "opa        0.012133\n",
       "birloch    0.012127\n",
       "choc       0.011962\n",
       "dtype: float64"
      ]
     },
     "execution_count": 13,
     "metadata": {},
     "output_type": "execute_result"
    }
   ],
   "source": [
    "#Obteniendo las palabras con mayor frecuencia relativa\n",
    "sumRow = Total.sum(axis=1)\n",
    "sumRow.values\n",
    "TotalPer = Total.div(sumRow, axis=0)\n",
    "impRel = TotalPer.mean(axis=0)\n",
    "(impRel.sort_values(ascending=False)*100)[:10]\n"
   ]
  },
  {
   "cell_type": "markdown",
   "metadata": {},
   "source": [
    "## Definiendo la arquitectura de la red neuronal"
   ]
  },
  {
   "cell_type": "code",
   "execution_count": 14,
   "metadata": {},
   "outputs": [],
   "source": [
    "from keras.models import Sequential\n",
    "from keras.layers import Dense,Dropout\n",
    "from keras import optimizers\n",
    "from keras.callbacks import History \n",
    "history = History()"
   ]
  },
  {
   "cell_type": "code",
   "execution_count": 15,
   "metadata": {},
   "outputs": [],
   "source": [
    "#Definiendo los métodos de optimización\n",
    "np.random.seed(rs)\n",
    "set_random_seed(rs)\n",
    "sgd = optimizers.SGD(lr=0.01, decay=1e-6, momentum=0.0 ,nesterov=True, )\n",
    "rmsprop = keras.optimizers.RMSprop(lr=0.001, rho=0.9, epsilon=None, decay=0.0)\n",
    "adagrad =  keras.optimizers.Adagrad(lr=0.01, epsilon=None, decay=0.0)\n",
    "adadelta = keras.optimizers.Adadelta(lr=1.0, rho=0.95, epsilon=None, decay=0.0)\n",
    "adam= keras.optimizers.Adam(lr=0.001, beta_1=0.9, beta_2=0.999, epsilon=None, decay=0.0, amsgrad=False)\n",
    "nadam = keras.optimizers.Nadam(lr=0.002, beta_1=0.9, beta_2=0.999, epsilon=None, schedule_decay=0.004)"
   ]
  },
  {
   "cell_type": "markdown",
   "metadata": {},
   "source": [
    "## Alternativa 1 \n",
    "### SOLAMENTE FUNCIONES SIGMOIDE "
   ]
  },
  {
   "cell_type": "code",
   "execution_count": 16,
   "metadata": {},
   "outputs": [
    {
     "name": "stdout",
     "output_type": "stream",
     "text": [
      "_________________________________________________________________\n",
      "Layer (type)                 Output Shape              Param #   \n",
      "=================================================================\n",
      "dense_1 (Dense)              (None, 500)               7122500   \n",
      "_________________________________________________________________\n",
      "dense_2 (Dense)              (None, 200)               100200    \n",
      "_________________________________________________________________\n",
      "dense_3 (Dense)              (None, 500)               100500    \n",
      "_________________________________________________________________\n",
      "dense_4 (Dense)              (None, 1)                 501       \n",
      "=================================================================\n",
      "Total params: 7,323,701\n",
      "Trainable params: 7,323,701\n",
      "Non-trainable params: 0\n",
      "_________________________________________________________________\n"
     ]
    }
   ],
   "source": [
    "np.random.seed(rs)\n",
    "set_random_seed(rs)\n",
    "Ini = keras.initializers.glorot_uniform(seed=rs)\n",
    "model = Sequential()\n",
    "model.add(Dense(500, activation='sigmoid', input_shape=(14244,) , kernel_initializer= Ini,  bias_initializer=\"zeros\"))\n",
    "model.add(Dense(200, activation='sigmoid', kernel_initializer=Ini , bias_initializer=\"zeros\"))\n",
    "model.add(Dense(500, activation='sigmoid' , kernel_initializer=Ini,  bias_initializer=\"zeros\"))\n",
    "model.add(Dense(1, activation='sigmoid', kernel_initializer=Ini,  bias_initializer=\"zeros\"))\n",
    "model.summary()"
   ]
  },
  {
   "cell_type": "code",
   "execution_count": 17,
   "metadata": {},
   "outputs": [],
   "source": [
    "np.random.seed(rs)\n",
    "set_random_seed(rs)\n",
    "model.compile(loss='binary_crossentropy',\n",
    "              optimizer='adam',\n",
    "              metrics=['accuracy'])"
   ]
  },
  {
   "cell_type": "code",
   "execution_count": 18,
   "metadata": {
    "scrolled": true
   },
   "outputs": [
    {
     "data": {
      "text/plain": [
       "<keras.callbacks.History at 0x7fcfef0386d8>"
      ]
     },
     "execution_count": 18,
     "metadata": {},
     "output_type": "execute_result"
    }
   ],
   "source": [
    "np.random.seed(rs)\n",
    "set_random_seed(rs)\n",
    "model.fit(X_train, y_train,epochs=70, batch_size=40, verbose=0,callbacks=[history] )"
   ]
  },
  {
   "cell_type": "code",
   "execution_count": 19,
   "metadata": {},
   "outputs": [],
   "source": [
    "history1 = history.history[\"loss\"].copy()"
   ]
  },
  {
   "cell_type": "markdown",
   "metadata": {},
   "source": [
    "## Alternativa 2 \n",
    "### SOLAMENTE FUNCIONES ReLU "
   ]
  },
  {
   "cell_type": "code",
   "execution_count": 20,
   "metadata": {},
   "outputs": [
    {
     "name": "stdout",
     "output_type": "stream",
     "text": [
      "_________________________________________________________________\n",
      "Layer (type)                 Output Shape              Param #   \n",
      "=================================================================\n",
      "dense_5 (Dense)              (None, 500)               7122500   \n",
      "_________________________________________________________________\n",
      "dense_6 (Dense)              (None, 200)               100200    \n",
      "_________________________________________________________________\n",
      "dense_7 (Dense)              (None, 500)               100500    \n",
      "_________________________________________________________________\n",
      "dense_8 (Dense)              (None, 1)                 501       \n",
      "=================================================================\n",
      "Total params: 7,323,701\n",
      "Trainable params: 7,323,701\n",
      "Non-trainable params: 0\n",
      "_________________________________________________________________\n"
     ]
    }
   ],
   "source": [
    "np.random.seed(rs)\n",
    "set_random_seed(rs)\n",
    "Ini = keras.initializers.glorot_uniform(seed=rs)\n",
    "model = Sequential()\n",
    "model.add(Dense(500, activation='relu', input_shape=(14244,) , kernel_initializer= Ini,  bias_initializer=\"zeros\"))\n",
    "model.add(Dense(200, activation='relu', kernel_initializer=Ini , bias_initializer=\"zeros\"))\n",
    "model.add(Dense(500, activation='relu' , kernel_initializer=Ini,  bias_initializer=\"zeros\"))\n",
    "model.add(Dense(1, activation='relu', kernel_initializer=Ini,  bias_initializer=\"zeros\"))\n",
    "model.summary()"
   ]
  },
  {
   "cell_type": "code",
   "execution_count": 21,
   "metadata": {},
   "outputs": [],
   "source": [
    "np.random.seed(rs)\n",
    "set_random_seed(rs)\n",
    "model.compile(loss='binary_crossentropy',\n",
    "              optimizer='adam',\n",
    "              metrics=['accuracy'])"
   ]
  },
  {
   "cell_type": "code",
   "execution_count": 22,
   "metadata": {
    "scrolled": true
   },
   "outputs": [
    {
     "data": {
      "text/plain": [
       "<keras.callbacks.History at 0x7fcfd5cf53c8>"
      ]
     },
     "execution_count": 22,
     "metadata": {},
     "output_type": "execute_result"
    }
   ],
   "source": [
    "np.random.seed(rs)\n",
    "set_random_seed(rs)\n",
    "model.fit(X_train, y_train,epochs=70, batch_size=40, verbose=0,callbacks=[history] )"
   ]
  },
  {
   "cell_type": "code",
   "execution_count": 23,
   "metadata": {},
   "outputs": [],
   "source": [
    "history2 = history.history[\"loss\"].copy()"
   ]
  },
  {
   "cell_type": "markdown",
   "metadata": {},
   "source": [
    "## Alternativa 3 \n",
    "### MIX funciones de activación"
   ]
  },
  {
   "cell_type": "code",
   "execution_count": 24,
   "metadata": {},
   "outputs": [
    {
     "name": "stdout",
     "output_type": "stream",
     "text": [
      "_________________________________________________________________\n",
      "Layer (type)                 Output Shape              Param #   \n",
      "=================================================================\n",
      "dense_9 (Dense)              (None, 500)               7122500   \n",
      "_________________________________________________________________\n",
      "dense_10 (Dense)             (None, 200)               100200    \n",
      "_________________________________________________________________\n",
      "dense_11 (Dense)             (None, 500)               100500    \n",
      "_________________________________________________________________\n",
      "dense_12 (Dense)             (None, 1)                 501       \n",
      "=================================================================\n",
      "Total params: 7,323,701\n",
      "Trainable params: 7,323,701\n",
      "Non-trainable params: 0\n",
      "_________________________________________________________________\n"
     ]
    }
   ],
   "source": [
    "np.random.seed(rs)\n",
    "set_random_seed(rs)\n",
    "Ini = keras.initializers.glorot_uniform(seed=rs)\n",
    "model = Sequential()\n",
    "model.add(Dense(500, activation='relu', input_shape=(14244,) , kernel_initializer= Ini,  bias_initializer=\"zeros\"))\n",
    "model.add(Dense(200, activation='sigmoid', kernel_initializer=Ini , bias_initializer=\"zeros\"))\n",
    "model.add(Dense(500, activation='relu' , kernel_initializer=Ini,  bias_initializer=\"zeros\"))\n",
    "model.add(Dense(1, activation='sigmoid', kernel_initializer=Ini,  bias_initializer=\"zeros\"))\n",
    "model.summary()"
   ]
  },
  {
   "cell_type": "code",
   "execution_count": 25,
   "metadata": {},
   "outputs": [],
   "source": [
    "np.random.seed(rs)\n",
    "set_random_seed(rs)\n",
    "model.compile(loss='binary_crossentropy',\n",
    "              optimizer='adam',\n",
    "              metrics=['accuracy'])"
   ]
  },
  {
   "cell_type": "code",
   "execution_count": 26,
   "metadata": {
    "scrolled": true
   },
   "outputs": [
    {
     "data": {
      "image/png": "[encoded data removed]",
      "text/plain": [
       "<Figure size 288x288 with 2 Axes>"
      ]
     },
     "metadata": {
      "needs_background": "light"
     },
     "output_type": "display_data"
    }
   ],
   "source": [
    "W0 = model.get_weights()[6]\n",
    "W0 = W0[:484]\n",
    "W0 = W0.reshape(22,22)\n",
    "plt.matshow(W0, cmap = plt.cm.RdBu)\n",
    "plt.colorbar()\n",
    "plt.title(\"Pesos iniciales\\n\")\n",
    "plt.savefig(\"PesosIniciales.png\" , bbox_inches='tight')"
   ]
  },
  {
   "cell_type": "code",
   "execution_count": 27,
   "metadata": {
    "scrolled": true
   },
   "outputs": [
    {
     "name": "stdout",
     "output_type": "stream",
     "text": [
      "Epoch 1/70\n",
      "80/80 [==============================] - 1s 10ms/step - loss: 0.6727 - acc: 0.5750\n",
      "Epoch 2/70\n",
      "80/80 [==============================] - 0s 2ms/step - loss: 0.7724 - acc: 0.4250\n",
      "Epoch 3/70\n",
      "80/80 [==============================] - 0s 2ms/step - loss: 0.6614 - acc: 0.5750\n",
      "Epoch 4/70\n",
      "80/80 [==============================] - 0s 2ms/step - loss: 0.7411 - acc: 0.5750\n",
      "Epoch 5/70\n",
      "80/80 [==============================] - 0s 2ms/step - loss: 0.7049 - acc: 0.5750\n",
      "Epoch 6/70\n",
      "80/80 [==============================] - 0s 2ms/step - loss: 0.6790 - acc: 0.4750\n",
      "Epoch 7/70\n",
      "80/80 [==============================] - 0s 2ms/step - loss: 0.6884 - acc: 0.4250\n",
      "Epoch 8/70\n",
      "80/80 [==============================] - 0s 2ms/step - loss: 0.6426 - acc: 0.8250\n",
      "Epoch 9/70\n",
      "80/80 [==============================] - 0s 2ms/step - loss: 0.6527 - acc: 0.5750\n",
      "Epoch 10/70\n",
      "80/80 [==============================] - 0s 2ms/step - loss: 0.6502 - acc: 0.5750\n",
      "Epoch 11/70\n",
      "80/80 [==============================] - 0s 2ms/step - loss: 0.6128 - acc: 0.5750\n",
      "Epoch 12/70\n",
      "80/80 [==============================] - 0s 2ms/step - loss: 0.6031 - acc: 1.0000\n",
      "Epoch 13/70\n",
      "80/80 [==============================] - 0s 2ms/step - loss: 0.5744 - acc: 1.0000\n",
      "Epoch 14/70\n",
      "80/80 [==============================] - 0s 2ms/step - loss: 0.5381 - acc: 0.6000\n",
      "Epoch 15/70\n",
      "80/80 [==============================] - 0s 2ms/step - loss: 0.5003 - acc: 0.7125\n",
      "Epoch 16/70\n",
      "80/80 [==============================] - 0s 2ms/step - loss: 0.4567 - acc: 1.0000\n",
      "Epoch 17/70\n",
      "80/80 [==============================] - 0s 2ms/step - loss: 0.3887 - acc: 1.0000\n",
      "Epoch 18/70\n",
      "80/80 [==============================] - 0s 2ms/step - loss: 0.3501 - acc: 1.0000\n",
      "Epoch 19/70\n",
      "80/80 [==============================] - 0s 2ms/step - loss: 0.2512 - acc: 1.0000\n",
      "Epoch 20/70\n",
      "80/80 [==============================] - 0s 2ms/step - loss: 0.2106 - acc: 1.0000\n",
      "Epoch 21/70\n",
      "80/80 [==============================] - 0s 2ms/step - loss: 0.1369 - acc: 1.0000\n",
      "Epoch 22/70\n",
      "80/80 [==============================] - 0s 2ms/step - loss: 0.0932 - acc: 1.0000\n",
      "Epoch 23/70\n",
      "80/80 [==============================] - 0s 2ms/step - loss: 0.0606 - acc: 1.0000\n",
      "Epoch 24/70\n",
      "80/80 [==============================] - 0s 2ms/step - loss: 0.0356 - acc: 1.0000\n",
      "Epoch 25/70\n",
      "80/80 [==============================] - 0s 2ms/step - loss: 0.0223 - acc: 1.0000\n",
      "Epoch 26/70\n",
      "80/80 [==============================] - 0s 2ms/step - loss: 0.0143 - acc: 1.0000\n",
      "Epoch 27/70\n",
      "80/80 [==============================] - 0s 2ms/step - loss: 0.0084 - acc: 1.0000\n",
      "Epoch 28/70\n",
      "80/80 [==============================] - 0s 2ms/step - loss: 0.0056 - acc: 1.0000\n",
      "Epoch 29/70\n",
      "80/80 [==============================] - 0s 2ms/step - loss: 0.0041 - acc: 1.0000\n",
      "Epoch 30/70\n",
      "80/80 [==============================] - 0s 2ms/step - loss: 0.0030 - acc: 1.0000\n",
      "Epoch 31/70\n",
      "80/80 [==============================] - 0s 2ms/step - loss: 0.0022 - acc: 1.0000\n",
      "Epoch 32/70\n",
      "80/80 [==============================] - 0s 2ms/step - loss: 0.0016 - acc: 1.0000\n",
      "Epoch 33/70\n",
      "80/80 [==============================] - 0s 2ms/step - loss: 0.0012 - acc: 1.0000\n",
      "Epoch 34/70\n",
      "80/80 [==============================] - 0s 2ms/step - loss: 9.1722e-04 - acc: 1.0000\n",
      "Epoch 35/70\n",
      "80/80 [==============================] - 0s 2ms/step - loss: 7.5292e-04 - acc: 1.0000\n",
      "Epoch 36/70\n",
      "80/80 [==============================] - 0s 2ms/step - loss: 6.3042e-04 - acc: 1.0000\n",
      "Epoch 37/70\n",
      "80/80 [==============================] - 0s 2ms/step - loss: 5.3824e-04 - acc: 1.0000\n",
      "Epoch 38/70\n",
      "80/80 [==============================] - 0s 2ms/step - loss: 4.6250e-04 - acc: 1.0000\n",
      "Epoch 39/70\n",
      "80/80 [==============================] - 0s 2ms/step - loss: 3.9885e-04 - acc: 1.0000\n",
      "Epoch 40/70\n",
      "80/80 [==============================] - 0s 2ms/step - loss: 3.4499e-04 - acc: 1.0000\n",
      "Epoch 41/70\n",
      "80/80 [==============================] - 0s 2ms/step - loss: 2.9879e-04 - acc: 1.0000\n",
      "Epoch 42/70\n",
      "80/80 [==============================] - 0s 2ms/step - loss: 2.5959e-04 - acc: 1.0000\n",
      "Epoch 43/70\n",
      "80/80 [==============================] - 0s 2ms/step - loss: 2.2149e-04 - acc: 1.0000\n",
      "Epoch 44/70\n",
      "80/80 [==============================] - 0s 2ms/step - loss: 1.9148e-04 - acc: 1.0000\n",
      "Epoch 45/70\n",
      "80/80 [==============================] - 0s 2ms/step - loss: 1.6679e-04 - acc: 1.0000\n",
      "Epoch 46/70\n",
      "80/80 [==============================] - 0s 2ms/step - loss: 1.4687e-04 - acc: 1.0000\n",
      "Epoch 47/70\n",
      "80/80 [==============================] - 0s 2ms/step - loss: 1.2865e-04 - acc: 1.0000\n",
      "Epoch 48/70\n",
      "80/80 [==============================] - 0s 2ms/step - loss: 1.1299e-04 - acc: 1.0000\n",
      "Epoch 49/70\n",
      "80/80 [==============================] - 0s 2ms/step - loss: 9.9344e-05 - acc: 1.0000\n",
      "Epoch 50/70\n",
      "80/80 [==============================] - 0s 2ms/step - loss: 8.7547e-05 - acc: 1.0000\n",
      "Epoch 51/70\n",
      "80/80 [==============================] - 0s 2ms/step - loss: 7.7823e-05 - acc: 1.0000\n",
      "Epoch 52/70\n",
      "80/80 [==============================] - 0s 2ms/step - loss: 6.9568e-05 - acc: 1.0000\n",
      "Epoch 53/70\n",
      "80/80 [==============================] - 0s 2ms/step - loss: 6.2177e-05 - acc: 1.0000\n",
      "Epoch 54/70\n",
      "80/80 [==============================] - 0s 2ms/step - loss: 5.5689e-05 - acc: 1.0000\n",
      "Epoch 55/70\n",
      "80/80 [==============================] - 0s 2ms/step - loss: 5.0250e-05 - acc: 1.0000\n",
      "Epoch 56/70\n",
      "80/80 [==============================] - 0s 2ms/step - loss: 4.5420e-05 - acc: 1.0000\n",
      "Epoch 57/70\n",
      "80/80 [==============================] - 0s 2ms/step - loss: 4.1340e-05 - acc: 1.0000\n",
      "Epoch 58/70\n",
      "80/80 [==============================] - 0s 2ms/step - loss: 3.7713e-05 - acc: 1.0000\n",
      "Epoch 59/70\n",
      "80/80 [==============================] - 0s 2ms/step - loss: 3.4580e-05 - acc: 1.0000\n",
      "Epoch 60/70\n",
      "80/80 [==============================] - 0s 2ms/step - loss: 3.1869e-05 - acc: 1.0000\n",
      "Epoch 61/70\n",
      "80/80 [==============================] - 0s 2ms/step - loss: 2.9420e-05 - acc: 1.0000\n",
      "Epoch 62/70\n",
      "80/80 [==============================] - 0s 2ms/step - loss: 2.7234e-05 - acc: 1.0000\n",
      "Epoch 63/70\n",
      "80/80 [==============================] - 0s 2ms/step - loss: 2.5390e-05 - acc: 1.0000\n",
      "Epoch 64/70\n",
      "80/80 [==============================] - 0s 2ms/step - loss: 2.3612e-05 - acc: 1.0000\n",
      "Epoch 65/70\n",
      "80/80 [==============================] - 0s 2ms/step - loss: 2.2134e-05 - acc: 1.0000\n",
      "Epoch 66/70\n",
      "80/80 [==============================] - 0s 2ms/step - loss: 2.0727e-05 - acc: 1.0000\n",
      "Epoch 67/70\n",
      "80/80 [==============================] - 0s 2ms/step - loss: 1.9525e-05 - acc: 1.0000\n",
      "Epoch 68/70\n",
      "80/80 [==============================] - 0s 2ms/step - loss: 1.8404e-05 - acc: 1.0000\n",
      "Epoch 69/70\n",
      "80/80 [==============================] - 0s 2ms/step - loss: 1.7354e-05 - acc: 1.0000\n",
      "Epoch 70/70\n",
      "80/80 [==============================] - 0s 2ms/step - loss: 1.6442e-05 - acc: 1.0000\n"
     ]
    },
    {
     "data": {
      "text/plain": [
       "<keras.callbacks.History at 0x7fcfd61e1dd8>"
      ]
     },
     "execution_count": 27,
     "metadata": {},
     "output_type": "execute_result"
    }
   ],
   "source": [
    "np.random.seed(rs)\n",
    "set_random_seed(rs)\n",
    "model.fit(X_train, y_train,epochs=70, batch_size=40, verbose=1,callbacks=[history] )"
   ]
  },
  {
   "cell_type": "code",
   "execution_count": 28,
   "metadata": {
    "scrolled": true
   },
   "outputs": [
    {
     "data": {
      "image/png": "[encoded data removed]",
      "text/plain": [
       "<Figure size 432x288 with 1 Axes>"
      ]
     },
     "metadata": {
      "needs_background": "light"
     },
     "output_type": "display_data"
    }
   ],
   "source": [
    "plt.plot(history.history[\"loss\"]) \n",
    "plt.title(\"Función de costo\\n(Mix Sigmoid/ReLU)\")\n",
    "plt.xlabel(\"Epochs\")\n",
    "plt.savefig(\"función de costo.png\", dpi=300, quality=100 , bbox_inches='tight')"
   ]
  },
  {
   "cell_type": "code",
   "execution_count": 29,
   "metadata": {
    "scrolled": true
   },
   "outputs": [
    {
     "data": {
      "image/png": "[encoded data removed]",
      "text/plain": [
       "<Figure size 288x288 with 2 Axes>"
      ]
     },
     "metadata": {
      "needs_background": "light"
     },
     "output_type": "display_data"
    }
   ],
   "source": [
    "W1 = model.get_weights()[6]\n",
    "W1 = W1[:484]\n",
    "W1 = W1.reshape(22,22)\n",
    "plt.matshow(W1, cmap = plt.cm.RdBu)\n",
    "plt.colorbar()\n",
    "plt.title(\"Pesos Finales\\n\")\n",
    "plt.savefig(\"PesosFinales.png\" , bbox_inches='tight')"
   ]
  },
  {
   "cell_type": "code",
   "execution_count": 30,
   "metadata": {},
   "outputs": [],
   "source": [
    "history3 = history.history[\"loss\"].copy()"
   ]
  },
  {
   "cell_type": "code",
   "execution_count": 31,
   "metadata": {},
   "outputs": [
    {
     "data": {
      "image/png": "[encoded data removed]",
      "text/plain": [
       "<Figure size 432x288 with 1 Axes>"
      ]
     },
     "metadata": {
      "needs_background": "light"
     },
     "output_type": "display_data"
    }
   ],
   "source": [
    "plt.plot(history.history[\"acc\"])\n",
    "plt.title(\"Acurracy del modelo durante\\nel entrenamiento\")\n",
    "plt.xlabel(\"Epochs\")\n",
    "plt.savefig(\"precisión del modelo.png\", dpi=300, quality=100 , bbox_inches='tight')"
   ]
  },
  {
   "cell_type": "code",
   "execution_count": 32,
   "metadata": {
    "scrolled": false
   },
   "outputs": [
    {
     "data": {
      "text/plain": [
       "99    0\n",
       "48    1\n",
       "37    1\n",
       "96    1\n",
       "97    0\n",
       "Name: Clasificador, dtype: int64"
      ]
     },
     "execution_count": 32,
     "metadata": {},
     "output_type": "execute_result"
    }
   ],
   "source": [
    "y_train[:5]"
   ]
  },
  {
   "cell_type": "code",
   "execution_count": 33,
   "metadata": {
    "scrolled": false
   },
   "outputs": [
    {
     "data": {
      "image/png": "[encoded data removed]",
      "text/plain": [
       "<Figure size 432x288 with 3 Axes>"
      ]
     },
     "metadata": {
      "needs_background": "light"
     },
     "output_type": "display_data"
    }
   ],
   "source": [
    "W1 = model.get_weights()[6]\n",
    "W1 = W1[:484]\n",
    "W1 = W1.reshape(22,22)\n",
    "\n",
    "fig , ax = plt.subplots(1,2)\n",
    "img = ax[0].matshow(W0, cmap = plt.cm.RdBu)\n",
    "ax[0].title.set_text(\"Pesos Iniciales\\n\")\n",
    "\n",
    "ax[0].set_yticks([])\n",
    "\n",
    "ax[1].matshow(W1, cmap = plt.cm.RdBu)\n",
    "ax[1].title.set_text(\"Pesos Finales\\n\")\n",
    "\n",
    "fig.subplots_adjust(right=0.8)\n",
    "cbar_ax = fig.add_axes([0.83, 0.29, 0.04, 0.5])\n",
    "fig.colorbar(img, cax=cbar_ax)\n",
    "\n",
    "\n",
    "plt.savefig(\"PesosInicialesFinales.png\", dpi=300, quality = 100, bbox_inches='tight')\n",
    "plt.show()\n"
   ]
  },
  {
   "cell_type": "markdown",
   "metadata": {},
   "source": [
    "## Generando las predicciones"
   ]
  },
  {
   "cell_type": "code",
   "execution_count": 34,
   "metadata": {
    "scrolled": true
   },
   "outputs": [
    {
     "data": {
      "text/plain": [
       "array([[0],\n",
       "       [1],\n",
       "       [1],\n",
       "       [1],\n",
       "       [0]], dtype=int32)"
      ]
     },
     "execution_count": 34,
     "metadata": {},
     "output_type": "execute_result"
    }
   ],
   "source": [
    "y_pred = model.predict_classes(X_train) # \n",
    "y_pred[:5]"
   ]
  },
  {
   "cell_type": "code",
   "execution_count": 35,
   "metadata": {
    "scrolled": true
   },
   "outputs": [
    {
     "name": "stdout",
     "output_type": "stream",
     "text": [
      "21/21 [==============================] - 0s 2ms/step\n",
      "[0.2976923882961273, 0.8571428656578064]\n"
     ]
    }
   ],
   "source": [
    "score = model.evaluate(X_test, y_test,verbose=1)\n",
    "print(score) #[0.2045641839504242, 0.9523809552192688]"
   ]
  },
  {
   "cell_type": "markdown",
   "metadata": {},
   "source": [
    "## Evaluando el modelo "
   ]
  },
  {
   "cell_type": "code",
   "execution_count": 36,
   "metadata": {
    "scrolled": true
   },
   "outputs": [],
   "source": [
    "# Import the modules from `sklearn.metrics`\n",
    "from sklearn.metrics import confusion_matrix, precision_score, recall_score, f1_score, cohen_kappa_score"
   ]
  },
  {
   "cell_type": "code",
   "execution_count": 37,
   "metadata": {},
   "outputs": [
    {
     "name": "stdout",
     "output_type": "stream",
     "text": [
      "   1   0\n",
      "1  8   3\n",
      "0  0  10\n",
      "1.0\n",
      "0.8421052631578948\n"
     ]
    }
   ],
   "source": [
    "# Confusion matrix en valores absolutos  solamente el test \n",
    "thresholdProb= 0.50\n",
    "y_pred = np.where(model.predict_proba(X_test)>=thresholdProb,1,0)\n",
    "ET = pd.DataFrame(confusion_matrix(y_test, y_pred))\n",
    "ET = ET.sort_index(ascending=False,axis=1)\n",
    "ET = ET.sort_index(ascending=False,axis=0)\n",
    "print(ET)\n",
    "print(precision_score(y_test, y_pred))\n",
    "print(f1_score(y_test,y_pred))"
   ]
  },
  {
   "cell_type": "code",
   "execution_count": 38,
   "metadata": {
    "scrolled": false
   },
   "outputs": [
    {
     "data": {
      "image/png": "[encoded data removed]",
      "text/plain": [
       "<Figure size 432x288 with 1 Axes>"
      ]
     },
     "metadata": {
      "needs_background": "light"
     },
     "output_type": "display_data"
    }
   ],
   "source": [
    "model.predict_proba(X_test)\n",
    "plt.hist(model.predict_proba(X_test))\n",
    "plt.title(\"Distribución de la probabilidades predecidas por el modelo\\n\")\n",
    "#plt.suptitle(\"(Solamente casos y_test = 1)\", x=0.5, y= 0.94)\n",
    "plt.vlines(thresholdProb, 0 ,7)\n",
    "plt.ylim(0, 7)\n",
    "plt.xlabel(\"Probabilidad estimada\")\n",
    "plt.ylabel(\"frecuencia\")\n",
    "\n",
    "plt.savefig(\"DistribucionProbEst.png\", dpi=300,  bbox_inches='tight')"
   ]
  },
  {
   "cell_type": "code",
   "execution_count": 39,
   "metadata": {
    "scrolled": true
   },
   "outputs": [
    {
     "data": {
      "image/png": "[encoded data removed]",
      "text/plain": [
       "<Figure size 432x288 with 1 Axes>"
      ]
     },
     "metadata": {
      "needs_background": "light"
     },
     "output_type": "display_data"
    }
   ],
   "source": [
    "sn.heatmap(ET, annot=True, annot_kws={\"size\": 20}, cmap = plt.cm.Greens, cbar=False)\n",
    "plt.title(\"Matriz de Confusión\\n\", fontsize= 18)\n",
    "plt.suptitle(\"(Dataset de prueba)\", x=0.5, y= 0.94)\n",
    "plt.xticks([0.5,1.5],[\"Convesaciones CON\\ncontenido de trata\",\"Conversaciones SIN\\ncontenido de trata\"], fontsize = 12)\n",
    "plt.yticks([0.5,1.5],[\"Convesaciones CON\\ncontenido de trata\",\"Conversaciones SIN\\ncontenido de trata\"],rotation = 360, fontsize= 12)\n",
    "plt.savefig(\"MatrizDeConfusionTEST.png\", dpi=300,  bbox_inches='tight')\n"
   ]
  },
  {
   "cell_type": "code",
   "execution_count": 40,
   "metadata": {
    "scrolled": false
   },
   "outputs": [
    {
     "name": "stdout",
     "output_type": "stream",
     "text": [
      "1.0\n",
      "0.9655172413793104\n"
     ]
    },
    {
     "data": {
      "image/png": "[encoded data removed]",
      "text/plain": [
       "<Figure size 432x288 with 1 Axes>"
      ]
     },
     "metadata": {
      "needs_background": "light"
     },
     "output_type": "display_data"
    }
   ],
   "source": [
    "## Considerando todo el data set \n",
    "y_hat_prob = np.where(model.predict_proba(X)>thresholdProb,1,0)\n",
    "TT = pd.DataFrame(confusion_matrix(y, y_hat_prob))\n",
    "TT = TT.sort_index(ascending=False,axis=1)\n",
    "TT = TT.sort_index(ascending=False,axis=0)\n",
    "print(precision_score(y, y_hat_prob))\n",
    "print(f1_score(y,y_hat_prob))\n",
    "sn.heatmap(TT, annot=True, annot_kws={\"size\": 20}, cmap = plt.cm.Greens, cbar=False)\n",
    "plt.title(\"Matriz de Confusión\\n\", fontsize= 18)\n",
    "plt.suptitle(\"(Dataset de completo)\", x=0.5, y= 0.94)\n",
    "plt.xticks([0.5,1.5],[\"Convesaciones CON\\ncontenido de trata\",\"Conversaciones SIN\\ncontenido de trata\"], fontsize = 12)\n",
    "plt.yticks([0.5,1.5],[\"Convesaciones CON\\ncontenido de trata\",\"Conversaciones SIN\\ncontenido de trata\"],rotation = 360, fontsize= 12)\n",
    "plt.savefig(\"MatrizDeConfusionTOTAL.png\", dpi=300, bbox_inches='tight')\n"
   ]
  },
  {
   "cell_type": "markdown",
   "metadata": {},
   "source": [
    "## Comparando la optimización con los 3 modelos diferentes"
   ]
  },
  {
   "cell_type": "code",
   "execution_count": 41,
   "metadata": {
    "scrolled": true
   },
   "outputs": [
    {
     "data": {
      "image/png": "[encoded data removed]",
      "text/plain": [
       "<Figure size 432x288 with 1 Axes>"
      ]
     },
     "metadata": {
      "needs_background": "light"
     },
     "output_type": "display_data"
    }
   ],
   "source": [
    "plt.plot(history1) # solo sigmoide\n",
    "plt.plot(history2) # solo relu\n",
    "plt.plot(history3) \n",
    "plt.title(\"COMPARACIÓN funciones de costo\\n3 modelos\")\n",
    "plt.xlabel(\"Epochs\")\n",
    "plt.legend([\"Sigmoid\", \"ReLU\", \"Mix\"] )\n",
    "plt.savefig(\"función de costoMultiple.png\", dpi=300, quality=100 , bbox_inches='tight')\n"
   ]
  },
  {
   "cell_type": "markdown",
   "metadata": {},
   "source": [
    "# Guardando los pesos"
   ]
  },
  {
   "cell_type": "code",
   "execution_count": 42,
   "metadata": {},
   "outputs": [],
   "source": [
    "model.save(\"models/ModeloMix95\") "
   ]
  }
 ],
 "metadata": {
  "kernelspec": {
   "display_name": "Python 3",
   "language": "python",
   "name": "python3"
  },
  "language_info": {
   "codemirror_mode": {
    "name": "ipython",
    "version": 3
   },
   "file_extension": ".py",
   "mimetype": "text/x-python",
   "name": "python",
   "nbconvert_exporter": "python",
   "pygments_lexer": "ipython3",
   "version": "3.6.5"
  }
 },
 "nbformat": 4,
 "nbformat_minor": 2
}
