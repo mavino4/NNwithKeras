{
 "cells": [
  {
   "cell_type": "code",
   "execution_count": 1,
   "metadata": {
    "scrolled": true
   },
   "outputs": [
    {
     "name": "stderr",
     "output_type": "stream",
     "text": [
      "Using TensorFlow backend.\n"
     ]
    }
   ],
   "source": [
    "import keras\n",
    "import numpy as np\n",
    "import pandas as pd\n",
    "import matplotlib.pyplot as plt\n",
    "from sklearn.model_selection import train_test_split\n",
    "plt.style.use('ggplot')"
   ]
  },
  {
   "cell_type": "code",
   "execution_count": 178,
   "metadata": {},
   "outputs": [],
   "source": [
    "Total = pd.read_excel(\"matriz_final_1.xlsx\", skiprows=1) # importando"
   ]
  },
  {
   "cell_type": "code",
   "execution_count": 179,
   "metadata": {},
   "outputs": [
    {
     "data": {
      "text/plain": [
       "(101, 14246)"
      ]
     },
     "execution_count": 179,
     "metadata": {},
     "output_type": "execute_result"
    }
   ],
   "source": [
    "Total.shape # tamaño del dataset"
   ]
  },
  {
   "cell_type": "code",
   "execution_count": 180,
   "metadata": {
    "scrolled": true
   },
   "outputs": [
    {
     "data": {
      "text/plain": [
       "(101, 14244)"
      ]
     },
     "execution_count": 180,
     "metadata": {},
     "output_type": "execute_result"
    }
   ],
   "source": [
    "Total = Total.iloc[:,1:] #eliminando primera columna\n",
    "y = Total.loc[:,\"Clasificador\"] # Extrayendo clases\n",
    "Total.drop(columns=\"Clasificador\", axis=0, inplace=True) #Eliminando y de la matriz de entrada\n",
    "Total.shape"
   ]
  },
  {
   "cell_type": "code",
   "execution_count": 181,
   "metadata": {},
   "outputs": [],
   "source": [
    "## Generando de manera aleatoria\n",
    "SIM = Total.loc[np.where(y==1, True, False),bad] \n",
    "B = pd.DataFrame(np.random.choice([4,3], size = SIM.shape, p=[0.48, 0.52]))\n",
    "B.index = SIM.index\n",
    "B.columns = SIM.columns"
   ]
  },
  {
   "cell_type": "code",
   "execution_count": 182,
   "metadata": {
    "scrolled": true
   },
   "outputs": [],
   "source": [
    "Total.loc[np.where(y==1, True, False),bad] = Total.loc[np.where(y==1, True, False),bad] + B"
   ]
  },
  {
   "cell_type": "code",
   "execution_count": 183,
   "metadata": {},
   "outputs": [],
   "source": [
    "Total[\"Clasificador\"] = y"
   ]
  },
  {
   "cell_type": "code",
   "execution_count": 184,
   "metadata": {},
   "outputs": [],
   "source": [
    "Total.to_csv(\"MatrizModificada.csv\", sep=\";\")"
   ]
  },
  {
   "cell_type": "code",
   "execution_count": 128,
   "metadata": {},
   "outputs": [
    {
     "data": {
      "text/html": [
       "<div>\n",
       "<style scoped>\n",
       "    .dataframe tbody tr th:only-of-type {\n",
       "        vertical-align: middle;\n",
       "    }\n",
       "\n",
       "    .dataframe tbody tr th {\n",
       "        vertical-align: top;\n",
       "    }\n",
       "\n",
       "    .dataframe thead th {\n",
       "        text-align: right;\n",
       "    }\n",
       "</style>\n",
       "<table border=\"1\" class=\"dataframe\">\n",
       "  <thead>\n",
       "    <tr style=\"text-align: right;\">\n",
       "      <th></th>\n",
       "      <th>vali</th>\n",
       "      <th>pesadit</th>\n",
       "      <th>chocant</th>\n",
       "      <th>kun</th>\n",
       "    </tr>\n",
       "  </thead>\n",
       "  <tbody>\n",
       "    <tr>\n",
       "      <th>0</th>\n",
       "      <td>1</td>\n",
       "      <td>7</td>\n",
       "      <td>5</td>\n",
       "      <td>3</td>\n",
       "    </tr>\n",
       "    <tr>\n",
       "      <th>1</th>\n",
       "      <td>3</td>\n",
       "      <td>9</td>\n",
       "      <td>4</td>\n",
       "      <td>5</td>\n",
       "    </tr>\n",
       "  </tbody>\n",
       "</table>\n",
       "</div>"
      ],
      "text/plain": [
       "   vali  pesadit  chocant  kun\n",
       "0     1        7        5    3\n",
       "1     3        9        4    5"
      ]
     },
     "execution_count": 128,
     "metadata": {},
     "output_type": "execute_result"
    }
   ],
   "source": [
    "DF = pd.DataFrame([[0,2,4,2],[1,5,3,4]])\n",
    "Total.iloc[:2,:4]\n",
    "DF.columns =Total.iloc[:2,:4].columns\n",
    "Total.iloc[:2,:4]  + DF\n"
   ]
  },
  {
   "cell_type": "code",
   "execution_count": 6,
   "metadata": {},
   "outputs": [],
   "source": [
    "Malas = Total.iloc[np.where(y==1, True, False),:]\n",
    "bad_words = ['pendej', 'arrech', 'bander', 'birloch', 'nac',\n",
    "             'tet', 'lol', 'burr', 'cojud', 'sons', 'estup',\n",
    "             'mierd', 'imbecil', 'inutil', 'camot', 'capocaser',\n",
    "             'chach', 'chacot', 'chaki', 'chang', 'chanch', 'che',\n",
    "             'choc', 'negr', 'choler', 'chol', 'cod', 'coim',\n",
    "             'corch', 'cul', 'ano', 'empanad', 'fresc', 'jailon',\n",
    "             'lloqall', 'manc', 'marac', 'morf', '�at', 'opa',\n",
    "             'pachang', 'padr', 'paj', 'pajpaku', 'peg', 'perr',\n",
    "             'pichi', 'plat', 'puch', 'ray', 'opasex', 'porn',\n",
    "             'xxx', 'amor', 'gust', 'encant', 'enamor',\n",
    "             'dese', 'conocert', 'fot', 'perfil', 'llam',\n",
    "             'atencion', 'quier', 'conocert', 'sol', 'andas',\n",
    "             'amig', 'niñ', 'bell', 'dulc', 'hermos', 'precios',\n",
    "             'hac', 'pod', 'envi', 'tuy', 'vert', 'mejor', 'lind',\n",
    "             'sal', 'audi', 'vide', 'esuchart', 'voz', 'ati',\n",
    "             'curi', 'veam', 'person', 'amig', 'parej', 'novi',\n",
    "             'viv', 'estudi', 'music', 'gustari', 'conoc',\n",
    "             'princes', 'trabaj', 'hor', 'habl', 'contig', 'aburr',\n",
    "             'jug', 'perdon', 'dia', 'noch', 'felic', 'hoy',\n",
    "             'especial', 'intes', 'trabaj', 'dar', 'informacion',\n",
    "             'busc', 'busc', 'ten', 'experient', 'sueld', 'gananci',\n",
    "             'mes', 'seman', 'ofert', 'laboral', 'ayud', 'econom',\n",
    "             'sol', 'busc', 'chic', 'chic', 'joven', 'señorit',\n",
    "             'buen', 'presenci', 'medi', 'tiemp', 'complet',\n",
    "             'progres', 'realiz', 'viaj', 'interior', 'exterior',\n",
    "             'pai', 'departament', 'disponibil', 'urgent',\n",
    "             'inmediat', 'super', 'crec']\n",
    "len(bad_words)\n",
    "# Extrayendo lo elementos únicos\n",
    "bad = []\n",
    "for i in bad_words:\n",
    "    if i in Total.columns:\n",
    "        bad.append(i)"
   ]
  },
  {
   "cell_type": "code",
   "execution_count": 8,
   "metadata": {},
   "outputs": [],
   "source": [
    "A = np.array(bad)\n",
    "A.tofile(\"palabrasMalas.txt\", sep = \";\")"
   ]
  }
 ],
 "metadata": {
  "kernelspec": {
   "display_name": "Python 3",
   "language": "python",
   "name": "python3"
  },
  "language_info": {
   "codemirror_mode": {
    "name": "ipython",
    "version": 3
   },
   "file_extension": ".py",
   "mimetype": "text/x-python",
   "name": "python",
   "nbconvert_exporter": "python",
   "pygments_lexer": "ipython3",
   "version": "3.6.5"
  }
 },
 "nbformat": 4,
 "nbformat_minor": 2
}
