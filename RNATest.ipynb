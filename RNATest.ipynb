{
 "cells": [
  {
   "cell_type": "code",
   "execution_count": 1,
   "metadata": {
    "scrolled": true
   },
   "outputs": [
    {
     "name": "stderr",
     "output_type": "stream",
     "text": [
      "/usr/local/lib/python3.6/dist-packages/h5py/__init__.py:36: FutureWarning: Conversion of the second argument of issubdtype from `float` to `np.floating` is deprecated. In future, it will be treated as `np.float64 == np.dtype(float).type`.\n",
      "  from ._conv import register_converters as _register_converters\n",
      "Using TensorFlow backend.\n"
     ]
    }
   ],
   "source": [
    "import keras\n",
    "import numpy as np\n",
    "import pandas as pd\n",
    "import matplotlib.pyplot as plt\n",
    "from sklearn.model_selection import train_test_split\n",
    "plt.style.use('ggplot')"
   ]
  },
  {
   "cell_type": "code",
   "execution_count": 2,
   "metadata": {},
   "outputs": [],
   "source": [
    "%matplotlib inline"
   ]
  },
  {
   "cell_type": "markdown",
   "metadata": {},
   "source": [
    "## Spliting\n",
    "Genrando la partición de la muestra de entranamiento y de evaluación"
   ]
  },
  {
   "cell_type": "code",
   "execution_count": 105,
   "metadata": {},
   "outputs": [],
   "source": [
    "Total = pd.read_excel(\"matriz_final_1.xlsx\", skiprows=1) # importando"
   ]
  },
  {
   "cell_type": "code",
   "execution_count": 106,
   "metadata": {},
   "outputs": [
    {
     "data": {
      "text/plain": [
       "(101, 14246)"
      ]
     },
     "execution_count": 106,
     "metadata": {},
     "output_type": "execute_result"
    }
   ],
   "source": [
    "Total.shape # tamaño del dataset"
   ]
  },
  {
   "cell_type": "code",
   "execution_count": 107,
   "metadata": {},
   "outputs": [
    {
     "data": {
      "text/plain": [
       "(101, 14244)"
      ]
     },
     "execution_count": 107,
     "metadata": {},
     "output_type": "execute_result"
    }
   ],
   "source": [
    "Total = Total.iloc[:,1:] #eliminando primera columna\n",
    "y = Total.loc[:,\"Clasificador\"] # Extrayendo clases\n",
    "Total.drop(columns=\"Clasificador\", axis=0, inplace=True) #Eliminando y de la matriz de entrada\n",
    "Total.shape"
   ]
  },
  {
   "cell_type": "code",
   "execution_count": 20,
   "metadata": {},
   "outputs": [],
   "source": [
    "Malas = Total.iloc[np.where(y==1, True, False),:]\n",
    "bad_words = ['pendej', 'arrech', 'bander', 'birloch', 'nac',\n",
    "             'tet', 'lol', 'burr', 'cojud', 'sons', 'estup',\n",
    "             'mierd', 'imbecil', 'inutil', 'camot', 'capocaser',\n",
    "             'chach', 'chacot', 'chaki', 'chang', 'chanch', 'che',\n",
    "             'choc', 'negr', 'choler', 'chol', 'cod', 'coim',\n",
    "             'corch', 'cul', 'ano', 'empanad', 'fresc', 'jailon',\n",
    "             'lloqall', 'manc', 'marac', 'morf', '�at', 'opa',\n",
    "             'pachang', 'padr', 'paj', 'pajpaku', 'peg', 'perr',\n",
    "             'pichi', 'plat', 'puch', 'ray', 'opasex', 'porn',\n",
    "             'xxx', 'amor', 'gust', 'encant', 'enamor',\n",
    "             'dese', 'conocert', 'fot', 'perfil', 'llam',\n",
    "             'atencion', 'quier', 'conocert', 'sol', 'andas',\n",
    "             'amig', 'niñ', 'bell', 'dulc', 'hermos', 'precios',\n",
    "             'hac', 'pod', 'envi', 'tuy', 'vert', 'mejor', 'lind',\n",
    "             'sal', 'audi', 'vide', 'esuchart', 'voz', 'ati',\n",
    "             'curi', 'veam', 'person', 'amig', 'parej', 'novi',\n",
    "             'viv', 'estudi', 'music', 'gustari', 'conoc',\n",
    "             'princes', 'trabaj', 'hor', 'habl', 'contig', 'aburr',\n",
    "             'jug', 'perdon', 'dia', 'noch', 'felic', 'hoy',\n",
    "             'especial', 'intes', 'trabaj', 'dar', 'informacion',\n",
    "             'busc', 'busc', 'ten', 'experient', 'sueld', 'gananci',\n",
    "             'mes', 'seman', 'ofert', 'laboral', 'ayud', 'econom',\n",
    "             'sol', 'busc', 'chic', 'chic', 'joven', 'señorit',\n",
    "             'buen', 'presenci', 'medi', 'tiemp', 'complet',\n",
    "             'progres', 'realiz', 'viaj', 'interior', 'exterior',\n",
    "             'pai', 'departament', 'disponibil', 'urgent',\n",
    "             'inmediat', 'super', 'crec']\n",
    "len(bad_words)\n",
    "# Extrayendo lo elementos únicos\n",
    "bad = []\n",
    "for i in bad_words:\n",
    "    if i in Total.columns:\n",
    "        bad.append(i)"
   ]
  },
  {
   "cell_type": "code",
   "execution_count": 148,
   "metadata": {},
   "outputs": [],
   "source": [
    "A = np.array(bad)\n",
    "A.tofile(\"a.txt\", sep = \";\")"
   ]
  },
  {
   "cell_type": "code",
   "execution_count": 108,
   "metadata": {},
   "outputs": [],
   "source": [
    "Total.loc[np.where(y==1, True, False),bad] = Total.loc[np.where(y==1, True, False),bad] + 5 \n"
   ]
  },
  {
   "cell_type": "markdown",
   "metadata": {},
   "source": [
    "# Realizando la segmentación TF-IDF\n",
    "Podemos observar la matriz de TF con la matriz de conteo de frecuencias absolutas "
   ]
  },
  {
   "cell_type": "code",
   "execution_count": 109,
   "metadata": {
    "scrolled": false
   },
   "outputs": [
    {
     "data": {
      "text/plain": [
       "TfidfTransformer(norm='l2', smooth_idf=False, sublinear_tf=False,\n",
       "         use_idf=True)"
      ]
     },
     "execution_count": 109,
     "metadata": {},
     "output_type": "execute_result"
    }
   ],
   "source": [
    "from sklearn.feature_extraction.text import TfidfTransformer #importando TD IDF de sklearn\n",
    "transformer = TfidfTransformer(smooth_idf=False) ##seteandola en la función transformer\n",
    "transformer   "
   ]
  },
  {
   "cell_type": "markdown",
   "metadata": {},
   "source": [
    "Hallando el TF-IDF \n",
    "$$TF - IDF(t,d) = tf(t,d)\\ x\\ idf(t) $$"
   ]
  },
  {
   "cell_type": "code",
   "execution_count": 110,
   "metadata": {},
   "outputs": [],
   "source": [
    "tfidf = transformer.fit_transform(Total.values) # aplicando la funcion Tf Idf al data set \n",
    "tfidf \n",
    "X = tfidf.toarray()"
   ]
  },
  {
   "cell_type": "code",
   "execution_count": 111,
   "metadata": {
    "scrolled": false
   },
   "outputs": [
    {
     "data": {
      "text/plain": [
       "array([[0.00286206, 0.01402434, 0.00272162, ..., 0.00544323, 0.00849986,\n",
       "        0.01133315],\n",
       "       [0.00573434, 0.01123951, 0.00272648, ..., 0.01363238, 0.0056767 ,\n",
       "        0.        ],\n",
       "       [0.00281476, 0.01103407, 0.00535328, ..., 0.00802992, 0.01393234,\n",
       "        0.00557293],\n",
       "       ...,\n",
       "       [0.00562343, 0.00275553, 0.00534749, ..., 0.        , 0.0111338 ,\n",
       "        0.        ],\n",
       "       [0.00571668, 0.0112049 , 0.01359041, ..., 0.01359041, 0.01414804,\n",
       "        0.00565922],\n",
       "       [0.01128828, 0.00276568, 0.00268359, ..., 0.00536718, 0.01117482,\n",
       "        0.0027937 ]])"
      ]
     },
     "execution_count": 111,
     "metadata": {},
     "output_type": "execute_result"
    }
   ],
   "source": [
    "X"
   ]
  },
  {
   "cell_type": "code",
   "execution_count": 112,
   "metadata": {},
   "outputs": [],
   "source": [
    "## Separando las muestras de entrenamiento y de control \n",
    "X_train, X_test, y_train, y_test = train_test_split(\n",
    "    X, y, test_size=0.2,random_state=123) # Semilla = random_state "
   ]
  },
  {
   "cell_type": "code",
   "execution_count": 113,
   "metadata": {},
   "outputs": [
    {
     "data": {
      "text/plain": [
       "(80, 14244)"
      ]
     },
     "execution_count": 113,
     "metadata": {},
     "output_type": "execute_result"
    }
   ],
   "source": [
    "X_train.shape"
   ]
  },
  {
   "cell_type": "code",
   "execution_count": 114,
   "metadata": {
    "scrolled": true
   },
   "outputs": [
    {
     "data": {
      "text/plain": [
       "(21, 14244)"
      ]
     },
     "execution_count": 114,
     "metadata": {},
     "output_type": "execute_result"
    }
   ],
   "source": [
    "X_test.shape"
   ]
  },
  {
   "cell_type": "code",
   "execution_count": 115,
   "metadata": {
    "scrolled": false
   },
   "outputs": [
    {
     "data": {
      "image/png": "[encoded data removed]",
      "text/plain": [
       "<Figure size 432x288 with 1 Axes>"
      ]
     },
     "metadata": {},
     "output_type": "display_data"
    }
   ],
   "source": [
    "fig , ax = plt.subplots(1) #Distribucion total\n",
    "cv, cm = ax.bar((\"Conv. sin contenido de trata\", \"Conv. con contenido de trata\"),[56,45])\n",
    "cm.set_facecolor(\"darkorange\")\n",
    "cm.set_width(0.4)\n",
    "cv.set_facecolor(\"limegreen\")\n",
    "cv.set_width(0.4)\n",
    "ax.set_ylabel(\"conteo\")\n",
    "ax.set_title(\"Total de conversaciones\")\n",
    "fig.savefig(\"Total.pdf\")"
   ]
  },
  {
   "cell_type": "code",
   "execution_count": 116,
   "metadata": {
    "scrolled": true
   },
   "outputs": [
    {
     "data": {
      "text/plain": [
       "amig       0.014234\n",
       "dia        0.014228\n",
       "arrech     0.014116\n",
       "conoc      0.014036\n",
       "birloch    0.013979\n",
       "burr       0.013931\n",
       "corch      0.013929\n",
       "opa        0.013904\n",
       "busc       0.013902\n",
       "chaki      0.013815\n",
       "dtype: float64"
      ]
     },
     "execution_count": 116,
     "metadata": {},
     "output_type": "execute_result"
    }
   ],
   "source": [
    "sumRow = Total.sum(axis=1)\n",
    "sumRow.values\n",
    "TotalPer = Total.div(sumRow, axis=0)\n",
    "impRel = TotalPer.mean(axis=0)\n",
    "(impRel.sort_values(ascending=False)*100)[:10]\n"
   ]
  },
  {
   "cell_type": "markdown",
   "metadata": {},
   "source": [
    "## Definiendo la arquitectura de la red neuronal"
   ]
  },
  {
   "cell_type": "code",
   "execution_count": 117,
   "metadata": {},
   "outputs": [],
   "source": [
    "from keras.models import Sequential\n",
    "from keras.layers import Dense\n",
    "from keras import optimizers"
   ]
  },
  {
   "cell_type": "code",
   "execution_count": 118,
   "metadata": {},
   "outputs": [],
   "source": [
    "sgd = optimizers.SGD(lr=0.01, decay=1e-6, momentum=0.0 ,nesterov=True)\n",
    "rmsprop = keras.optimizers.RMSprop(lr=0.001, rho=0.9, epsilon=None, decay=0.0)\n",
    "adagrad =  keras.optimizers.Adagrad(lr=0.01, epsilon=None, decay=0.0)\n",
    "adadelta = keras.optimizers.Adadelta(lr=1.0, rho=0.95, epsilon=None, decay=0.0)\n",
    "adam= keras.optimizers.Adam(lr=0.001, beta_1=0.9, beta_2=0.999, epsilon=None, decay=0.0, amsgrad=False)\n",
    "nadam = keras.optimizers.Nadam(lr=0.002, beta_1=0.9, beta_2=0.999, epsilon=None, schedule_decay=0.004)"
   ]
  },
  {
   "cell_type": "code",
   "execution_count": 119,
   "metadata": {},
   "outputs": [],
   "source": [
    "model = Sequential()\n",
    "\n",
    "model.add(Dense(500, activation='relu', input_shape=(14244,)))\n",
    "\n",
    "model.add(Dense(200, activation='sigmoid'))\n",
    "\n",
    "model.add(Dense(500, activation='relu'))\n",
    "\n",
    "model.add(Dense(1, activation='sigmoid'))"
   ]
  },
  {
   "cell_type": "code",
   "execution_count": 120,
   "metadata": {},
   "outputs": [
    {
     "data": {
      "text/plain": [
       "(None, 1)"
      ]
     },
     "execution_count": 120,
     "metadata": {},
     "output_type": "execute_result"
    }
   ],
   "source": [
    "# Model output shape\n",
    "model.output_shape\n"
   ]
  },
  {
   "cell_type": "code",
   "execution_count": 121,
   "metadata": {
    "scrolled": true
   },
   "outputs": [
    {
     "name": "stdout",
     "output_type": "stream",
     "text": [
      "_________________________________________________________________\n",
      "Layer (type)                 Output Shape              Param #   \n",
      "=================================================================\n",
      "dense_9 (Dense)              (None, 500)               7122500   \n",
      "_________________________________________________________________\n",
      "dense_10 (Dense)             (None, 200)               100200    \n",
      "_________________________________________________________________\n",
      "dense_11 (Dense)             (None, 500)               100500    \n",
      "_________________________________________________________________\n",
      "dense_12 (Dense)             (None, 1)                 501       \n",
      "=================================================================\n",
      "Total params: 7,323,701\n",
      "Trainable params: 7,323,701\n",
      "Non-trainable params: 0\n",
      "_________________________________________________________________\n"
     ]
    }
   ],
   "source": [
    "# Model summary\n",
    "model.summary()"
   ]
  },
  {
   "cell_type": "code",
   "execution_count": 122,
   "metadata": {
    "scrolled": false
   },
   "outputs": [
    {
     "data": {
      "image/png": "[encoded data removed]",
      "text/plain": [
       "<Figure size 288x288 with 2 Axes>"
      ]
     },
     "metadata": {},
     "output_type": "display_data"
    }
   ],
   "source": [
    "W0 = model.get_weights()[6]\n",
    "W0 = W0[:484]\n",
    "W0 = W0.reshape(22,22)\n",
    "plt.matshow(W0)\n",
    "plt.colorbar()\n",
    "plt.title(\"Pesos iniciales\\n\")\n",
    "plt.savefig(\"PesosIniciales.png\")"
   ]
  },
  {
   "cell_type": "code",
   "execution_count": 123,
   "metadata": {
    "scrolled": true
   },
   "outputs": [
    {
     "data": {
      "image/png": "[encoded data removed]",
      "text/plain": [
       "<Figure size 288x288 with 2 Axes>"
      ]
     },
     "metadata": {},
     "output_type": "display_data"
    }
   ],
   "source": [
    "W1 = model.get_weights()[6]\n",
    "W1 = W1[:484]\n",
    "W1 = W1.reshape(22,22)\n",
    "plt.matshow(W1)\n",
    "plt.colorbar()\n",
    "plt.title(\"Pesos finales\\n\")\n",
    "plt.savefig(\"PesosFinales.png\")"
   ]
  },
  {
   "cell_type": "code",
   "execution_count": 144,
   "metadata": {},
   "outputs": [
    {
     "data": {
      "text/plain": [
       "['pendej',\n",
       " 'arrech',\n",
       " 'birloch',\n",
       " 'nac',\n",
       " 'lol',\n",
       " 'burr',\n",
       " 'cojud',\n",
       " 'sons',\n",
       " 'estup',\n",
       " 'mierd',\n",
       " 'inutil',\n",
       " 'chach',\n",
       " 'chaki',\n",
       " 'chang',\n",
       " 'chanch',\n",
       " 'che',\n",
       " 'choc',\n",
       " 'negr',\n",
       " 'cod',\n",
       " 'coim',\n",
       " 'corch',\n",
       " 'cul',\n",
       " 'fresc',\n",
       " 'jailon',\n",
       " 'manc',\n",
       " 'marac',\n",
       " 'morf',\n",
       " 'opa',\n",
       " 'padr',\n",
       " 'paj',\n",
       " 'peg',\n",
       " 'perr',\n",
       " 'pichi',\n",
       " 'plat',\n",
       " 'puch',\n",
       " 'ray',\n",
       " 'porn',\n",
       " 'xxx',\n",
       " 'amor',\n",
       " 'gust',\n",
       " 'encant',\n",
       " 'enamor',\n",
       " 'conocert',\n",
       " 'fot',\n",
       " 'perfil',\n",
       " 'llam',\n",
       " 'atencion',\n",
       " 'quier',\n",
       " 'conocert',\n",
       " 'sol',\n",
       " 'andas',\n",
       " 'amig',\n",
       " 'bell',\n",
       " 'dulc',\n",
       " 'hac',\n",
       " 'pod',\n",
       " 'envi',\n",
       " 'tuy',\n",
       " 'vert',\n",
       " 'mejor',\n",
       " 'lind',\n",
       " 'sal',\n",
       " 'audi',\n",
       " 'esuchart',\n",
       " 'voz',\n",
       " 'ati',\n",
       " 'curi',\n",
       " 'veam',\n",
       " 'person',\n",
       " 'amig',\n",
       " 'parej',\n",
       " 'novi',\n",
       " 'viv',\n",
       " 'estudi',\n",
       " 'music',\n",
       " 'gustari',\n",
       " 'conoc',\n",
       " 'trabaj',\n",
       " 'hor',\n",
       " 'habl',\n",
       " 'contig',\n",
       " 'aburr',\n",
       " 'jug',\n",
       " 'perdon',\n",
       " 'dia',\n",
       " 'noch',\n",
       " 'felic',\n",
       " 'hoy',\n",
       " 'especial',\n",
       " 'intes',\n",
       " 'trabaj',\n",
       " 'dar',\n",
       " 'informacion',\n",
       " 'busc',\n",
       " 'busc',\n",
       " 'ten',\n",
       " 'experient',\n",
       " 'sueld',\n",
       " 'gananci',\n",
       " 'mes',\n",
       " 'ofert',\n",
       " 'laboral',\n",
       " 'ayud',\n",
       " 'econom',\n",
       " 'sol',\n",
       " 'busc',\n",
       " 'chic',\n",
       " 'chic',\n",
       " 'buen',\n",
       " 'presenci',\n",
       " 'medi',\n",
       " 'tiemp',\n",
       " 'complet',\n",
       " 'realiz',\n",
       " 'viaj',\n",
       " 'interior',\n",
       " 'exterior',\n",
       " 'departament',\n",
       " 'disponibil',\n",
       " 'urgent',\n",
       " 'inmediat',\n",
       " 'crec']"
      ]
     },
     "execution_count": 144,
     "metadata": {},
     "output_type": "execute_result"
    }
   ],
   "source": [
    "bad"
   ]
  },
  {
   "cell_type": "markdown",
   "metadata": {},
   "source": [
    "## Entrenando la RED"
   ]
  },
  {
   "cell_type": "code",
   "execution_count": 124,
   "metadata": {},
   "outputs": [],
   "source": [
    "from keras.callbacks import History \n",
    "history = History()"
   ]
  },
  {
   "cell_type": "code",
   "execution_count": 125,
   "metadata": {},
   "outputs": [],
   "source": [
    "np.random.seed(123)\n",
    "model.compile(loss='binary_crossentropy',\n",
    "              optimizer='adam',\n",
    "              metrics=['accuracy'])"
   ]
  },
  {
   "cell_type": "code",
   "execution_count": 126,
   "metadata": {
    "scrolled": false
   },
   "outputs": [
    {
     "name": "stdout",
     "output_type": "stream",
     "text": [
      "Epoch 1/40\n",
      "80/80 [==============================] - 1s 13ms/step - loss: 0.7517 - acc: 0.5000\n",
      "Epoch 2/40\n",
      "80/80 [==============================] - 0s 5ms/step - loss: 0.7252 - acc: 0.4500\n",
      "Epoch 3/40\n",
      "80/80 [==============================] - 0s 5ms/step - loss: 0.7235 - acc: 0.4250\n",
      "Epoch 4/40\n",
      "80/80 [==============================] - 0s 5ms/step - loss: 0.6747 - acc: 0.5750\n",
      "Epoch 5/40\n",
      "80/80 [==============================] - 0s 5ms/step - loss: 0.7070 - acc: 0.5750\n",
      "Epoch 6/40\n",
      "80/80 [==============================] - 0s 5ms/step - loss: 0.6918 - acc: 0.5750\n",
      "Epoch 7/40\n",
      "80/80 [==============================] - 0s 4ms/step - loss: 0.6721 - acc: 0.5750\n",
      "Epoch 8/40\n",
      "80/80 [==============================] - 0s 5ms/step - loss: 0.6842 - acc: 0.9875\n",
      "Epoch 9/40\n",
      "80/80 [==============================] - 0s 5ms/step - loss: 0.6784 - acc: 0.5750\n",
      "Epoch 10/40\n",
      "80/80 [==============================] - 0s 5ms/step - loss: 0.6710 - acc: 0.5750\n",
      "Epoch 11/40\n",
      "80/80 [==============================] - 0s 5ms/step - loss: 0.6624 - acc: 0.5750\n",
      "Epoch 12/40\n",
      "80/80 [==============================] - 0s 5ms/step - loss: 0.6542 - acc: 0.5750\n",
      "Epoch 13/40\n",
      "80/80 [==============================] - 0s 5ms/step - loss: 0.6392 - acc: 0.5750\n",
      "Epoch 14/40\n",
      "80/80 [==============================] - 0s 5ms/step - loss: 0.6298 - acc: 0.7750\n",
      "Epoch 15/40\n",
      "80/80 [==============================] - 0s 5ms/step - loss: 0.6098 - acc: 0.7625\n",
      "Epoch 16/40\n",
      "80/80 [==============================] - 0s 5ms/step - loss: 0.5834 - acc: 0.5750\n",
      "Epoch 17/40\n",
      "80/80 [==============================] - 0s 5ms/step - loss: 0.5509 - acc: 0.5750\n",
      "Epoch 18/40\n",
      "80/80 [==============================] - 0s 5ms/step - loss: 0.5155 - acc: 1.0000\n",
      "Epoch 19/40\n",
      "80/80 [==============================] - 0s 5ms/step - loss: 0.4615 - acc: 1.0000\n",
      "Epoch 20/40\n",
      "80/80 [==============================] - 0s 5ms/step - loss: 0.4162 - acc: 1.0000\n",
      "Epoch 21/40\n",
      "80/80 [==============================] - 0s 5ms/step - loss: 0.3382 - acc: 1.0000\n",
      "Epoch 22/40\n",
      "80/80 [==============================] - 0s 5ms/step - loss: 0.2707 - acc: 1.0000\n",
      "Epoch 23/40\n",
      "80/80 [==============================] - 0s 5ms/step - loss: 0.1986 - acc: 1.0000\n",
      "Epoch 24/40\n",
      "80/80 [==============================] - 0s 5ms/step - loss: 0.1374 - acc: 1.0000\n",
      "Epoch 25/40\n",
      "80/80 [==============================] - 0s 5ms/step - loss: 0.0873 - acc: 1.0000\n",
      "Epoch 26/40\n",
      "80/80 [==============================] - 0s 5ms/step - loss: 0.0536 - acc: 1.0000\n",
      "Epoch 27/40\n",
      "80/80 [==============================] - 0s 5ms/step - loss: 0.0311 - acc: 1.0000\n",
      "Epoch 28/40\n",
      "80/80 [==============================] - 0s 5ms/step - loss: 0.0182 - acc: 1.0000\n",
      "Epoch 29/40\n",
      "80/80 [==============================] - 0s 5ms/step - loss: 0.0110 - acc: 1.0000\n",
      "Epoch 30/40\n",
      "80/80 [==============================] - 0s 5ms/step - loss: 0.0068 - acc: 1.0000\n",
      "Epoch 31/40\n",
      "80/80 [==============================] - 0s 5ms/step - loss: 0.0043 - acc: 1.0000\n",
      "Epoch 32/40\n",
      "80/80 [==============================] - 0s 5ms/step - loss: 0.0029 - acc: 1.0000\n",
      "Epoch 33/40\n",
      "80/80 [==============================] - 0s 5ms/step - loss: 0.0020 - acc: 1.0000\n",
      "Epoch 34/40\n",
      "80/80 [==============================] - 0s 5ms/step - loss: 0.0014 - acc: 1.0000\n",
      "Epoch 35/40\n",
      "80/80 [==============================] - 0s 5ms/step - loss: 9.9679e-04 - acc: 1.0000\n",
      "Epoch 36/40\n",
      "80/80 [==============================] - 0s 5ms/step - loss: 7.3626e-04 - acc: 1.0000\n",
      "Epoch 37/40\n",
      "80/80 [==============================] - 0s 5ms/step - loss: 5.6134e-04 - acc: 1.0000\n",
      "Epoch 38/40\n",
      "80/80 [==============================] - 0s 5ms/step - loss: 4.4007e-04 - acc: 1.0000\n",
      "Epoch 39/40\n",
      "80/80 [==============================] - 0s 5ms/step - loss: 3.5071e-04 - acc: 1.0000\n",
      "Epoch 40/40\n",
      "80/80 [==============================] - 0s 5ms/step - loss: 2.8435e-04 - acc: 1.0000\n"
     ]
    },
    {
     "data": {
      "text/plain": [
       "<keras.callbacks.History at 0x7f5915e15c18>"
      ]
     },
     "execution_count": 126,
     "metadata": {},
     "output_type": "execute_result"
    }
   ],
   "source": [
    "np.random.seed(2222)\n",
    "model.fit(X_train, y_train,epochs=40, batch_size=40, verbose=1,callbacks=[history],)"
   ]
  },
  {
   "cell_type": "code",
   "execution_count": 127,
   "metadata": {
    "scrolled": true
   },
   "outputs": [
    {
     "data": {
      "image/png": "[encoded data removed]",
      "text/plain": [
       "<Figure size 432x288 with 3 Axes>"
      ]
     },
     "metadata": {},
     "output_type": "display_data"
    }
   ],
   "source": [
    "fig, ax = plt.subplots(1,2)\n",
    "ax[0].matshow(W0, cmap = plt.cm.RdBu)\n",
    "ax[1].matshow(W1, cmap = plt.cm.RdBu)\n",
    "\n",
    "fig.subplots_adjust(right=0.8)\n",
    "cbar_ax = fig.add_axes([0.85, 0.15, 0.05, 0.7])\n"
   ]
  },
  {
   "cell_type": "code",
   "execution_count": 92,
   "metadata": {},
   "outputs": [
    {
     "data": {
      "text/plain": [
       "array([-9.50137004e-02,  2.97780558e-02, -8.67894143e-02, -9.35435593e-02,\n",
       "       -9.41332504e-02, -7.90044665e-04, -1.08787194e-02,  8.56442675e-02,\n",
       "       -9.04415324e-02,  8.09507743e-02, -6.12286143e-02,  9.83758047e-02,\n",
       "       -6.90031126e-02,  2.24503204e-02, -4.68009487e-02,  3.00551429e-02,\n",
       "        8.95644650e-02, -3.06259468e-02,  7.56300017e-02, -9.29243043e-02,\n",
       "        3.89666185e-02, -8.98940265e-02, -6.99904636e-02, -7.77187496e-02,\n",
       "        5.60235158e-02,  9.12303701e-02, -5.59425354e-03, -1.71647817e-02,\n",
       "        7.41829053e-02,  3.72893736e-02,  7.42604658e-02,  9.65189710e-02,\n",
       "       -8.68382081e-02,  7.75805935e-02, -1.05619766e-01,  6.73813745e-02,\n",
       "       -4.27301750e-02,  1.31354406e-02, -4.16781157e-02,  7.35177323e-02,\n",
       "        6.38854727e-02,  8.44599530e-02,  5.26364669e-02, -7.18535185e-02,\n",
       "        5.65730855e-02,  7.61650577e-02,  5.61185405e-02,  6.95003346e-02,\n",
       "       -1.81527585e-02, -3.07273865e-02,  6.34847358e-02, -2.55311057e-02,\n",
       "        4.38238457e-02, -7.42917806e-02,  3.65757719e-02, -4.71350513e-02,\n",
       "        1.61485001e-02, -8.26807022e-02,  7.25243241e-03, -2.58374736e-02,\n",
       "       -1.07577533e-01,  2.67386660e-02, -9.07131657e-02,  6.99062720e-02,\n",
       "        4.45588157e-02, -9.25140232e-02, -1.03803806e-01,  7.62252286e-02,\n",
       "        9.76049677e-02,  5.39838523e-03,  5.36935255e-02,  6.69399127e-02,\n",
       "        6.44503757e-02,  6.14607707e-02, -5.09410240e-02,  2.59393081e-02,\n",
       "        3.51467207e-02, -9.89893526e-02, -9.68981013e-02,  8.48970041e-02,\n",
       "        6.42961189e-02, -6.94389939e-02, -3.96791250e-02,  2.39150301e-02,\n",
       "       -9.01958793e-02,  3.83312181e-02, -6.28923625e-02, -3.93090993e-02,\n",
       "       -6.61765337e-02, -1.42348483e-02, -7.22123235e-02,  8.53612497e-02,\n",
       "       -1.05890751e-01,  1.31465271e-02,  1.94301978e-02, -4.11057249e-02,\n",
       "       -3.85909379e-02, -6.23563379e-02,  5.40127680e-02,  1.05234288e-01,\n",
       "       -5.53563610e-02, -6.10422194e-02, -6.08816743e-04, -5.87926209e-02,\n",
       "       -1.01711176e-01,  9.27086174e-03, -3.74622643e-03,  7.11254105e-02,\n",
       "       -3.71230841e-02, -4.68813926e-02, -4.40363362e-02, -7.16425404e-02,\n",
       "       -8.88525397e-02, -6.23377077e-02, -9.07383189e-02, -1.84191763e-02,\n",
       "        9.03618708e-02, -3.04126740e-02, -1.42902434e-02, -5.74476384e-02,\n",
       "       -3.55978385e-02, -4.93460894e-03,  5.68480119e-02,  6.66182563e-02,\n",
       "        9.05629620e-02,  1.06455840e-01,  2.54727677e-02,  2.06454024e-02,\n",
       "        6.02157414e-03, -1.86420754e-02, -8.90809968e-02, -1.52649656e-02,\n",
       "       -4.86821644e-02,  4.08721045e-02, -7.93082640e-02, -3.74659151e-03,\n",
       "        2.67337933e-02, -7.29070604e-02,  3.79832610e-02,  9.36969295e-02,\n",
       "       -1.84958577e-02,  1.63143352e-02,  4.20052782e-02,  5.04116043e-02,\n",
       "        6.56506047e-02,  6.91116080e-02, -5.66117465e-02,  5.29564247e-02,\n",
       "        8.73405412e-02,  4.24242765e-03, -8.27095062e-02,  1.08749159e-01,\n",
       "        4.40755561e-02,  8.22137520e-02,  5.56788519e-02, -6.97489083e-02,\n",
       "       -2.42894441e-02,  6.19134381e-02, -1.34349167e-02,  6.95546791e-02,\n",
       "        7.98366442e-02, -3.61147076e-02,  3.63661349e-03, -9.36979428e-02,\n",
       "       -8.91970545e-02, -5.80992959e-02, -2.81368047e-02, -7.61868060e-03,\n",
       "       -4.97439504e-02,  7.22234175e-02,  8.63894820e-05,  8.02805275e-03,\n",
       "       -4.97686341e-02, -1.02881417e-02, -9.56655964e-02,  9.58932713e-02,\n",
       "        2.98110917e-02, -2.22880021e-02,  7.91422501e-02,  4.35567722e-02,\n",
       "        2.29923651e-02, -9.68618840e-02, -1.03364557e-01, -1.08873308e-01,\n",
       "       -4.06160131e-02, -8.88798088e-02, -4.85169776e-02,  4.03754339e-02,\n",
       "        4.31548133e-02, -4.38048542e-02,  5.18712401e-03, -2.82413214e-02,\n",
       "        4.36978042e-03,  1.04686029e-01, -8.21440071e-02,  2.63370648e-02,\n",
       "        2.97437236e-02,  5.63117117e-03,  4.61570397e-02,  7.97947422e-02,\n",
       "       -6.89816624e-02,  9.87595096e-02, -7.62379169e-03, -6.08140752e-02,\n",
       "        3.76451239e-02,  7.09310547e-02,  1.96380839e-02, -7.52057135e-02,\n",
       "        4.86432388e-02, -8.53508934e-02, -3.36724520e-03,  8.32739994e-02,\n",
       "        1.03188522e-01, -8.91227946e-02, -8.68768767e-02, -4.79127020e-02,\n",
       "       -8.19585174e-02,  2.69234180e-03, -9.00670886e-04, -8.33759606e-02,\n",
       "       -5.11691943e-02, -3.01396847e-03, -2.60938480e-02, -5.36720343e-02,\n",
       "       -1.51622444e-02, -1.03685431e-01,  6.77720979e-02,  7.52254650e-02,\n",
       "        5.63740507e-02,  3.14582661e-02, -6.02404848e-02,  5.36146015e-03,\n",
       "        1.76842883e-02, -6.58481717e-02,  9.99449268e-02, -6.17422760e-02,\n",
       "       -4.63684052e-02, -3.03158760e-02, -1.04788885e-01,  1.08823232e-01,\n",
       "        2.12742761e-02,  5.03033772e-02,  8.79740715e-03, -8.11981931e-02,\n",
       "        4.37090546e-03,  3.13074216e-02,  5.26962429e-03, -1.04653239e-01,\n",
       "       -4.25600559e-02,  1.41626596e-02, -8.91464874e-02, -8.75038505e-02,\n",
       "        9.58021358e-02, -1.53003410e-02, -1.49711967e-03,  3.53596732e-02,\n",
       "        1.63470209e-03,  6.33037463e-02,  5.75238541e-02,  3.73328105e-02,\n",
       "       -9.96793360e-02,  1.83964297e-02,  1.64422318e-02, -6.75732791e-02,\n",
       "       -5.45088202e-03, -1.73668340e-02, -4.66628745e-02,  2.48938054e-03,\n",
       "        6.77579865e-02, -6.50939196e-02, -6.46480173e-02,  7.14993253e-02,\n",
       "        6.11327067e-02, -4.62077633e-02,  2.32150406e-03, -7.76247457e-02,\n",
       "        9.37584713e-02,  8.51216093e-02, -4.80749123e-02, -3.71404663e-02,\n",
       "       -1.23314038e-02, -7.31690973e-03, -6.56513870e-02,  5.04414067e-02,\n",
       "        8.10616538e-02, -2.75754482e-02, -9.50904638e-02, -8.95511359e-02,\n",
       "       -7.08414838e-02, -3.65078449e-07, -6.22381419e-02,  5.26024476e-02,\n",
       "        8.76864418e-02,  3.17958221e-02,  5.78404739e-02,  1.07140325e-01,\n",
       "        6.97859004e-02,  1.00701310e-01, -2.16920003e-02,  3.81012782e-02,\n",
       "       -8.95884484e-02, -2.06310973e-02, -2.66685337e-03, -1.00858770e-01,\n",
       "       -2.60170326e-02,  1.52077973e-02, -3.79835814e-03, -8.15391317e-02,\n",
       "        7.44809434e-02,  7.29778484e-02,  5.02689406e-02,  1.07881598e-01,\n",
       "       -6.84834570e-02, -7.25437403e-02, -1.08093046e-01,  3.90773267e-03,\n",
       "       -6.45532832e-02, -3.17469090e-02,  7.31857866e-03, -1.03330508e-01,\n",
       "       -7.64291361e-02,  6.58997819e-02, -6.53064251e-03,  9.48089436e-02,\n",
       "       -4.57773358e-03,  7.45492503e-02, -2.64972746e-02, -6.14031143e-02,\n",
       "       -7.27727935e-02,  8.40303376e-02,  7.10399374e-02,  3.92488763e-02,\n",
       "        1.86731294e-02, -5.26005141e-02,  6.55728057e-02, -6.17822222e-02,\n",
       "       -7.87424222e-02, -5.15750796e-03,  7.85577223e-02, -6.08773753e-02,\n",
       "       -5.26564792e-02,  9.20236781e-02,  1.30587295e-02,  2.66985670e-02,\n",
       "        3.43653783e-02,  7.95001909e-02,  5.39185777e-02, -1.03008255e-01,\n",
       "       -9.94586796e-02, -5.30841686e-02,  7.29445294e-02, -8.48770142e-03,\n",
       "        4.54199836e-02,  8.37866887e-02, -6.72086477e-02,  2.79176012e-02,\n",
       "       -5.54046296e-02,  9.18767378e-02,  2.89245769e-02, -6.06638156e-02,\n",
       "       -8.35941136e-02,  3.98942009e-02, -1.64895356e-02, -4.26350161e-02,\n",
       "       -8.90505761e-02, -3.49639207e-02, -7.76802152e-02, -2.60466710e-02,\n",
       "       -9.44429636e-03,  6.46918789e-02,  5.90243936e-03,  5.35124615e-02,\n",
       "        3.48853394e-02, -3.50759327e-02,  2.02125683e-02,  3.50672230e-02,\n",
       "       -6.82288259e-02,  6.90272227e-02,  3.19968835e-02, -1.05429381e-01,\n",
       "       -6.30259961e-02, -8.39635655e-02, -6.76043555e-02, -7.62055814e-03,\n",
       "        8.61496255e-02,  3.08571085e-02,  1.07049756e-01, -1.01263031e-01,\n",
       "       -8.70800763e-02,  1.03688873e-01,  1.05340481e-02, -3.83659527e-02,\n",
       "        1.07952051e-01,  7.55824223e-02,  4.23688367e-02, -4.78670001e-04,\n",
       "       -8.17057788e-02,  9.96945724e-02,  2.38935575e-02,  6.31977245e-02,\n",
       "       -6.55468702e-02, -2.79464424e-02,  8.18774626e-02, -4.69945483e-02,\n",
       "       -7.68213645e-02,  1.17069855e-02, -5.52981272e-02,  4.35803160e-02,\n",
       "        9.19506699e-03,  6.24229237e-02, -8.41176584e-02, -2.06054002e-02,\n",
       "        6.22350350e-02,  3.80369648e-02,  1.36509016e-02,  2.66114697e-02,\n",
       "       -2.31111348e-02,  1.57786831e-02,  3.85509655e-02, -3.47462669e-02,\n",
       "       -7.65882656e-02,  8.53802487e-02,  6.36024401e-02,  7.27070197e-02,\n",
       "       -9.07003805e-02, -4.27476317e-02, -5.48133478e-02,  2.70717219e-02,\n",
       "        7.83107355e-02,  2.56528482e-02, -1.89790428e-02,  2.16699392e-03,\n",
       "        5.07481620e-02, -9.13502946e-02,  7.74621218e-03,  1.46078020e-02,\n",
       "       -9.18202549e-02, -1.90841928e-02,  6.15992174e-02,  8.11829343e-02,\n",
       "       -2.63703614e-02,  5.35917506e-02,  4.42299023e-02, -1.07637018e-01,\n",
       "       -1.52414292e-02, -6.93906695e-02,  8.30831155e-02,  8.96200165e-02,\n",
       "        7.90200904e-02, -2.55543292e-02, -2.91475579e-02,  1.01293944e-01,\n",
       "       -6.10024817e-02,  7.80523792e-02,  7.00759664e-02, -6.90800324e-02,\n",
       "        7.62798712e-02,  1.06702082e-01,  2.84362808e-02,  3.23817953e-02,\n",
       "        5.04311398e-02, -6.26409948e-02, -6.92102313e-03, -5.45492508e-02,\n",
       "       -6.79002553e-02, -3.29216495e-02, -6.15592711e-02,  4.01983485e-02,\n",
       "        6.25047460e-02,  3.21026966e-02, -4.47334722e-02,  9.00621340e-02,\n",
       "        2.40333602e-02, -6.36035576e-02, -6.18213862e-02,  3.22711468e-03,\n",
       "       -8.10901970e-02,  8.16780701e-02,  6.73731342e-02,  9.80397239e-02,\n",
       "        1.78058967e-02, -8.27178359e-02,  9.68931988e-02,  3.73378769e-02],\n",
       "      dtype=float32)"
      ]
     },
     "execution_count": 92,
     "metadata": {},
     "output_type": "execute_result"
    }
   ],
   "source": [
    "W0.flatten()"
   ]
  },
  {
   "cell_type": "code",
   "execution_count": 128,
   "metadata": {},
   "outputs": [
    {
     "data": {
      "image/png": "[encoded data removed]",
      "text/plain": [
       "<Figure size 432x288 with 1 Axes>"
      ]
     },
     "metadata": {},
     "output_type": "display_data"
    }
   ],
   "source": [
    "plt.plot(history.history[\"loss\"])\n",
    "plt.savefig(\"función de costo.png\")"
   ]
  },
  {
   "cell_type": "code",
   "execution_count": 129,
   "metadata": {},
   "outputs": [
    {
     "data": {
      "image/png": "[encoded data removed]",
      "text/plain": [
       "<Figure size 432x288 with 1 Axes>"
      ]
     },
     "metadata": {},
     "output_type": "display_data"
    }
   ],
   "source": [
    "plt.plot(history.history[\"acc\"])\n",
    "plt.savefig(\"precisión del modelo.png\")"
   ]
  },
  {
   "cell_type": "code",
   "execution_count": 130,
   "metadata": {},
   "outputs": [
    {
     "data": {
      "text/plain": [
       "88    0\n",
       "19    1\n",
       "29    1\n",
       "31    0\n",
       "91    0\n",
       "Name: Clasificador, dtype: int64"
      ]
     },
     "execution_count": 130,
     "metadata": {},
     "output_type": "execute_result"
    }
   ],
   "source": [
    "y_train[:5]"
   ]
  },
  {
   "cell_type": "markdown",
   "metadata": {},
   "source": [
    "## Generando las predicciones"
   ]
  },
  {
   "cell_type": "code",
   "execution_count": 131,
   "metadata": {},
   "outputs": [
    {
     "data": {
      "text/plain": [
       "array([[0],\n",
       "       [1],\n",
       "       [1],\n",
       "       [0],\n",
       "       [0]], dtype=int32)"
      ]
     },
     "execution_count": 131,
     "metadata": {},
     "output_type": "execute_result"
    }
   ],
   "source": [
    "y_pred = model.predict_classes(X_train) # \n",
    "y_pred[:5]"
   ]
  },
  {
   "cell_type": "code",
   "execution_count": 132,
   "metadata": {},
   "outputs": [
    {
     "name": "stdout",
     "output_type": "stream",
     "text": [
      "21/21 [==============================] - 0s 6ms/step\n",
      "[0.23310361802577972, 0.9523809552192688]\n"
     ]
    }
   ],
   "source": [
    "score = model.evaluate(X_test, y_test,verbose=1)\n",
    "print(score)"
   ]
  },
  {
   "cell_type": "markdown",
   "metadata": {},
   "source": [
    "## Evaluando el modelo "
   ]
  },
  {
   "cell_type": "code",
   "execution_count": 133,
   "metadata": {
    "scrolled": true
   },
   "outputs": [],
   "source": [
    "# Import the modules from `sklearn.metrics`\n",
    "from sklearn.metrics import confusion_matrix, precision_score, recall_score, f1_score, cohen_kappa_score"
   ]
  },
  {
   "cell_type": "code",
   "execution_count": 134,
   "metadata": {
    "scrolled": false
   },
   "outputs": [
    {
     "name": "stdout",
     "output_type": "stream",
     "text": [
      "1 [0]\n",
      "0 [1]\n",
      "1 [1]\n",
      "1 [0]\n",
      "0 [0]\n",
      "0 [0]\n",
      "1 [0]\n",
      "0 [0]\n",
      "1 [1]\n",
      "1 [1]\n",
      "1 [0]\n",
      "1 [0]\n",
      "0 [1]\n",
      "1 [0]\n",
      "0 [1]\n",
      "0 [1]\n",
      "1 [0]\n",
      "0 [1]\n",
      "0 [1]\n",
      "0 [0]\n",
      "1 [1]\n"
     ]
    }
   ],
   "source": [
    "for y_t, yhat in zip(y_test , y_pred):\n",
    "    print (y_t, yhat)"
   ]
  },
  {
   "cell_type": "code",
   "execution_count": 139,
   "metadata": {
    "scrolled": true
   },
   "outputs": [
    {
     "data": {
      "text/plain": [
       "<matplotlib.collections.LineCollection at 0x7f58e8309710>"
      ]
     },
     "execution_count": 139,
     "metadata": {},
     "output_type": "execute_result"
    },
    {
     "data": {
      "image/png": "[encoded data removed]",
      "text/plain": [
       "<Figure size 432x288 with 1 Axes>"
      ]
     },
     "metadata": {},
     "output_type": "display_data"
    }
   ],
   "source": [
    "model.predict_proba(X_test)[np.where(y_test == 0, True, False)]\n",
    "plt.hist(model.predict_proba(X_test))\n",
    "plt.vlines(0.5, 0 ,15)"
   ]
  },
  {
   "cell_type": "code",
   "execution_count": 140,
   "metadata": {},
   "outputs": [
    {
     "name": "stdout",
     "output_type": "stream",
     "text": [
      "[[10  0]\n",
      " [ 0 11]]\n",
      "1.0\n",
      "1.0\n"
     ]
    }
   ],
   "source": [
    "# Confusion matrix en valores absolutos  solamente el test \n",
    "y_pred = np.where(model.predict_proba(X_test)>0.18,1,0)\n",
    "print(confusion_matrix(y_test, y_pred) )\n",
    "print(precision_score(y_test, y_pred))\n",
    "print(f1_score(y_test,y_pred))"
   ]
  },
  {
   "cell_type": "code",
   "execution_count": 141,
   "metadata": {
    "scrolled": true
   },
   "outputs": [
    {
     "name": "stdout",
     "output_type": "stream",
     "text": [
      "[[56  0]\n",
      " [ 0 45]]\n",
      "1.0\n",
      "1.0\n"
     ]
    }
   ],
   "source": [
    "## Considerando todo el data set \n",
    "y_hat_prob = np.where(model.predict_proba(X)>0.41,1,0)\n",
    "print(confusion_matrix(y, y_hat_prob) )\n",
    "print(precision_score(y, y_hat_prob))\n",
    "print(f1_score(y,y_hat_prob))"
   ]
  },
  {
   "cell_type": "markdown",
   "metadata": {},
   "source": [
    "# Guardando los pesos"
   ]
  },
  {
   "cell_type": "code",
   "execution_count": 142,
   "metadata": {},
   "outputs": [],
   "source": [
    "model.save(\"models/ModeloADAM0.75\") "
   ]
  },
  {
   "cell_type": "code",
   "execution_count": 143,
   "metadata": {},
   "outputs": [
    {
     "name": "stdout",
     "output_type": "stream",
     "text": [
      "21/21 [==============================] - 0s 1ms/step\n",
      "[0.23310361802577972, 0.9523809552192688]\n"
     ]
    }
   ],
   "source": [
    "score = model.evaluate(X_test, y_test,verbose=1)\n",
    "print(score)"
   ]
  },
  {
   "cell_type": "code",
   "execution_count": 37,
   "metadata": {},
   "outputs": [],
   "source": [
    "#model.load_weights(\"models/ModeloADAM0.95\")"
   ]
  },
  {
   "cell_type": "code",
   "execution_count": 38,
   "metadata": {
    "scrolled": true
   },
   "outputs": [
    {
     "name": "stdout",
     "output_type": "stream",
     "text": [
      "21/21 [==============================] - 0s 813us/step\n",
      "[0.6891007423400879, 0.523809552192688]\n"
     ]
    }
   ],
   "source": [
    "score = model.evaluate(X_test, y_test,verbose=1)\n",
    "print(score)"
   ]
  },
  {
   "cell_type": "code",
   "execution_count": null,
   "metadata": {},
   "outputs": [],
   "source": []
  },
  {
   "cell_type": "code",
   "execution_count": null,
   "metadata": {},
   "outputs": [],
   "source": []
  }
 ],
 "metadata": {
  "kernelspec": {
   "display_name": "Python 3",
   "language": "python",
   "name": "python3"
  },
  "language_info": {
   "codemirror_mode": {
    "name": "ipython",
    "version": 3
   },
   "file_extension": ".py",
   "mimetype": "text/x-python",
   "name": "python",
   "nbconvert_exporter": "python",
   "pygments_lexer": "ipython3",
   "version": "3.6.3"
  }
 },
 "nbformat": 4,
 "nbformat_minor": 2
}
